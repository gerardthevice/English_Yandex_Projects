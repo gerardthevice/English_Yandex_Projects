{
 "cells": [
  {
   "cell_type": "markdown",
   "metadata": {},
   "source": [
    "# Research of reliability of bank borrowers\n",
    "\n",
    "The customer is the credit department of a bank. It is necessary to understand whether the marital status and the number of children of the client affect the fact of repayment of the loan on time. The initial data of the bank is based on  statistics on the solvency of customers.\n",
    "\n",
    "The results of the study will be taken into account when building a **credit scoring** model — a special system that evaluates the ability of a potential borrower to repay a loan to a bank."
   ]
  },
  {
   "cell_type": "markdown",
   "metadata": {},
   "source": [
    "## Data preview "
   ]
  },
  {
   "cell_type": "code",
   "execution_count": 22,
   "metadata": {},
   "outputs": [
    {
     "data": {
      "text/html": [
       "<div>\n",
       "<style scoped>\n",
       "    .dataframe tbody tr th:only-of-type {\n",
       "        vertical-align: middle;\n",
       "    }\n",
       "\n",
       "    .dataframe tbody tr th {\n",
       "        vertical-align: top;\n",
       "    }\n",
       "\n",
       "    .dataframe thead th {\n",
       "        text-align: right;\n",
       "    }\n",
       "</style>\n",
       "<table border=\"1\" class=\"dataframe\">\n",
       "  <thead>\n",
       "    <tr style=\"text-align: right;\">\n",
       "      <th></th>\n",
       "      <th>children</th>\n",
       "      <th>days_employed</th>\n",
       "      <th>dob_years</th>\n",
       "      <th>education</th>\n",
       "      <th>education_id</th>\n",
       "      <th>family_status</th>\n",
       "      <th>family_status_id</th>\n",
       "      <th>gender</th>\n",
       "      <th>income_type</th>\n",
       "      <th>debt</th>\n",
       "      <th>total_income</th>\n",
       "      <th>purpose</th>\n",
       "    </tr>\n",
       "  </thead>\n",
       "  <tbody>\n",
       "    <tr>\n",
       "      <th>0</th>\n",
       "      <td>1</td>\n",
       "      <td>-8437.673028</td>\n",
       "      <td>42</td>\n",
       "      <td>высшее</td>\n",
       "      <td>0</td>\n",
       "      <td>женат / замужем</td>\n",
       "      <td>0</td>\n",
       "      <td>F</td>\n",
       "      <td>сотрудник</td>\n",
       "      <td>0</td>\n",
       "      <td>253875.639453</td>\n",
       "      <td>покупка жилья</td>\n",
       "    </tr>\n",
       "    <tr>\n",
       "      <th>1</th>\n",
       "      <td>1</td>\n",
       "      <td>-4024.803754</td>\n",
       "      <td>36</td>\n",
       "      <td>среднее</td>\n",
       "      <td>1</td>\n",
       "      <td>женат / замужем</td>\n",
       "      <td>0</td>\n",
       "      <td>F</td>\n",
       "      <td>сотрудник</td>\n",
       "      <td>0</td>\n",
       "      <td>112080.014102</td>\n",
       "      <td>приобретение автомобиля</td>\n",
       "    </tr>\n",
       "    <tr>\n",
       "      <th>2</th>\n",
       "      <td>0</td>\n",
       "      <td>-5623.422610</td>\n",
       "      <td>33</td>\n",
       "      <td>Среднее</td>\n",
       "      <td>1</td>\n",
       "      <td>женат / замужем</td>\n",
       "      <td>0</td>\n",
       "      <td>M</td>\n",
       "      <td>сотрудник</td>\n",
       "      <td>0</td>\n",
       "      <td>145885.952297</td>\n",
       "      <td>покупка жилья</td>\n",
       "    </tr>\n",
       "    <tr>\n",
       "      <th>3</th>\n",
       "      <td>3</td>\n",
       "      <td>-4124.747207</td>\n",
       "      <td>32</td>\n",
       "      <td>среднее</td>\n",
       "      <td>1</td>\n",
       "      <td>женат / замужем</td>\n",
       "      <td>0</td>\n",
       "      <td>M</td>\n",
       "      <td>сотрудник</td>\n",
       "      <td>0</td>\n",
       "      <td>267628.550329</td>\n",
       "      <td>дополнительное образование</td>\n",
       "    </tr>\n",
       "    <tr>\n",
       "      <th>4</th>\n",
       "      <td>0</td>\n",
       "      <td>340266.072047</td>\n",
       "      <td>53</td>\n",
       "      <td>среднее</td>\n",
       "      <td>1</td>\n",
       "      <td>гражданский брак</td>\n",
       "      <td>1</td>\n",
       "      <td>F</td>\n",
       "      <td>пенсионер</td>\n",
       "      <td>0</td>\n",
       "      <td>158616.077870</td>\n",
       "      <td>сыграть свадьбу</td>\n",
       "    </tr>\n",
       "    <tr>\n",
       "      <th>5</th>\n",
       "      <td>0</td>\n",
       "      <td>-926.185831</td>\n",
       "      <td>27</td>\n",
       "      <td>высшее</td>\n",
       "      <td>0</td>\n",
       "      <td>гражданский брак</td>\n",
       "      <td>1</td>\n",
       "      <td>M</td>\n",
       "      <td>компаньон</td>\n",
       "      <td>0</td>\n",
       "      <td>255763.565419</td>\n",
       "      <td>покупка жилья</td>\n",
       "    </tr>\n",
       "    <tr>\n",
       "      <th>6</th>\n",
       "      <td>0</td>\n",
       "      <td>-2879.202052</td>\n",
       "      <td>43</td>\n",
       "      <td>высшее</td>\n",
       "      <td>0</td>\n",
       "      <td>женат / замужем</td>\n",
       "      <td>0</td>\n",
       "      <td>F</td>\n",
       "      <td>компаньон</td>\n",
       "      <td>0</td>\n",
       "      <td>240525.971920</td>\n",
       "      <td>операции с жильем</td>\n",
       "    </tr>\n",
       "    <tr>\n",
       "      <th>7</th>\n",
       "      <td>0</td>\n",
       "      <td>-152.779569</td>\n",
       "      <td>50</td>\n",
       "      <td>СРЕДНЕЕ</td>\n",
       "      <td>1</td>\n",
       "      <td>женат / замужем</td>\n",
       "      <td>0</td>\n",
       "      <td>M</td>\n",
       "      <td>сотрудник</td>\n",
       "      <td>0</td>\n",
       "      <td>135823.934197</td>\n",
       "      <td>образование</td>\n",
       "    </tr>\n",
       "    <tr>\n",
       "      <th>8</th>\n",
       "      <td>2</td>\n",
       "      <td>-6929.865299</td>\n",
       "      <td>35</td>\n",
       "      <td>ВЫСШЕЕ</td>\n",
       "      <td>0</td>\n",
       "      <td>гражданский брак</td>\n",
       "      <td>1</td>\n",
       "      <td>F</td>\n",
       "      <td>сотрудник</td>\n",
       "      <td>0</td>\n",
       "      <td>95856.832424</td>\n",
       "      <td>на проведение свадьбы</td>\n",
       "    </tr>\n",
       "    <tr>\n",
       "      <th>9</th>\n",
       "      <td>0</td>\n",
       "      <td>-2188.756445</td>\n",
       "      <td>41</td>\n",
       "      <td>среднее</td>\n",
       "      <td>1</td>\n",
       "      <td>женат / замужем</td>\n",
       "      <td>0</td>\n",
       "      <td>M</td>\n",
       "      <td>сотрудник</td>\n",
       "      <td>0</td>\n",
       "      <td>144425.938277</td>\n",
       "      <td>покупка жилья для семьи</td>\n",
       "    </tr>\n",
       "  </tbody>\n",
       "</table>\n",
       "</div>"
      ],
      "text/plain": [
       "   children  days_employed  dob_years education  education_id  \\\n",
       "0         1   -8437.673028         42    высшее             0   \n",
       "1         1   -4024.803754         36   среднее             1   \n",
       "2         0   -5623.422610         33   Среднее             1   \n",
       "3         3   -4124.747207         32   среднее             1   \n",
       "4         0  340266.072047         53   среднее             1   \n",
       "5         0    -926.185831         27    высшее             0   \n",
       "6         0   -2879.202052         43    высшее             0   \n",
       "7         0    -152.779569         50   СРЕДНЕЕ             1   \n",
       "8         2   -6929.865299         35    ВЫСШЕЕ             0   \n",
       "9         0   -2188.756445         41   среднее             1   \n",
       "\n",
       "      family_status  family_status_id gender income_type  debt   total_income  \\\n",
       "0   женат / замужем                 0      F   сотрудник     0  253875.639453   \n",
       "1   женат / замужем                 0      F   сотрудник     0  112080.014102   \n",
       "2   женат / замужем                 0      M   сотрудник     0  145885.952297   \n",
       "3   женат / замужем                 0      M   сотрудник     0  267628.550329   \n",
       "4  гражданский брак                 1      F   пенсионер     0  158616.077870   \n",
       "5  гражданский брак                 1      M   компаньон     0  255763.565419   \n",
       "6   женат / замужем                 0      F   компаньон     0  240525.971920   \n",
       "7   женат / замужем                 0      M   сотрудник     0  135823.934197   \n",
       "8  гражданский брак                 1      F   сотрудник     0   95856.832424   \n",
       "9   женат / замужем                 0      M   сотрудник     0  144425.938277   \n",
       "\n",
       "                      purpose  \n",
       "0               покупка жилья  \n",
       "1     приобретение автомобиля  \n",
       "2               покупка жилья  \n",
       "3  дополнительное образование  \n",
       "4             сыграть свадьбу  \n",
       "5               покупка жилья  \n",
       "6           операции с жильем  \n",
       "7                 образование  \n",
       "8       на проведение свадьбы  \n",
       "9     покупка жилья для семьи  "
      ]
     },
     "metadata": {},
     "output_type": "display_data"
    },
    {
     "name": "stdout",
     "output_type": "stream",
     "text": [
      "<class 'pandas.core.frame.DataFrame'>\n",
      "RangeIndex: 21525 entries, 0 to 21524\n",
      "Data columns (total 12 columns):\n",
      " #   Column            Non-Null Count  Dtype  \n",
      "---  ------            --------------  -----  \n",
      " 0   children          21525 non-null  int64  \n",
      " 1   days_employed     19351 non-null  float64\n",
      " 2   dob_years         21525 non-null  int64  \n",
      " 3   education         21525 non-null  object \n",
      " 4   education_id      21525 non-null  int64  \n",
      " 5   family_status     21525 non-null  object \n",
      " 6   family_status_id  21525 non-null  int64  \n",
      " 7   gender            21525 non-null  object \n",
      " 8   income_type       21525 non-null  object \n",
      " 9   debt              21525 non-null  int64  \n",
      " 10  total_income      19351 non-null  float64\n",
      " 11  purpose           21525 non-null  object \n",
      "dtypes: float64(2), int64(5), object(5)\n",
      "memory usage: 2.0+ MB\n"
     ]
    },
    {
     "data": {
      "text/plain": [
       "свадьба                                   797\n",
       "на проведение свадьбы                     777\n",
       "сыграть свадьбу                           774\n",
       "операции с недвижимостью                  676\n",
       "покупка коммерческой недвижимости         664\n",
       "покупка жилья для сдачи                   653\n",
       "операции с жильем                         653\n",
       "операции с коммерческой недвижимостью     651\n",
       "жилье                                     647\n",
       "покупка жилья                             647\n",
       "покупка жилья для семьи                   641\n",
       "строительство собственной недвижимости    635\n",
       "недвижимость                              634\n",
       "операции со своей недвижимостью           630\n",
       "строительство жилой недвижимости          626\n",
       "покупка недвижимости                      624\n",
       "покупка своего жилья                      620\n",
       "строительство недвижимости                620\n",
       "ремонт жилью                              612\n",
       "покупка жилой недвижимости                607\n",
       "на покупку своего автомобиля              505\n",
       "заняться высшим образованием              496\n",
       "автомобиль                                495\n",
       "сделка с подержанным автомобилем          489\n",
       "свой автомобиль                           480\n",
       "на покупку подержанного автомобиля        479\n",
       "автомобили                                478\n",
       "на покупку автомобиля                     472\n",
       "приобретение автомобиля                   462\n",
       "дополнительное образование                462\n",
       "сделка с автомобилем                      455\n",
       "высшее образование                        453\n",
       "получение дополнительного образования     447\n",
       "образование                               447\n",
       "получение образования                     443\n",
       "профильное образование                    436\n",
       "получение высшего образования             426\n",
       "заняться образованием                     412\n",
       "Name: purpose, dtype: int64"
      ]
     },
     "execution_count": 22,
     "metadata": {},
     "output_type": "execute_result"
    }
   ],
   "source": [
    "import pandas as pd\n",
    "data = pd.read_csv('/datasets/data.csv')\n",
    "display(data.head(10)) # getting the table\n",
    "data.info() #  getting the general information\n",
    "data['children'].value_counts()\n",
    "data['dob_years'].value_counts()\n",
    "data['education'].value_counts()\n",
    "data['family_status'].value_counts()\n",
    "data['gender'].value_counts()\n",
    "data['income_type'].value_counts()\n",
    "data['total_income'].min()\n",
    "data['total_income'].max()\n",
    "data['purpose'].value_counts()\n"
   ]
  },
  {
   "cell_type": "markdown",
   "metadata": {},
   "source": [
    "**Conclusion**"
   ]
  },
  {
   "cell_type": "markdown",
   "metadata": {},
   "source": [
    "The table has 12 columns and 21525 rows. The data type in all columns is object, int64, float64.\n",
    "\n",
    "The table contains data about the borrower in the following form: \n",
    "* **children** — number of children in the family, \n",
    "* **days_employed** — total work experience in days, \n",
    "* **dob_years** — age of the client in years,\n",
    "* **education** — level of education of the client, \n",
    "* **education_id** — identifier of the level of education, \n",
    "* **family_status** — marital status,\n",
    "* **family_status_id** — identifier of marital status, \n",
    "* **gender** — gender of the client, \n",
    "* **income_type** — type of employment, \n",
    "* **debt** — whether there was a debt on repayment of loans, \n",
    "* **total_income** — monthly income, \n",
    "* **purpose** — the purpose of getting a loan. \n",
    "\n",
    "\n",
    "There are no mistakes in the column names, however, the number of values in the columns varies. It means that  there are missing values in the data. In the education column there are fonts of different case, in the days_employed column there are values with the '-' sign and abnormally large values. One XNA value has been detected in the gender column, the reason for that is that an error may have occurred during unloading or filling in the table. For correct analysis this data must be processed.\n",
    "\n",
    "Each row contains data about the borrower. Some of the columns contain general information (age, gender, education, number of children, type of employment, marital status). Other columns are directly related to his banking history (if there is a loan or not, monthly income, the purpose of getting a loan).\n",
    "\n",
    "We can say that there is enough data for analysis, however, it is necessary to eliminate gaps in the data.\n",
    "\n",
    "\n"
   ]
  },
  {
   "cell_type": "markdown",
   "metadata": {},
   "source": [
    "## Data preprocessing"
   ]
  },
  {
   "cell_type": "markdown",
   "metadata": {},
   "source": [
    "### Processing of the gaps"
   ]
  },
  {
   "cell_type": "code",
   "execution_count": 23,
   "metadata": {},
   "outputs": [
    {
     "name": "stdout",
     "output_type": "stream",
     "text": [
      "<class 'pandas.core.frame.DataFrame'>\n",
      "RangeIndex: 21525 entries, 0 to 21524\n",
      "Data columns (total 12 columns):\n",
      " #   Column            Non-Null Count  Dtype  \n",
      "---  ------            --------------  -----  \n",
      " 0   children          21525 non-null  int64  \n",
      " 1   days_employed     21525 non-null  float64\n",
      " 2   dob_years         21525 non-null  float64\n",
      " 3   education         21525 non-null  object \n",
      " 4   education_id      21525 non-null  int64  \n",
      " 5   family_status     21525 non-null  object \n",
      " 6   family_status_id  21525 non-null  int64  \n",
      " 7   gender            21525 non-null  object \n",
      " 8   income_type       21525 non-null  object \n",
      " 9   debt              21525 non-null  int64  \n",
      " 10  total_income      21525 non-null  float64\n",
      " 11  purpose           21525 non-null  object \n",
      "dtypes: float64(3), int64(4), object(5)\n",
      "memory usage: 2.0+ MB\n"
     ]
    }
   ],
   "source": [
    "# using isna() method to fing gaps and len() to count them\n",
    "len(data[data['days_employed'].isna()]) # 2174\n",
    "len(data[data['total_income'].isna()]) # 2174\n",
    "\n",
    "# working on the gaps in days_employed and total_income\n",
    "data.loc[data['days_employed'].isna(), 'days_employed'] = data['days_employed'].sort_values(ascending=True).median()\n",
    "data.loc[data['total_income'].isna(), 'total_income'] = data['total_income'].sort_values(ascending=True).median()\n",
    "\n",
    "# replacing 0 with the avarage \n",
    "data.loc[data['dob_years'] == 0, 'dob_years'] = data['dob_years'].sum() / data['dob_years'].count()\n",
    "data.info() \n"
   ]
  },
  {
   "cell_type": "markdown",
   "metadata": {},
   "source": [
    "**Conclusion**"
   ]
  },
  {
   "cell_type": "markdown",
   "metadata": {},
   "source": [
    "The first step is to detect gaps. To do this we used the isna() and len() method to count their number. We see 2174 gaps in each: 'days_employed' and 'total_income columns'. Since the data on the number of days and total income is important for the study and they make up 10% of the total data, they cannot be deleted along with the entire row. I must say that these are quantitative variables. Gaps in such variables are filled with characteristic values. To estimate the typical sample values we can use mean or median value. The zeros in 'dob_years' graph were replaced with the average value. After checking it seems that all the gaps are filled in. It is possible that such errors appeared when uploading data, or it could be the human factor."
   ]
  },
  {
   "cell_type": "markdown",
   "metadata": {},
   "source": [
    "### Replacing the data type"
   ]
  },
  {
   "cell_type": "code",
   "execution_count": 24,
   "metadata": {},
   "outputs": [],
   "source": [
    "# converting real numbers to integers\n",
    "data['days_employed'] = data['days_employed'].apply(abs)\n",
    "data['days_employed'] = data['days_employed'].astype('int')\n",
    "data.loc[data['days_employed'] > 30000, 'days_employed'] = data['days_employed'] / 24\n",
    "data['days_employed'] = data['days_employed'].astype('int')\n",
    "\n",
    "data['total_income'] = data['total_income'].astype('int')\n",
    "\n",
    "data['dob_years'] = data['dob_years'].astype('int')\n"
   ]
  },
  {
   "cell_type": "markdown",
   "metadata": {},
   "source": [
    "**Conclusion**"
   ]
  },
  {
   "cell_type": "markdown",
   "metadata": {},
   "source": [
    "There are several ways to change one data type to another, including to_numeric(), but it is suitable for converting string values to real values. In this case, we convert real numbers to integers using the as type('int') method. "
   ]
  },
  {
   "cell_type": "markdown",
   "metadata": {},
   "source": [
    "### Processing duplicates"
   ]
  },
  {
   "cell_type": "code",
   "execution_count": 25,
   "metadata": {},
   "outputs": [
    {
     "data": {
      "text/plain": [
       "0    14149\n",
       "1     4865\n",
       "2     2131\n",
       "3      330\n",
       "4       41\n",
       "5        9\n",
       "Name: children, dtype: int64"
      ]
     },
     "execution_count": 25,
     "metadata": {},
     "output_type": "execute_result"
    }
   ],
   "source": [
    "data.duplicated().sum() # found 54 duplicates\n",
    " # deleted them\n",
    "\n",
    "# checking hidden duplicates in 'children' column\n",
    "data['children'].unique()\n",
    "#array([ 1,  0,  3,  2, -1,  4, 20,  5])\n",
    "data['children'].value_counts() \n",
    "data['children'] = data['children'].replace(-1, 1)\n",
    "data['children'] = data['children'].replace(20, 2)\n",
    "data['children'].value_counts()\n"
   ]
  },
  {
   "cell_type": "code",
   "execution_count": 26,
   "metadata": {},
   "outputs": [
    {
     "data": {
      "text/plain": [
       "F      14236\n",
       "M       7288\n",
       "XNA        1\n",
       "Name: gender, dtype: int64"
      ]
     },
     "execution_count": 26,
     "metadata": {},
     "output_type": "execute_result"
    }
   ],
   "source": [
    "data['gender'].value_counts()\n",
    "# the share of anomalies in 'gender'  is 0.05% and it does not participate in the study, so we can leave it в исследовании, поэтому можно ее не трогать\n"
   ]
  },
  {
   "cell_type": "code",
   "execution_count": 27,
   "metadata": {},
   "outputs": [
    {
     "data": {
      "text/plain": [
       "среднее                15233\n",
       "высшее                  5260\n",
       "неоконченное высшее      744\n",
       "начальное                282\n",
       "ученая степень             6\n",
       "Name: education, dtype: int64"
      ]
     },
     "execution_count": 27,
     "metadata": {},
     "output_type": "execute_result"
    }
   ],
   "source": [
    "# checking for hidden duplicates in ‘education’\n",
    "data['education'].unique()\n",
    "data['education'] = data['education'].str.lower()\n",
    "data['education'].value_counts()\n",
    "\n"
   ]
  },
  {
   "cell_type": "code",
   "execution_count": 28,
   "metadata": {},
   "outputs": [
    {
     "data": {
      "text/plain": [
       "array(['женат / замужем', 'гражданский брак', 'вдовец / вдова',\n",
       "       'в разводе', 'Не женат / не замужем'], dtype=object)"
      ]
     },
     "execution_count": 28,
     "metadata": {},
     "output_type": "execute_result"
    }
   ],
   "source": [
    "# checking for hidden duplicates in family_status\n",
    "data['family_status'].unique()"
   ]
  },
  {
   "cell_type": "code",
   "execution_count": 29,
   "metadata": {},
   "outputs": [
    {
     "data": {
      "text/plain": [
       "array(['сотрудник', 'пенсионер', 'компаньон', 'госслужащий',\n",
       "       'безработный', 'предприниматель', 'студент', 'в декрете'],\n",
       "      dtype=object)"
      ]
     },
     "execution_count": 29,
     "metadata": {},
     "output_type": "execute_result"
    }
   ],
   "source": [
    "# checking for hidden duplicates in income_type\n",
    "data['income_type'].unique()"
   ]
  },
  {
   "cell_type": "code",
   "execution_count": 9,
   "metadata": {},
   "outputs": [
    {
     "data": {
      "text/plain": [
       "array(['покупка жилья', 'приобретение автомобиля',\n",
       "       'дополнительное образование', 'сыграть свадьбу',\n",
       "       'операции с жильем', 'образование', 'на проведение свадьбы',\n",
       "       'покупка жилья для семьи', 'покупка недвижимости',\n",
       "       'покупка коммерческой недвижимости', 'покупка жилой недвижимости',\n",
       "       'строительство собственной недвижимости', 'недвижимость',\n",
       "       'строительство недвижимости', 'на покупку подержанного автомобиля',\n",
       "       'на покупку своего автомобиля',\n",
       "       'операции с коммерческой недвижимостью',\n",
       "       'строительство жилой недвижимости', 'жилье',\n",
       "       'операции со своей недвижимостью', 'автомобили',\n",
       "       'заняться образованием', 'сделка с подержанным автомобилем',\n",
       "       'получение образования', 'автомобиль', 'свадьба',\n",
       "       'получение дополнительного образования', 'покупка своего жилья',\n",
       "       'операции с недвижимостью', 'получение высшего образования',\n",
       "       'свой автомобиль', 'сделка с автомобилем',\n",
       "       'профильное образование', 'высшее образование',\n",
       "       'покупка жилья для сдачи', 'на покупку автомобиля', 'ремонт жилью',\n",
       "       'заняться высшим образованием'], dtype=object)"
      ]
     },
     "execution_count": 9,
     "metadata": {},
     "output_type": "execute_result"
    }
   ],
   "source": [
    "# проверим наличие скрытых дуьликатов в столбце purpose\n",
    "data['purpose'].unique()"
   ]
  },
  {
   "cell_type": "code",
   "execution_count": 30,
   "metadata": {},
   "outputs": [
    {
     "data": {
      "text/plain": [
       "array([0, 1])"
      ]
     },
     "execution_count": 30,
     "metadata": {},
     "output_type": "execute_result"
    }
   ],
   "source": [
    "# checking for hidden duplicates in debt\n",
    "data['debt'].unique()"
   ]
  },
  {
   "cell_type": "code",
   "execution_count": 11,
   "metadata": {},
   "outputs": [
    {
     "data": {
      "text/plain": [
       "0"
      ]
     },
     "execution_count": 11,
     "metadata": {},
     "output_type": "execute_result"
    }
   ],
   "source": [
    "data = data.drop_duplicates().reset_index(drop=True)\n",
    "data.duplicated().sum()"
   ]
  },
  {
   "cell_type": "markdown",
   "metadata": {},
   "source": [
    "**Conclusion**"
   ]
  },
  {
   "cell_type": "markdown",
   "metadata": {},
   "source": [
    "We used the duplicated() method to fing duplicates and counted them using the sum() method. Thus, rows with a complete data match were identified. To remove duplicates, we used the data.drop_duplicates().reset_index(drop=True) method to avoid creating a column with old index values.\n",
    "\n",
    "The unique() method was applied to the columns education, children, debt, purpose, income_type, family_status, education, gender in order to find hidden duplicates. We found repetitions due to different case in the education column, converted everything to lowercase using the str.lower() method. When checking the \"Child Elements\" column, suspicious values -1 and 20 were found. Such values may occur when loading data. They can denote 1 child and 2 children respectively. The share of these values is insignificant, so it is most logical to replace these values with 1 and 2 using the replace() method.\n",
    "\n",
    "After checking the specified columns for duplicates, all duplicates were deleted using the drop_duplicates() method.\n",
    "\n"
   ]
  },
  {
   "cell_type": "markdown",
   "metadata": {},
   "source": [
    "### Lemmatization"
   ]
  },
  {
   "cell_type": "code",
   "execution_count": 31,
   "metadata": {},
   "outputs": [
    {
     "data": {
      "text/plain": [
       "Counter({'покупка': 10,\n",
       "         ' ': 96,\n",
       "         'жилье': 7,\n",
       "         'приобретение': 1,\n",
       "         'автомобиль': 9,\n",
       "         'дополнительный': 2,\n",
       "         'образование': 9,\n",
       "         'сыграть': 1,\n",
       "         'свадьба': 3,\n",
       "         'операция': 4,\n",
       "         'с': 5,\n",
       "         'на': 4,\n",
       "         'проведение': 1,\n",
       "         'для': 2,\n",
       "         'семья': 1,\n",
       "         'недвижимость': 10,\n",
       "         'коммерческий': 2,\n",
       "         'жилой': 2,\n",
       "         'строительство': 3,\n",
       "         'собственный': 1,\n",
       "         'подержать': 2,\n",
       "         'свой': 4,\n",
       "         'со': 1,\n",
       "         'заниматься': 2,\n",
       "         'сделка': 2,\n",
       "         'получение': 3,\n",
       "         'высокий': 3,\n",
       "         'профильный': 1,\n",
       "         'сдача': 1,\n",
       "         'ремонт': 1,\n",
       "         '\\n': 1})"
      ]
     },
     "metadata": {},
     "output_type": "display_data"
    },
    {
     "data": {
      "text/html": [
       "<div>\n",
       "<style scoped>\n",
       "    .dataframe tbody tr th:only-of-type {\n",
       "        vertical-align: middle;\n",
       "    }\n",
       "\n",
       "    .dataframe tbody tr th {\n",
       "        vertical-align: top;\n",
       "    }\n",
       "\n",
       "    .dataframe thead th {\n",
       "        text-align: right;\n",
       "    }\n",
       "</style>\n",
       "<table border=\"1\" class=\"dataframe\">\n",
       "  <thead>\n",
       "    <tr style=\"text-align: right;\">\n",
       "      <th></th>\n",
       "      <th>children</th>\n",
       "      <th>days_employed</th>\n",
       "      <th>dob_years</th>\n",
       "      <th>education</th>\n",
       "      <th>education_id</th>\n",
       "      <th>family_status</th>\n",
       "      <th>family_status_id</th>\n",
       "      <th>gender</th>\n",
       "      <th>income_type</th>\n",
       "      <th>debt</th>\n",
       "      <th>total_income</th>\n",
       "      <th>purpose</th>\n",
       "      <th>general_purposes</th>\n",
       "    </tr>\n",
       "  </thead>\n",
       "  <tbody>\n",
       "    <tr>\n",
       "      <th>0</th>\n",
       "      <td>1</td>\n",
       "      <td>8437</td>\n",
       "      <td>42</td>\n",
       "      <td>высшее</td>\n",
       "      <td>0</td>\n",
       "      <td>женат / замужем</td>\n",
       "      <td>0</td>\n",
       "      <td>F</td>\n",
       "      <td>сотрудник</td>\n",
       "      <td>0</td>\n",
       "      <td>253875</td>\n",
       "      <td>покупка жилья</td>\n",
       "      <td>недвижимость</td>\n",
       "    </tr>\n",
       "    <tr>\n",
       "      <th>1</th>\n",
       "      <td>1</td>\n",
       "      <td>4024</td>\n",
       "      <td>36</td>\n",
       "      <td>среднее</td>\n",
       "      <td>1</td>\n",
       "      <td>женат / замужем</td>\n",
       "      <td>0</td>\n",
       "      <td>F</td>\n",
       "      <td>сотрудник</td>\n",
       "      <td>0</td>\n",
       "      <td>112080</td>\n",
       "      <td>приобретение автомобиля</td>\n",
       "      <td>автомобиль</td>\n",
       "    </tr>\n",
       "    <tr>\n",
       "      <th>2</th>\n",
       "      <td>0</td>\n",
       "      <td>5623</td>\n",
       "      <td>33</td>\n",
       "      <td>среднее</td>\n",
       "      <td>1</td>\n",
       "      <td>женат / замужем</td>\n",
       "      <td>0</td>\n",
       "      <td>M</td>\n",
       "      <td>сотрудник</td>\n",
       "      <td>0</td>\n",
       "      <td>145885</td>\n",
       "      <td>покупка жилья</td>\n",
       "      <td>недвижимость</td>\n",
       "    </tr>\n",
       "    <tr>\n",
       "      <th>3</th>\n",
       "      <td>3</td>\n",
       "      <td>4124</td>\n",
       "      <td>32</td>\n",
       "      <td>среднее</td>\n",
       "      <td>1</td>\n",
       "      <td>женат / замужем</td>\n",
       "      <td>0</td>\n",
       "      <td>M</td>\n",
       "      <td>сотрудник</td>\n",
       "      <td>0</td>\n",
       "      <td>267628</td>\n",
       "      <td>дополнительное образование</td>\n",
       "      <td>образование</td>\n",
       "    </tr>\n",
       "    <tr>\n",
       "      <th>4</th>\n",
       "      <td>0</td>\n",
       "      <td>14177</td>\n",
       "      <td>53</td>\n",
       "      <td>среднее</td>\n",
       "      <td>1</td>\n",
       "      <td>гражданский брак</td>\n",
       "      <td>1</td>\n",
       "      <td>F</td>\n",
       "      <td>пенсионер</td>\n",
       "      <td>0</td>\n",
       "      <td>158616</td>\n",
       "      <td>сыграть свадьбу</td>\n",
       "      <td>свадьба</td>\n",
       "    </tr>\n",
       "  </tbody>\n",
       "</table>\n",
       "</div>"
      ],
      "text/plain": [
       "   children  days_employed  dob_years education  education_id  \\\n",
       "0         1           8437         42    высшее             0   \n",
       "1         1           4024         36   среднее             1   \n",
       "2         0           5623         33   среднее             1   \n",
       "3         3           4124         32   среднее             1   \n",
       "4         0          14177         53   среднее             1   \n",
       "\n",
       "      family_status  family_status_id gender income_type  debt  total_income  \\\n",
       "0   женат / замужем                 0      F   сотрудник     0        253875   \n",
       "1   женат / замужем                 0      F   сотрудник     0        112080   \n",
       "2   женат / замужем                 0      M   сотрудник     0        145885   \n",
       "3   женат / замужем                 0      M   сотрудник     0        267628   \n",
       "4  гражданский брак                 1      F   пенсионер     0        158616   \n",
       "\n",
       "                      purpose general_purposes  \n",
       "0               покупка жилья     недвижимость  \n",
       "1     приобретение автомобиля       автомобиль  \n",
       "2               покупка жилья     недвижимость  \n",
       "3  дополнительное образование      образование  \n",
       "4             сыграть свадьбу          свадьба  "
      ]
     },
     "metadata": {},
     "output_type": "display_data"
    },
    {
     "data": {
      "text/plain": [
       "недвижимость    10840\n",
       "автомобиль       4315\n",
       "образование      4022\n",
       "свадьба          2348\n",
       "Name: general_purposes, dtype: int64"
      ]
     },
     "execution_count": 31,
     "metadata": {},
     "output_type": "execute_result"
    }
   ],
   "source": [
    "# calling for Pymystem3 library\n",
    "from pymystem3 import Mystem\n",
    "from collections import Counter\n",
    "m = Mystem() \n",
    "text = data['purpose'].unique()\n",
    "separator = ' '\n",
    "text = separator.join(text)\n",
    "lemmas = (m.lemmatize(text))\n",
    "display(Counter(lemmas)) \n",
    "\n",
    "# creating a function\n",
    "def lemmas_purpose(row):\n",
    "    purpose = row['purpose']\n",
    "    purpose_lemmas = m.lemmatize(purpose)\n",
    "    if ('недвижимость' in purpose_lemmas or 'жилье' in purpose_lemmas):\n",
    "        return 'недвижимость'\n",
    "    elif ('свадьба' in purpose_lemmas or 'сыграть' in purpose_lemmas):\n",
    "        return 'свадьба'\n",
    "    elif 'автомобиль' in purpose_lemmas:\n",
    "        return 'автомобиль'\n",
    "    elif 'образование' in purpose_lemmas:\n",
    "        return 'образование'\n",
    "    else:\n",
    "        return 'цель не определена'\n",
    "\n",
    "data['general_purposes'] = data.apply(lemmas_purpose, axis = 1)\n",
    "display(data.head())\n",
    "data['general_purposes'].value_counts()\n",
    "    \n",
    " "
   ]
  },
  {
   "cell_type": "markdown",
   "metadata": {},
   "source": [
    "**Conclusion**"
   ]
  },
  {
   "cell_type": "markdown",
   "metadata": {},
   "source": [
    "We found lemmas in the values in 'purpose'  and calculated them. This revealed the main goals of getting a loan. For lemmatization it was necessary to unload the Pymystem3 library then we found all the unique values in the purpose column and performed lemmization. With the help of Counter the frequency of occurrence of words was calculated. Then we identified the most common categories by entering a function in which the applied the method that lematized each cell of the purpose column and checked which category was found. Thus,  four largest groups of borrowers were found."
   ]
  },
  {
   "cell_type": "markdown",
   "metadata": {},
   "source": [
    "### Categorization of the data"
   ]
  },
  {
   "cell_type": "code",
   "execution_count": 32,
   "metadata": {},
   "outputs": [
    {
     "data": {
      "text/html": [
       "<div>\n",
       "<style scoped>\n",
       "    .dataframe tbody tr th:only-of-type {\n",
       "        vertical-align: middle;\n",
       "    }\n",
       "\n",
       "    .dataframe tbody tr th {\n",
       "        vertical-align: top;\n",
       "    }\n",
       "\n",
       "    .dataframe thead th {\n",
       "        text-align: right;\n",
       "    }\n",
       "</style>\n",
       "<table border=\"1\" class=\"dataframe\">\n",
       "  <thead>\n",
       "    <tr style=\"text-align: right;\">\n",
       "      <th></th>\n",
       "      <th>education</th>\n",
       "    </tr>\n",
       "  </thead>\n",
       "  <tbody>\n",
       "    <tr>\n",
       "      <th>0</th>\n",
       "      <td>высшее</td>\n",
       "    </tr>\n",
       "    <tr>\n",
       "      <th>1</th>\n",
       "      <td>среднее</td>\n",
       "    </tr>\n",
       "    <tr>\n",
       "      <th>13</th>\n",
       "      <td>неоконченное высшее</td>\n",
       "    </tr>\n",
       "    <tr>\n",
       "      <th>31</th>\n",
       "      <td>начальное</td>\n",
       "    </tr>\n",
       "    <tr>\n",
       "      <th>2963</th>\n",
       "      <td>ученая степень</td>\n",
       "    </tr>\n",
       "  </tbody>\n",
       "</table>\n",
       "</div>"
      ],
      "text/plain": [
       "                education\n",
       "0                  высшее\n",
       "1                 среднее\n",
       "13    неоконченное высшее\n",
       "31              начальное\n",
       "2963       ученая степень"
      ]
     },
     "execution_count": 32,
     "metadata": {},
     "output_type": "execute_result"
    }
   ],
   "source": [
    "# getting categories\n",
    "data[['education']].drop_duplicates()\n"
   ]
  },
  {
   "cell_type": "code",
   "execution_count": 33,
   "metadata": {},
   "outputs": [
    {
     "data": {
      "text/html": [
       "<div>\n",
       "<style scoped>\n",
       "    .dataframe tbody tr th:only-of-type {\n",
       "        vertical-align: middle;\n",
       "    }\n",
       "\n",
       "    .dataframe tbody tr th {\n",
       "        vertical-align: top;\n",
       "    }\n",
       "\n",
       "    .dataframe thead th {\n",
       "        text-align: right;\n",
       "    }\n",
       "</style>\n",
       "<table border=\"1\" class=\"dataframe\">\n",
       "  <thead>\n",
       "    <tr style=\"text-align: right;\">\n",
       "      <th></th>\n",
       "      <th>family_status</th>\n",
       "    </tr>\n",
       "  </thead>\n",
       "  <tbody>\n",
       "    <tr>\n",
       "      <th>0</th>\n",
       "      <td>женат / замужем</td>\n",
       "    </tr>\n",
       "    <tr>\n",
       "      <th>4</th>\n",
       "      <td>гражданский брак</td>\n",
       "    </tr>\n",
       "    <tr>\n",
       "      <th>18</th>\n",
       "      <td>вдовец / вдова</td>\n",
       "    </tr>\n",
       "    <tr>\n",
       "      <th>19</th>\n",
       "      <td>в разводе</td>\n",
       "    </tr>\n",
       "    <tr>\n",
       "      <th>24</th>\n",
       "      <td>Не женат / не замужем</td>\n",
       "    </tr>\n",
       "  </tbody>\n",
       "</table>\n",
       "</div>"
      ],
      "text/plain": [
       "            family_status\n",
       "0         женат / замужем\n",
       "4        гражданский брак\n",
       "18         вдовец / вдова\n",
       "19              в разводе\n",
       "24  Не женат / не замужем"
      ]
     },
     "execution_count": 33,
     "metadata": {},
     "output_type": "execute_result"
    }
   ],
   "source": [
    "data[['family_status']].drop_duplicates()\n"
   ]
  },
  {
   "cell_type": "code",
   "execution_count": 34,
   "metadata": {},
   "outputs": [
    {
     "data": {
      "text/html": [
       "<div>\n",
       "<style scoped>\n",
       "    .dataframe tbody tr th:only-of-type {\n",
       "        vertical-align: middle;\n",
       "    }\n",
       "\n",
       "    .dataframe tbody tr th {\n",
       "        vertical-align: top;\n",
       "    }\n",
       "\n",
       "    .dataframe thead th {\n",
       "        text-align: right;\n",
       "    }\n",
       "</style>\n",
       "<table border=\"1\" class=\"dataframe\">\n",
       "  <thead>\n",
       "    <tr style=\"text-align: right;\">\n",
       "      <th></th>\n",
       "      <th>family_status</th>\n",
       "    </tr>\n",
       "    <tr>\n",
       "      <th>family_status_id</th>\n",
       "      <th></th>\n",
       "    </tr>\n",
       "  </thead>\n",
       "  <tbody>\n",
       "    <tr>\n",
       "      <th>0</th>\n",
       "      <td>женат / замужем</td>\n",
       "    </tr>\n",
       "    <tr>\n",
       "      <th>1</th>\n",
       "      <td>гражданский брак</td>\n",
       "    </tr>\n",
       "    <tr>\n",
       "      <th>2</th>\n",
       "      <td>вдовец / вдова</td>\n",
       "    </tr>\n",
       "    <tr>\n",
       "      <th>3</th>\n",
       "      <td>в разводе</td>\n",
       "    </tr>\n",
       "    <tr>\n",
       "      <th>4</th>\n",
       "      <td>Не женат / не замужем</td>\n",
       "    </tr>\n",
       "  </tbody>\n",
       "</table>\n",
       "</div>"
      ],
      "text/plain": [
       "                          family_status\n",
       "family_status_id                       \n",
       "0                       женат / замужем\n",
       "1                      гражданский брак\n",
       "2                        вдовец / вдова\n",
       "3                             в разводе\n",
       "4                 Не женат / не замужем"
      ]
     },
     "execution_count": 34,
     "metadata": {},
     "output_type": "execute_result"
    }
   ],
   "source": [
    "data[['family_status_id', 'family_status']].drop_duplicates().set_index('family_status_id')\n"
   ]
  },
  {
   "cell_type": "code",
   "execution_count": 35,
   "metadata": {},
   "outputs": [
    {
     "data": {
      "text/html": [
       "<div>\n",
       "<style scoped>\n",
       "    .dataframe tbody tr th:only-of-type {\n",
       "        vertical-align: middle;\n",
       "    }\n",
       "\n",
       "    .dataframe tbody tr th {\n",
       "        vertical-align: top;\n",
       "    }\n",
       "\n",
       "    .dataframe thead th {\n",
       "        text-align: right;\n",
       "    }\n",
       "</style>\n",
       "<table border=\"1\" class=\"dataframe\">\n",
       "  <thead>\n",
       "    <tr style=\"text-align: right;\">\n",
       "      <th></th>\n",
       "      <th>income_type</th>\n",
       "    </tr>\n",
       "  </thead>\n",
       "  <tbody>\n",
       "    <tr>\n",
       "      <th>0</th>\n",
       "      <td>сотрудник</td>\n",
       "    </tr>\n",
       "    <tr>\n",
       "      <th>4</th>\n",
       "      <td>пенсионер</td>\n",
       "    </tr>\n",
       "    <tr>\n",
       "      <th>5</th>\n",
       "      <td>компаньон</td>\n",
       "    </tr>\n",
       "    <tr>\n",
       "      <th>26</th>\n",
       "      <td>госслужащий</td>\n",
       "    </tr>\n",
       "    <tr>\n",
       "      <th>3133</th>\n",
       "      <td>безработный</td>\n",
       "    </tr>\n",
       "    <tr>\n",
       "      <th>5936</th>\n",
       "      <td>предприниматель</td>\n",
       "    </tr>\n",
       "    <tr>\n",
       "      <th>9410</th>\n",
       "      <td>студент</td>\n",
       "    </tr>\n",
       "    <tr>\n",
       "      <th>20845</th>\n",
       "      <td>в декрете</td>\n",
       "    </tr>\n",
       "  </tbody>\n",
       "</table>\n",
       "</div>"
      ],
      "text/plain": [
       "           income_type\n",
       "0            сотрудник\n",
       "4            пенсионер\n",
       "5            компаньон\n",
       "26         госслужащий\n",
       "3133       безработный\n",
       "5936   предприниматель\n",
       "9410           студент\n",
       "20845        в декрете"
      ]
     },
     "execution_count": 35,
     "metadata": {},
     "output_type": "execute_result"
    }
   ],
   "source": [
    "data[['income_type']].drop_duplicates()\n"
   ]
  },
  {
   "cell_type": "code",
   "execution_count": 36,
   "metadata": {},
   "outputs": [
    {
     "data": {
      "text/html": [
       "<div>\n",
       "<style scoped>\n",
       "    .dataframe tbody tr th:only-of-type {\n",
       "        vertical-align: middle;\n",
       "    }\n",
       "\n",
       "    .dataframe tbody tr th {\n",
       "        vertical-align: top;\n",
       "    }\n",
       "\n",
       "    .dataframe thead th {\n",
       "        text-align: right;\n",
       "    }\n",
       "</style>\n",
       "<table border=\"1\" class=\"dataframe\">\n",
       "  <thead>\n",
       "    <tr style=\"text-align: right;\">\n",
       "      <th></th>\n",
       "      <th>purpose</th>\n",
       "    </tr>\n",
       "  </thead>\n",
       "  <tbody>\n",
       "    <tr>\n",
       "      <th>0</th>\n",
       "      <td>покупка жилья</td>\n",
       "    </tr>\n",
       "    <tr>\n",
       "      <th>1</th>\n",
       "      <td>приобретение автомобиля</td>\n",
       "    </tr>\n",
       "    <tr>\n",
       "      <th>3</th>\n",
       "      <td>дополнительное образование</td>\n",
       "    </tr>\n",
       "    <tr>\n",
       "      <th>4</th>\n",
       "      <td>сыграть свадьбу</td>\n",
       "    </tr>\n",
       "    <tr>\n",
       "      <th>6</th>\n",
       "      <td>операции с жильем</td>\n",
       "    </tr>\n",
       "    <tr>\n",
       "      <th>7</th>\n",
       "      <td>образование</td>\n",
       "    </tr>\n",
       "    <tr>\n",
       "      <th>8</th>\n",
       "      <td>на проведение свадьбы</td>\n",
       "    </tr>\n",
       "    <tr>\n",
       "      <th>9</th>\n",
       "      <td>покупка жилья для семьи</td>\n",
       "    </tr>\n",
       "    <tr>\n",
       "      <th>10</th>\n",
       "      <td>покупка недвижимости</td>\n",
       "    </tr>\n",
       "    <tr>\n",
       "      <th>11</th>\n",
       "      <td>покупка коммерческой недвижимости</td>\n",
       "    </tr>\n",
       "    <tr>\n",
       "      <th>14</th>\n",
       "      <td>покупка жилой недвижимости</td>\n",
       "    </tr>\n",
       "    <tr>\n",
       "      <th>15</th>\n",
       "      <td>строительство собственной недвижимости</td>\n",
       "    </tr>\n",
       "    <tr>\n",
       "      <th>16</th>\n",
       "      <td>недвижимость</td>\n",
       "    </tr>\n",
       "    <tr>\n",
       "      <th>17</th>\n",
       "      <td>строительство недвижимости</td>\n",
       "    </tr>\n",
       "    <tr>\n",
       "      <th>18</th>\n",
       "      <td>на покупку подержанного автомобиля</td>\n",
       "    </tr>\n",
       "    <tr>\n",
       "      <th>19</th>\n",
       "      <td>на покупку своего автомобиля</td>\n",
       "    </tr>\n",
       "    <tr>\n",
       "      <th>24</th>\n",
       "      <td>операции с коммерческой недвижимостью</td>\n",
       "    </tr>\n",
       "    <tr>\n",
       "      <th>29</th>\n",
       "      <td>строительство жилой недвижимости</td>\n",
       "    </tr>\n",
       "    <tr>\n",
       "      <th>31</th>\n",
       "      <td>жилье</td>\n",
       "    </tr>\n",
       "    <tr>\n",
       "      <th>34</th>\n",
       "      <td>операции со своей недвижимостью</td>\n",
       "    </tr>\n",
       "    <tr>\n",
       "      <th>36</th>\n",
       "      <td>автомобили</td>\n",
       "    </tr>\n",
       "    <tr>\n",
       "      <th>39</th>\n",
       "      <td>заняться образованием</td>\n",
       "    </tr>\n",
       "    <tr>\n",
       "      <th>41</th>\n",
       "      <td>сделка с подержанным автомобилем</td>\n",
       "    </tr>\n",
       "    <tr>\n",
       "      <th>42</th>\n",
       "      <td>получение образования</td>\n",
       "    </tr>\n",
       "    <tr>\n",
       "      <th>49</th>\n",
       "      <td>автомобиль</td>\n",
       "    </tr>\n",
       "    <tr>\n",
       "      <th>51</th>\n",
       "      <td>свадьба</td>\n",
       "    </tr>\n",
       "    <tr>\n",
       "      <th>52</th>\n",
       "      <td>получение дополнительного образования</td>\n",
       "    </tr>\n",
       "    <tr>\n",
       "      <th>53</th>\n",
       "      <td>покупка своего жилья</td>\n",
       "    </tr>\n",
       "    <tr>\n",
       "      <th>59</th>\n",
       "      <td>операции с недвижимостью</td>\n",
       "    </tr>\n",
       "    <tr>\n",
       "      <th>62</th>\n",
       "      <td>получение высшего образования</td>\n",
       "    </tr>\n",
       "    <tr>\n",
       "      <th>77</th>\n",
       "      <td>свой автомобиль</td>\n",
       "    </tr>\n",
       "    <tr>\n",
       "      <th>78</th>\n",
       "      <td>сделка с автомобилем</td>\n",
       "    </tr>\n",
       "    <tr>\n",
       "      <th>81</th>\n",
       "      <td>профильное образование</td>\n",
       "    </tr>\n",
       "    <tr>\n",
       "      <th>85</th>\n",
       "      <td>высшее образование</td>\n",
       "    </tr>\n",
       "    <tr>\n",
       "      <th>87</th>\n",
       "      <td>покупка жилья для сдачи</td>\n",
       "    </tr>\n",
       "    <tr>\n",
       "      <th>117</th>\n",
       "      <td>на покупку автомобиля</td>\n",
       "    </tr>\n",
       "    <tr>\n",
       "      <th>139</th>\n",
       "      <td>ремонт жилью</td>\n",
       "    </tr>\n",
       "    <tr>\n",
       "      <th>176</th>\n",
       "      <td>заняться высшим образованием</td>\n",
       "    </tr>\n",
       "  </tbody>\n",
       "</table>\n",
       "</div>"
      ],
      "text/plain": [
       "                                    purpose\n",
       "0                             покупка жилья\n",
       "1                   приобретение автомобиля\n",
       "3                дополнительное образование\n",
       "4                           сыграть свадьбу\n",
       "6                         операции с жильем\n",
       "7                               образование\n",
       "8                     на проведение свадьбы\n",
       "9                   покупка жилья для семьи\n",
       "10                     покупка недвижимости\n",
       "11        покупка коммерческой недвижимости\n",
       "14               покупка жилой недвижимости\n",
       "15   строительство собственной недвижимости\n",
       "16                             недвижимость\n",
       "17               строительство недвижимости\n",
       "18       на покупку подержанного автомобиля\n",
       "19             на покупку своего автомобиля\n",
       "24    операции с коммерческой недвижимостью\n",
       "29         строительство жилой недвижимости\n",
       "31                                    жилье\n",
       "34          операции со своей недвижимостью\n",
       "36                               автомобили\n",
       "39                    заняться образованием\n",
       "41         сделка с подержанным автомобилем\n",
       "42                    получение образования\n",
       "49                               автомобиль\n",
       "51                                  свадьба\n",
       "52    получение дополнительного образования\n",
       "53                     покупка своего жилья\n",
       "59                 операции с недвижимостью\n",
       "62            получение высшего образования\n",
       "77                          свой автомобиль\n",
       "78                     сделка с автомобилем\n",
       "81                   профильное образование\n",
       "85                       высшее образование\n",
       "87                  покупка жилья для сдачи\n",
       "117                   на покупку автомобиля\n",
       "139                            ремонт жилью\n",
       "176            заняться высшим образованием"
      ]
     },
     "execution_count": 36,
     "metadata": {},
     "output_type": "execute_result"
    }
   ],
   "source": [
    "data[['purpose']].drop_duplicates()\n"
   ]
  },
  {
   "cell_type": "markdown",
   "metadata": {},
   "source": [
    "**Conclusion**"
   ]
  },
  {
   "cell_type": "markdown",
   "metadata": {},
   "source": [
    "At this stage we have studied dictionaries with categorical variables. Categorization serves as a tool for detecting what categories there are in the dataframe in general and in what format they are recorded."
   ]
  },
  {
   "cell_type": "markdown",
   "metadata": {},
   "source": [
    "## The questions of the research"
   ]
  },
  {
   "cell_type": "markdown",
   "metadata": {},
   "source": [
    "-\tIs there correlation between having children and repayment of the loan on time?"
   ]
  },
  {
   "cell_type": "code",
   "execution_count": 42,
   "metadata": {},
   "outputs": [
    {
     "data": {
      "text/html": [
       "<div>\n",
       "<style scoped>\n",
       "    .dataframe tbody tr th:only-of-type {\n",
       "        vertical-align: middle;\n",
       "    }\n",
       "\n",
       "    .dataframe tbody tr th {\n",
       "        vertical-align: top;\n",
       "    }\n",
       "\n",
       "    .dataframe thead th {\n",
       "        text-align: right;\n",
       "    }\n",
       "</style>\n",
       "<table border=\"1\" class=\"dataframe\">\n",
       "  <thead>\n",
       "    <tr style=\"text-align: right;\">\n",
       "      <th></th>\n",
       "      <th>has_debt</th>\n",
       "      <th>total</th>\n",
       "      <th>%</th>\n",
       "    </tr>\n",
       "    <tr>\n",
       "      <th>children</th>\n",
       "      <th></th>\n",
       "      <th></th>\n",
       "      <th></th>\n",
       "    </tr>\n",
       "  </thead>\n",
       "  <tbody>\n",
       "    <tr>\n",
       "      <th>5</th>\n",
       "      <td>0</td>\n",
       "      <td>9</td>\n",
       "      <td>0.000000</td>\n",
       "    </tr>\n",
       "    <tr>\n",
       "      <th>4</th>\n",
       "      <td>4</td>\n",
       "      <td>41</td>\n",
       "      <td>9.756098</td>\n",
       "    </tr>\n",
       "    <tr>\n",
       "      <th>3</th>\n",
       "      <td>27</td>\n",
       "      <td>330</td>\n",
       "      <td>8.181818</td>\n",
       "    </tr>\n",
       "    <tr>\n",
       "      <th>2</th>\n",
       "      <td>202</td>\n",
       "      <td>2131</td>\n",
       "      <td>9.479118</td>\n",
       "    </tr>\n",
       "    <tr>\n",
       "      <th>1</th>\n",
       "      <td>445</td>\n",
       "      <td>4865</td>\n",
       "      <td>9.146968</td>\n",
       "    </tr>\n",
       "    <tr>\n",
       "      <th>0</th>\n",
       "      <td>1063</td>\n",
       "      <td>14149</td>\n",
       "      <td>7.512898</td>\n",
       "    </tr>\n",
       "  </tbody>\n",
       "</table>\n",
       "</div>"
      ],
      "text/plain": [
       "          has_debt  total         %\n",
       "children                           \n",
       "5                0      9  0.000000\n",
       "4                4     41  9.756098\n",
       "3               27    330  8.181818\n",
       "2              202   2131  9.479118\n",
       "1              445   4865  9.146968\n",
       "0             1063  14149  7.512898"
      ]
     },
     "metadata": {},
     "output_type": "display_data"
    }
   ],
   "source": [
    "# creating a table for children and debt\n",
    "children_pivot = data.pivot_table(index = ['children'], values = 'debt', aggfunc = ['sum', 'count', 'mean'])\n",
    "children_pivot['mean'] = children_pivot['mean'] * 100 # counting the percentage\n",
    "children_pivot.columns = ['has_debt', 'total', '%'] # creating columns\n",
    "children_pivot = children_pivot.sort_values(by = 'children', ascending = False) # sorting\n",
    "display(children_pivot)"
   ]
  },
  {
   "cell_type": "markdown",
   "metadata": {},
   "source": [
    "**Conclusion**"
   ]
  },
  {
   "cell_type": "markdown",
   "metadata": {},
   "source": [
    "According to the results of the summary table, we see that the largest percentage of those with a loan (9.7%) have 4 children, followed by families with 2 children (9.5%) and families with 1 child (9.1%). The proportion of families with 3 children is  1% lower than with one, two and four children. However, the share of those with a loan among families without children is 7.5%. Thus, the average debt rate for families with children is 9.1%, while only 7.5% of families without children have a loan. The difference is 1.5% and does not seem significant. It is also worth bearing in mind that the absolute number of loans in families without children is higher."
   ]
  },
  {
   "cell_type": "markdown",
   "metadata": {},
   "source": [
    "- Is there a correlation between marital status and repayment of the loan on time?"
   ]
  },
  {
   "cell_type": "code",
   "execution_count": 41,
   "metadata": {},
   "outputs": [
    {
     "data": {
      "text/html": [
       "<div>\n",
       "<style scoped>\n",
       "    .dataframe tbody tr th:only-of-type {\n",
       "        vertical-align: middle;\n",
       "    }\n",
       "\n",
       "    .dataframe tbody tr th {\n",
       "        vertical-align: top;\n",
       "    }\n",
       "\n",
       "    .dataframe thead th {\n",
       "        text-align: right;\n",
       "    }\n",
       "</style>\n",
       "<table border=\"1\" class=\"dataframe\">\n",
       "  <thead>\n",
       "    <tr style=\"text-align: right;\">\n",
       "      <th></th>\n",
       "      <th>has_debt</th>\n",
       "      <th>total</th>\n",
       "      <th>%</th>\n",
       "    </tr>\n",
       "    <tr>\n",
       "      <th>family_status</th>\n",
       "      <th></th>\n",
       "      <th></th>\n",
       "      <th></th>\n",
       "    </tr>\n",
       "  </thead>\n",
       "  <tbody>\n",
       "    <tr>\n",
       "      <th>женат / замужем</th>\n",
       "      <td>931</td>\n",
       "      <td>12380</td>\n",
       "      <td>7.520194</td>\n",
       "    </tr>\n",
       "    <tr>\n",
       "      <th>гражданский брак</th>\n",
       "      <td>388</td>\n",
       "      <td>4177</td>\n",
       "      <td>9.288963</td>\n",
       "    </tr>\n",
       "    <tr>\n",
       "      <th>вдовец / вдова</th>\n",
       "      <td>63</td>\n",
       "      <td>960</td>\n",
       "      <td>6.562500</td>\n",
       "    </tr>\n",
       "    <tr>\n",
       "      <th>в разводе</th>\n",
       "      <td>85</td>\n",
       "      <td>1195</td>\n",
       "      <td>7.112971</td>\n",
       "    </tr>\n",
       "    <tr>\n",
       "      <th>Не женат / не замужем</th>\n",
       "      <td>274</td>\n",
       "      <td>2813</td>\n",
       "      <td>9.740491</td>\n",
       "    </tr>\n",
       "  </tbody>\n",
       "</table>\n",
       "</div>"
      ],
      "text/plain": [
       "                       has_debt  total         %\n",
       "family_status                                   \n",
       "женат / замужем             931  12380  7.520194\n",
       "гражданский брак            388   4177  9.288963\n",
       "вдовец / вдова               63    960  6.562500\n",
       "в разводе                    85   1195  7.112971\n",
       "Не женат / не замужем       274   2813  9.740491"
      ]
     },
     "metadata": {},
     "output_type": "display_data"
    }
   ],
   "source": [
    "# creating a table for family_status and debt\n",
    "family_status_pivot = data.pivot_table(index = ['family_status'], values = 'debt', aggfunc = ['sum', 'count', 'mean'])\n",
    "family_status_pivot['mean'] = family_status_pivot['mean'] * 100 \n",
    "family_status_pivot.columns = ['has_debt', 'total', '%'] \n",
    "family_status_pivot = family_status_pivot.sort_values(by = 'family_status', ascending = False) \n",
    "display(family_status_pivot)"
   ]
  },
  {
   "cell_type": "markdown",
   "metadata": {},
   "source": [
    "**Conclusion**"
   ]
  },
  {
   "cell_type": "markdown",
   "metadata": {},
   "source": [
    "In this case, we see that unmarried people (9.7%) and people in a civil marriage (9.2%) have the most loans. Married and divorced people have 7.5% and 7.1% respectively. Widowers have the least (6.6%) loans. The difference between each group represented in marital status does not exceed 2.2%. We can conclude that marital status practically does not affect the repayment of the loan."
   ]
  },
  {
   "cell_type": "markdown",
   "metadata": {},
   "source": [
    "- Is there a correlation between the level of income and repayment of the loan on time?"
   ]
  },
  {
   "cell_type": "code",
   "execution_count": 40,
   "metadata": {},
   "outputs": [
    {
     "data": {
      "text/html": [
       "<div>\n",
       "<style scoped>\n",
       "    .dataframe tbody tr th:only-of-type {\n",
       "        vertical-align: middle;\n",
       "    }\n",
       "\n",
       "    .dataframe tbody tr th {\n",
       "        vertical-align: top;\n",
       "    }\n",
       "\n",
       "    .dataframe thead th {\n",
       "        text-align: right;\n",
       "    }\n",
       "</style>\n",
       "<table border=\"1\" class=\"dataframe\">\n",
       "  <thead>\n",
       "    <tr style=\"text-align: right;\">\n",
       "      <th></th>\n",
       "      <th>has_debt</th>\n",
       "      <th>total</th>\n",
       "      <th>%</th>\n",
       "    </tr>\n",
       "    <tr>\n",
       "      <th>income_type</th>\n",
       "      <th></th>\n",
       "      <th></th>\n",
       "      <th></th>\n",
       "    </tr>\n",
       "  </thead>\n",
       "  <tbody>\n",
       "    <tr>\n",
       "      <th>студент</th>\n",
       "      <td>0</td>\n",
       "      <td>1</td>\n",
       "      <td>0.000000</td>\n",
       "    </tr>\n",
       "    <tr>\n",
       "      <th>сотрудник</th>\n",
       "      <td>1061</td>\n",
       "      <td>11119</td>\n",
       "      <td>9.542225</td>\n",
       "    </tr>\n",
       "    <tr>\n",
       "      <th>предприниматель</th>\n",
       "      <td>0</td>\n",
       "      <td>2</td>\n",
       "      <td>0.000000</td>\n",
       "    </tr>\n",
       "    <tr>\n",
       "      <th>пенсионер</th>\n",
       "      <td>216</td>\n",
       "      <td>3856</td>\n",
       "      <td>5.601660</td>\n",
       "    </tr>\n",
       "    <tr>\n",
       "      <th>компаньон</th>\n",
       "      <td>376</td>\n",
       "      <td>5085</td>\n",
       "      <td>7.394297</td>\n",
       "    </tr>\n",
       "    <tr>\n",
       "      <th>госслужащий</th>\n",
       "      <td>86</td>\n",
       "      <td>1459</td>\n",
       "      <td>5.894448</td>\n",
       "    </tr>\n",
       "    <tr>\n",
       "      <th>в декрете</th>\n",
       "      <td>1</td>\n",
       "      <td>1</td>\n",
       "      <td>100.000000</td>\n",
       "    </tr>\n",
       "    <tr>\n",
       "      <th>безработный</th>\n",
       "      <td>1</td>\n",
       "      <td>2</td>\n",
       "      <td>50.000000</td>\n",
       "    </tr>\n",
       "  </tbody>\n",
       "</table>\n",
       "</div>"
      ],
      "text/plain": [
       "                 has_debt  total           %\n",
       "income_type                                 \n",
       "студент                 0      1    0.000000\n",
       "сотрудник            1061  11119    9.542225\n",
       "предприниматель         0      2    0.000000\n",
       "пенсионер             216   3856    5.601660\n",
       "компаньон             376   5085    7.394297\n",
       "госслужащий            86   1459    5.894448\n",
       "в декрете               1      1  100.000000\n",
       "безработный             1      2   50.000000"
      ]
     },
     "metadata": {},
     "output_type": "display_data"
    }
   ],
   "source": [
    "# creating a table for income_type and debt\n",
    "\n",
    "income_type_pivot = data.pivot_table(index = ['income_type'], values = 'debt', aggfunc = ['sum', 'count', 'mean'])\n",
    "income_type_pivot['mean'] = income_type_pivot['mean'] * 100 \n",
    "income_type_pivot.columns = ['has_debt', 'total', '%'] \n",
    "income_type_pivot = income_type_pivot.sort_values(by = 'income_type', ascending = False) \n",
    "display(income_type_pivot)"
   ]
  },
  {
   "cell_type": "markdown",
   "metadata": {},
   "source": [
    "**Conclusion**"
   ]
  },
  {
   "cell_type": "markdown",
   "metadata": {},
   "source": [
    "In this table we observe the fact that employees of companies have the biggest amount of loans (9.5%). In the second place \n",
    " we have so-called partners - 7.4%, civil servants and pensioners have the lowest percentage of loans - 5.8% and 5.6%. In absolute terms, people on maternity leave and the unemployed do not represent statistical significance. In this group there were also no significant fluctuations in debt repayment, which leads to the conclusion that there is no relationship between income and debt repayment.\n"
   ]
  },
  {
   "cell_type": "markdown",
   "metadata": {},
   "source": [
    "-\tHow do different loan goals affect its repayment on time?"
   ]
  },
  {
   "cell_type": "code",
   "execution_count": 43,
   "metadata": {},
   "outputs": [
    {
     "data": {
      "text/html": [
       "<div>\n",
       "<style scoped>\n",
       "    .dataframe tbody tr th:only-of-type {\n",
       "        vertical-align: middle;\n",
       "    }\n",
       "\n",
       "    .dataframe tbody tr th {\n",
       "        vertical-align: top;\n",
       "    }\n",
       "\n",
       "    .dataframe thead th {\n",
       "        text-align: right;\n",
       "    }\n",
       "</style>\n",
       "<table border=\"1\" class=\"dataframe\">\n",
       "  <thead>\n",
       "    <tr style=\"text-align: right;\">\n",
       "      <th></th>\n",
       "      <th>has_debt</th>\n",
       "      <th>total</th>\n",
       "      <th>%</th>\n",
       "    </tr>\n",
       "    <tr>\n",
       "      <th>general_purposes</th>\n",
       "      <th></th>\n",
       "      <th></th>\n",
       "      <th></th>\n",
       "    </tr>\n",
       "  </thead>\n",
       "  <tbody>\n",
       "    <tr>\n",
       "      <th>автомобиль</th>\n",
       "      <td>403</td>\n",
       "      <td>4315</td>\n",
       "      <td>9.339513</td>\n",
       "    </tr>\n",
       "    <tr>\n",
       "      <th>образование</th>\n",
       "      <td>370</td>\n",
       "      <td>4022</td>\n",
       "      <td>9.199403</td>\n",
       "    </tr>\n",
       "    <tr>\n",
       "      <th>свадьба</th>\n",
       "      <td>186</td>\n",
       "      <td>2348</td>\n",
       "      <td>7.921635</td>\n",
       "    </tr>\n",
       "    <tr>\n",
       "      <th>недвижимость</th>\n",
       "      <td>782</td>\n",
       "      <td>10840</td>\n",
       "      <td>7.214022</td>\n",
       "    </tr>\n",
       "  </tbody>\n",
       "</table>\n",
       "</div>"
      ],
      "text/plain": [
       "                  has_debt  total         %\n",
       "general_purposes                           \n",
       "автомобиль             403   4315  9.339513\n",
       "образование            370   4022  9.199403\n",
       "свадьба                186   2348  7.921635\n",
       "недвижимость           782  10840  7.214022"
      ]
     },
     "metadata": {},
     "output_type": "display_data"
    }
   ],
   "source": [
    "# creating a table for general_purposes and debt\n",
    "pivot_purposes = data.pivot_table(index = ['general_purposes'], values = 'debt', aggfunc = ['sum', 'count', 'mean'])\n",
    "pivot_purposes['mean'] = pivot_purposes['mean'] * 100\n",
    "pivot_purposes.columns = ['has_debt', 'total', '%']\n",
    "pivot_purposes = pivot_purposes.sort_values(by = '%', ascending = False)\n",
    "display(pivot_purposes)"
   ]
  },
  {
   "cell_type": "markdown",
   "metadata": {},
   "source": [
    "**Conclusion**"
   ]
  },
  {
   "cell_type": "markdown",
   "metadata": {},
   "source": [
    "The purpose of the loan, obviously, also does not significantly affect its repayment. In this table we see fluctuations from 7.2% to 9.3% by category."
   ]
  },
  {
   "cell_type": "markdown",
   "metadata": {},
   "source": [
    "## General conclusion"
   ]
  },
  {
   "cell_type": "markdown",
   "metadata": {},
   "source": [
    "In this project the statistics on the solvency of the bank's clients was analyzed in order to determine the **relationship between the marital status and the number of children of the client on the fact of repayment of the loan on time**.\n",
    "\n",
    "Before starting the analysis, the data was downloaded from the folder and the dataframe was analyzed using the info() and value_counts() methods. This helped to get the general information on the data: the size of the dataframe and the types of data in it and to see potential problems. Thus, it was found that there were gaps, duplicates and abnormal values in the data. It should also be said that data in the dataframe was in  the form object, int64, float64.\n",
    "\n",
    "Then a step-by-step **data preprocessing** took place.\n",
    "\n",
    "Firstly,  I processed the gaps using the isna() method in the columns days_employed, total_income, dob_years.\n",
    "Secondly, data types were converted into int format with the astype method. For the days_employed column, the real numbers were  replaced with integers, the \"-\" sign was removed and the data was converted to hours.\n",
    "Next, I searched for obvious and hidden duplicates  using the unique() method for the columns education, children, debt, purpose, income_type, family_status, education, gender. I found duplicates due to different case in the education column, brought everything to the lower case using the str.lower() method. When checking the children column, suspicious values of -1 and 20 were found. Values  like this could occur when uploading  the data. I assumed that they can denote 1 child and 2 respectively. The proportion of these values was insignificant, so I replaced these values with 1 and 2 using the replace() method. The rest of the data did not influence the analysis or its share was insignificant.\n",
    "\n",
    "At the next stage of preprocessing, the purpose column was lemmatized in order to indicate the general categories of loan goals. To do this, I created a function and saved the result in a separate general_purposes column.\n",
    "\n",
    "Next, the data was categorized. To do this, dictionaries with categorical variables were allocated, which is necessary to tackle the task of the project to find the correlation  between the marital status and the number of children of the client on the fact of repayment of the loan on time.\n",
    "\n",
    "In paragraph three of the analysis I created 4 tables:\n",
    "1) Summary table for **children and debt**. It was analyzed in order to answer the question whether there was a correlation between the number of children and the repayment of the loan on time. According to the results of the summary table, we see that the largest percentage of those with a loan (9.7%) have 4 children, followed by families with 2 children (9.5%) and families with 1 child (9.1%). The share of families with 3 children is  1% lower than with one, two and four children. However, the share of those with a loan among families without children is 7.5%. Thus, the average debt rate for families with children is 9.1%, while only 7.5% of families without children have a loan. The difference is 1.5% and does not seem significant.\n",
    "\n",
    "2) Summary table for **family_status and debt**. It was analyzed in order to answer the question whether there was a correlation between marital status and repayment of the loan on time. It is obvious from the table that unmarried people (9.7%) and people in a civil marriage (9.2%) have the largesrt amount of loans. Married and divorced people comprise 7.5% and 7.1% respectively. Widowers have the least (6.6%) loans. The difference between each group represented in marital status does not exceed 2.2%. Thus, we can conclude that marital status practically does not affect the repayment of the loan.\n",
    "\n",
    "3) Summary table for **income_type and debt**. It was analyzed in order to answer the question whether there was a correlation between income and repayment of the loan on time. In this table we observe the fact that employees of companies have the biggest amount of loans (9.5%). In second place we see partners - 7.4%, civil servants and pensioners have the lowest percentae of loans - 5.8% and 5.6%. In absolute terms, people on maternity leave and the unemployed do not represent statistical significance. For this group there were also no significant fluctuations in debt repayment, which leads to the conclusion that there is no correlation between income and debt repayment.\n",
    "\n",
    "4) Summary table for **general_purposes and debt**. It was analyzed in order to answer the question whether there was  a correlation between income and repayment of the loan on time. The purpose of the loan, obviously, also does not significantly affect its repayment. In this table we see fluctuations from 7.2% to 9.3% by category.\n",
    "\n",
    "According to the results of the study, it can be concluded that children and marital status does not affect the repayment of the loan on time. The analysis of each category showed that each group is credited in the range from 6.6% to 9.7%. It is also obvious from the data that the income and purpose of the loan also do not affect the repayment of the loan on time.\n",
    "\n",
    "Based on the data analysis, it can be concluded that the customer should first of all supplement the data for further analysis and continue searching for potential categories that could have a more significant impact on the repayment of the loan on time. Nevertheless, we should keep in mind that the data is being replenished, and, perhaps, if the bank's credit policy changes, these data will show new types of correlation that will be useful in the future.\n"
   ]
  },
  {
   "cell_type": "code",
   "execution_count": null,
   "metadata": {},
   "outputs": [],
   "source": []
  }
 ],
 "metadata": {
  "ExecuteTimeLog": [
   {
    "duration": 701,
    "start_time": "2021-12-07T09:07:05.656Z"
   },
   {
    "duration": 796,
    "start_time": "2021-12-07T18:46:07.844Z"
   },
   {
    "duration": 89,
    "start_time": "2021-12-07T18:46:34.376Z"
   },
   {
    "duration": 426,
    "start_time": "2021-12-07T19:18:26.817Z"
   },
   {
    "duration": 114,
    "start_time": "2021-12-07T19:19:04.186Z"
   },
   {
    "duration": 8,
    "start_time": "2021-12-07T19:19:10.908Z"
   },
   {
    "duration": 13,
    "start_time": "2021-12-07T19:21:29.159Z"
   },
   {
    "duration": 11,
    "start_time": "2021-12-07T19:22:55.767Z"
   },
   {
    "duration": 19,
    "start_time": "2021-12-07T19:26:06.824Z"
   },
   {
    "duration": 8,
    "start_time": "2021-12-07T19:27:48.754Z"
   },
   {
    "duration": 9,
    "start_time": "2021-12-07T19:28:03.268Z"
   },
   {
    "duration": 14,
    "start_time": "2021-12-07T19:28:53.367Z"
   },
   {
    "duration": 95,
    "start_time": "2021-12-07T19:32:00.112Z"
   },
   {
    "duration": 13,
    "start_time": "2021-12-07T19:32:23.177Z"
   },
   {
    "duration": 36,
    "start_time": "2021-12-07T19:33:00.163Z"
   },
   {
    "duration": 90,
    "start_time": "2021-12-07T19:33:38.040Z"
   },
   {
    "duration": 10,
    "start_time": "2021-12-07T19:33:45.337Z"
   },
   {
    "duration": 454,
    "start_time": "2021-12-07T19:38:06.476Z"
   },
   {
    "duration": 432,
    "start_time": "2021-12-07T19:38:29.546Z"
   },
   {
    "duration": 6760,
    "start_time": "2021-12-07T19:38:52.710Z"
   },
   {
    "duration": 88,
    "start_time": "2021-12-07T19:39:49.801Z"
   },
   {
    "duration": 21,
    "start_time": "2021-12-07T20:04:16.910Z"
   },
   {
    "duration": 339,
    "start_time": "2021-12-07T20:16:35.400Z"
   },
   {
    "duration": 86,
    "start_time": "2021-12-07T20:16:54.054Z"
   },
   {
    "duration": 83,
    "start_time": "2021-12-07T20:19:28.424Z"
   },
   {
    "duration": 39,
    "start_time": "2021-12-07T20:19:44.029Z"
   },
   {
    "duration": 45,
    "start_time": "2021-12-07T20:20:16.475Z"
   },
   {
    "duration": 65,
    "start_time": "2021-12-07T20:22:09.926Z"
   },
   {
    "duration": 47,
    "start_time": "2021-12-07T20:22:23.845Z"
   },
   {
    "duration": 37,
    "start_time": "2021-12-07T20:22:59.367Z"
   },
   {
    "duration": 38,
    "start_time": "2021-12-07T20:23:22.246Z"
   },
   {
    "duration": 30,
    "start_time": "2021-12-07T20:28:19.900Z"
   },
   {
    "duration": 16,
    "start_time": "2021-12-07T20:28:38.456Z"
   },
   {
    "duration": 22,
    "start_time": "2021-12-07T20:28:56.769Z"
   },
   {
    "duration": 23,
    "start_time": "2021-12-07T20:29:14.923Z"
   },
   {
    "duration": 20,
    "start_time": "2021-12-07T20:33:12.538Z"
   },
   {
    "duration": 35,
    "start_time": "2021-12-07T20:36:40.030Z"
   },
   {
    "duration": 42,
    "start_time": "2021-12-07T20:36:46.327Z"
   },
   {
    "duration": 63,
    "start_time": "2021-12-07T20:39:06.879Z"
   },
   {
    "duration": 75,
    "start_time": "2021-12-07T20:57:14.627Z"
   },
   {
    "duration": 25,
    "start_time": "2021-12-07T20:57:30.781Z"
   },
   {
    "duration": 16,
    "start_time": "2021-12-07T20:58:22.440Z"
   },
   {
    "duration": 30,
    "start_time": "2021-12-07T20:59:36.546Z"
   },
   {
    "duration": 289,
    "start_time": "2021-12-07T21:02:36.232Z"
   },
   {
    "duration": 295,
    "start_time": "2021-12-07T21:02:46.994Z"
   },
   {
    "duration": 30,
    "start_time": "2021-12-07T21:03:05.576Z"
   },
   {
    "duration": 44,
    "start_time": "2021-12-07T21:03:21.016Z"
   },
   {
    "duration": 31,
    "start_time": "2021-12-07T21:03:43.513Z"
   },
   {
    "duration": 23,
    "start_time": "2021-12-07T21:03:59.659Z"
   },
   {
    "duration": 52,
    "start_time": "2021-12-07T21:04:26.395Z"
   },
   {
    "duration": 34,
    "start_time": "2021-12-07T21:05:55.568Z"
   },
   {
    "duration": 45,
    "start_time": "2021-12-07T21:06:32.236Z"
   },
   {
    "duration": 32,
    "start_time": "2021-12-07T21:07:07.802Z"
   },
   {
    "duration": 27,
    "start_time": "2021-12-07T21:07:45.403Z"
   },
   {
    "duration": 90,
    "start_time": "2021-12-07T21:12:23.232Z"
   },
   {
    "duration": 30,
    "start_time": "2021-12-07T21:12:44.806Z"
   },
   {
    "duration": 34,
    "start_time": "2021-12-07T21:13:54.444Z"
   },
   {
    "duration": 48,
    "start_time": "2021-12-07T21:38:22.182Z"
   },
   {
    "duration": 31,
    "start_time": "2021-12-07T21:38:44.317Z"
   },
   {
    "duration": 380,
    "start_time": "2021-12-09T09:15:46.461Z"
   },
   {
    "duration": 302,
    "start_time": "2021-12-09T09:16:02.677Z"
   },
   {
    "duration": 372,
    "start_time": "2021-12-09T09:16:36.809Z"
   },
   {
    "duration": 315,
    "start_time": "2021-12-09T09:17:05.505Z"
   },
   {
    "duration": 281,
    "start_time": "2021-12-09T09:17:24.219Z"
   },
   {
    "duration": 896,
    "start_time": "2021-12-09T09:17:33.685Z"
   },
   {
    "duration": 36,
    "start_time": "2021-12-09T09:17:42.373Z"
   },
   {
    "duration": 18,
    "start_time": "2021-12-09T09:17:49.861Z"
   },
   {
    "duration": 373,
    "start_time": "2021-12-09T09:17:53.537Z"
   },
   {
    "duration": 38,
    "start_time": "2021-12-09T09:18:22.678Z"
   },
   {
    "duration": 28,
    "start_time": "2021-12-09T09:20:17.540Z"
   },
   {
    "duration": 334,
    "start_time": "2021-12-09T09:20:34.020Z"
   },
   {
    "duration": 31,
    "start_time": "2021-12-09T09:24:54.942Z"
   },
   {
    "duration": 317,
    "start_time": "2021-12-09T09:25:17.817Z"
   },
   {
    "duration": 299,
    "start_time": "2021-12-09T09:25:24.847Z"
   },
   {
    "duration": 324,
    "start_time": "2021-12-09T09:26:48.368Z"
   },
   {
    "duration": 319,
    "start_time": "2021-12-09T09:35:32.352Z"
   },
   {
    "duration": 428,
    "start_time": "2021-12-09T09:35:49.647Z"
   },
   {
    "duration": 493,
    "start_time": "2021-12-09T09:36:18.240Z"
   },
   {
    "duration": 335,
    "start_time": "2021-12-09T09:36:46.486Z"
   },
   {
    "duration": 456,
    "start_time": "2021-12-09T09:36:55.454Z"
   },
   {
    "duration": 287,
    "start_time": "2021-12-09T09:37:21.575Z"
   },
   {
    "duration": 24,
    "start_time": "2021-12-09T09:38:00.545Z"
   },
   {
    "duration": 330,
    "start_time": "2021-12-09T09:38:27.507Z"
   },
   {
    "duration": 323,
    "start_time": "2021-12-09T09:38:50.173Z"
   },
   {
    "duration": 20,
    "start_time": "2021-12-09T09:39:06.232Z"
   },
   {
    "duration": 27,
    "start_time": "2021-12-09T09:39:17.938Z"
   },
   {
    "duration": 25,
    "start_time": "2021-12-09T09:39:37.168Z"
   },
   {
    "duration": 19,
    "start_time": "2021-12-09T09:41:32.092Z"
   },
   {
    "duration": 9,
    "start_time": "2021-12-09T09:41:40.293Z"
   },
   {
    "duration": 20,
    "start_time": "2021-12-09T09:41:46.655Z"
   },
   {
    "duration": 17,
    "start_time": "2021-12-09T09:41:52.934Z"
   },
   {
    "duration": 37,
    "start_time": "2021-12-09T09:42:04.106Z"
   },
   {
    "duration": 33,
    "start_time": "2021-12-09T09:42:10.708Z"
   },
   {
    "duration": 25,
    "start_time": "2021-12-09T09:42:36.975Z"
   },
   {
    "duration": 33,
    "start_time": "2021-12-09T09:46:52.042Z"
   },
   {
    "duration": 2047,
    "start_time": "2021-12-09T09:48:55.803Z"
   },
   {
    "duration": 33,
    "start_time": "2021-12-09T09:49:06.473Z"
   },
   {
    "duration": 20,
    "start_time": "2021-12-09T09:52:37.210Z"
   },
   {
    "duration": 24,
    "start_time": "2021-12-09T09:58:57.406Z"
   },
   {
    "duration": 25,
    "start_time": "2021-12-09T10:20:43.160Z"
   },
   {
    "duration": 62,
    "start_time": "2021-12-09T10:36:11.667Z"
   },
   {
    "duration": 58,
    "start_time": "2021-12-09T10:37:35.021Z"
   },
   {
    "duration": 60,
    "start_time": "2021-12-09T10:37:42.134Z"
   },
   {
    "duration": 44,
    "start_time": "2021-12-09T10:53:31.592Z"
   },
   {
    "duration": 57,
    "start_time": "2021-12-09T10:56:41.288Z"
   },
   {
    "duration": 61,
    "start_time": "2021-12-09T10:56:58.185Z"
   },
   {
    "duration": 44,
    "start_time": "2021-12-09T10:57:55.224Z"
   },
   {
    "duration": 42,
    "start_time": "2021-12-09T10:57:58.995Z"
   },
   {
    "duration": 59,
    "start_time": "2021-12-09T10:59:11.361Z"
   },
   {
    "duration": 83,
    "start_time": "2021-12-09T11:10:08.339Z"
   },
   {
    "duration": 64,
    "start_time": "2021-12-09T11:10:16.133Z"
   },
   {
    "duration": 68,
    "start_time": "2021-12-09T11:10:26.415Z"
   },
   {
    "duration": 121,
    "start_time": "2021-12-09T11:13:35.941Z"
   },
   {
    "duration": 75,
    "start_time": "2021-12-09T11:14:25.680Z"
   },
   {
    "duration": 614,
    "start_time": "2021-12-09T11:17:54.355Z"
   },
   {
    "duration": 620,
    "start_time": "2021-12-09T11:18:10.917Z"
   },
   {
    "duration": 73,
    "start_time": "2021-12-09T11:18:54.744Z"
   },
   {
    "duration": 117,
    "start_time": "2021-12-09T11:19:07.042Z"
   },
   {
    "duration": 76,
    "start_time": "2021-12-09T11:19:10.008Z"
   },
   {
    "duration": 100,
    "start_time": "2021-12-09T11:21:18.493Z"
   },
   {
    "duration": 72,
    "start_time": "2021-12-09T11:24:08.688Z"
   },
   {
    "duration": 319,
    "start_time": "2021-12-09T11:58:08.219Z"
   },
   {
    "duration": 283,
    "start_time": "2021-12-09T11:59:39.210Z"
   },
   {
    "duration": 378,
    "start_time": "2021-12-09T11:59:54.766Z"
   },
   {
    "duration": 953,
    "start_time": "2021-12-09T12:00:53.604Z"
   },
   {
    "duration": 931,
    "start_time": "2021-12-09T12:01:08.770Z"
   },
   {
    "duration": 333,
    "start_time": "2021-12-09T12:01:32.591Z"
   },
   {
    "duration": 222,
    "start_time": "2021-12-09T19:44:12.136Z"
   },
   {
    "duration": 160,
    "start_time": "2021-12-09T19:44:57.075Z"
   },
   {
    "duration": 188,
    "start_time": "2021-12-09T19:47:36.769Z"
   },
   {
    "duration": 1766,
    "start_time": "2021-12-09T19:48:16.381Z"
   },
   {
    "duration": 630,
    "start_time": "2021-12-09T19:48:27.200Z"
   },
   {
    "duration": 25,
    "start_time": "2021-12-09T19:48:27.832Z"
   },
   {
    "duration": 14,
    "start_time": "2021-12-09T19:48:27.859Z"
   },
   {
    "duration": 53,
    "start_time": "2021-12-09T19:48:27.875Z"
   },
   {
    "duration": 243,
    "start_time": "2021-12-09T19:48:27.930Z"
   },
   {
    "duration": 75,
    "start_time": "2021-12-09T19:49:56.623Z"
   },
   {
    "duration": 56,
    "start_time": "2021-12-09T19:52:56.855Z"
   },
   {
    "duration": 60,
    "start_time": "2021-12-09T19:53:39.671Z"
   },
   {
    "duration": 190,
    "start_time": "2021-12-09T19:54:44.749Z"
   },
   {
    "duration": 515,
    "start_time": "2021-12-09T19:55:25.412Z"
   },
   {
    "duration": 181,
    "start_time": "2021-12-09T19:55:31.707Z"
   },
   {
    "duration": 185,
    "start_time": "2021-12-09T19:56:30.146Z"
   },
   {
    "duration": 172,
    "start_time": "2021-12-09T19:56:42.689Z"
   },
   {
    "duration": 183,
    "start_time": "2021-12-09T19:58:21.358Z"
   },
   {
    "duration": 171,
    "start_time": "2021-12-09T20:04:46.471Z"
   },
   {
    "duration": 655,
    "start_time": "2021-12-09T20:06:31.312Z"
   },
   {
    "duration": 59,
    "start_time": "2021-12-09T20:31:46.807Z"
   },
   {
    "duration": 58,
    "start_time": "2021-12-09T20:31:58.887Z"
   },
   {
    "duration": 62,
    "start_time": "2021-12-09T20:32:45.677Z"
   },
   {
    "duration": 1036,
    "start_time": "2021-12-09T20:32:51.908Z"
   },
   {
    "duration": 1139,
    "start_time": "2021-12-09T20:33:26.442Z"
   },
   {
    "duration": 905,
    "start_time": "2021-12-09T20:34:29.451Z"
   },
   {
    "duration": 916,
    "start_time": "2021-12-09T20:34:59.423Z"
   },
   {
    "duration": 908,
    "start_time": "2021-12-09T20:36:32.044Z"
   },
   {
    "duration": 888,
    "start_time": "2021-12-09T20:38:35.915Z"
   },
   {
    "duration": 894,
    "start_time": "2021-12-09T20:39:25.111Z"
   },
   {
    "duration": 891,
    "start_time": "2021-12-09T20:40:22.841Z"
   },
   {
    "duration": 893,
    "start_time": "2021-12-09T20:40:48.098Z"
   },
   {
    "duration": 53490,
    "start_time": "2021-12-09T20:41:52.998Z"
   },
   {
    "duration": 54130,
    "start_time": "2021-12-09T20:47:43.140Z"
   },
   {
    "duration": 4312,
    "start_time": "2021-12-09T20:49:17.186Z"
   },
   {
    "duration": 368,
    "start_time": "2021-12-10T09:14:46.636Z"
   },
   {
    "duration": 435,
    "start_time": "2021-12-10T09:15:23.990Z"
   },
   {
    "duration": 346,
    "start_time": "2021-12-10T09:15:37.287Z"
   },
   {
    "duration": 106,
    "start_time": "2021-12-10T09:16:18.722Z"
   },
   {
    "duration": 110,
    "start_time": "2021-12-10T09:16:59.020Z"
   },
   {
    "duration": 338,
    "start_time": "2021-12-10T09:17:08.838Z"
   },
   {
    "duration": 399,
    "start_time": "2021-12-10T09:18:12.397Z"
   },
   {
    "duration": 910,
    "start_time": "2021-12-10T09:18:12.860Z"
   },
   {
    "duration": 52,
    "start_time": "2021-12-10T09:18:13.772Z"
   },
   {
    "duration": 22,
    "start_time": "2021-12-10T09:18:13.827Z"
   },
   {
    "duration": 83,
    "start_time": "2021-12-10T09:18:13.852Z"
   },
   {
    "duration": 5327,
    "start_time": "2021-12-10T09:18:13.937Z"
   },
   {
    "duration": 12,
    "start_time": "2021-12-10T09:18:19.266Z"
   },
   {
    "duration": 18,
    "start_time": "2021-12-10T09:23:22.677Z"
   },
   {
    "duration": 435,
    "start_time": "2021-12-10T09:24:08.225Z"
   },
   {
    "duration": 1347,
    "start_time": "2021-12-10T09:24:14.861Z"
   },
   {
    "duration": 348,
    "start_time": "2021-12-10T09:24:59.749Z"
   },
   {
    "duration": 10,
    "start_time": "2021-12-10T09:26:13.589Z"
   },
   {
    "duration": 1487,
    "start_time": "2021-12-10T09:28:23.868Z"
   },
   {
    "duration": 391,
    "start_time": "2021-12-10T09:28:31.012Z"
   },
   {
    "duration": 14,
    "start_time": "2021-12-10T09:46:50.352Z"
   },
   {
    "duration": 12,
    "start_time": "2021-12-10T09:47:12.768Z"
   },
   {
    "duration": 11,
    "start_time": "2021-12-10T09:47:20.080Z"
   },
   {
    "duration": 334,
    "start_time": "2021-12-10T09:47:42.163Z"
   },
   {
    "duration": 334,
    "start_time": "2021-12-10T09:47:50.010Z"
   },
   {
    "duration": 11,
    "start_time": "2021-12-10T09:48:08.044Z"
   },
   {
    "duration": 418,
    "start_time": "2021-12-11T16:45:07.197Z"
   },
   {
    "duration": 833,
    "start_time": "2021-12-11T16:45:25.241Z"
   },
   {
    "duration": 52,
    "start_time": "2021-12-11T16:45:26.076Z"
   },
   {
    "duration": 27,
    "start_time": "2021-12-11T16:45:26.131Z"
   },
   {
    "duration": 72,
    "start_time": "2021-12-11T16:45:26.160Z"
   },
   {
    "duration": 5599,
    "start_time": "2021-12-11T16:45:26.235Z"
   },
   {
    "duration": 9,
    "start_time": "2021-12-11T16:45:31.837Z"
   },
   {
    "duration": 412,
    "start_time": "2021-12-11T16:46:07.697Z"
   },
   {
    "duration": 7,
    "start_time": "2021-12-11T16:46:15.483Z"
   },
   {
    "duration": 8,
    "start_time": "2021-12-11T16:46:23.643Z"
   },
   {
    "duration": 7,
    "start_time": "2021-12-11T16:46:54.663Z"
   },
   {
    "duration": 10,
    "start_time": "2021-12-11T16:47:46.579Z"
   },
   {
    "duration": 299,
    "start_time": "2021-12-11T16:48:16.293Z"
   },
   {
    "duration": 14,
    "start_time": "2021-12-11T16:48:42.987Z"
   },
   {
    "duration": 14,
    "start_time": "2021-12-11T16:49:22.535Z"
   },
   {
    "duration": 19,
    "start_time": "2021-12-11T16:50:14.089Z"
   },
   {
    "duration": 18,
    "start_time": "2021-12-11T16:51:03.019Z"
   },
   {
    "duration": 19,
    "start_time": "2021-12-11T16:51:54.155Z"
   },
   {
    "duration": 19,
    "start_time": "2021-12-11T16:51:59.711Z"
   },
   {
    "duration": 17,
    "start_time": "2021-12-11T16:52:11.500Z"
   },
   {
    "duration": 300,
    "start_time": "2021-12-11T16:52:33.859Z"
   },
   {
    "duration": 293,
    "start_time": "2021-12-11T16:52:58.706Z"
   },
   {
    "duration": 318,
    "start_time": "2021-12-11T16:53:01.296Z"
   },
   {
    "duration": 509,
    "start_time": "2021-12-11T16:53:23.943Z"
   },
   {
    "duration": 494,
    "start_time": "2021-12-11T16:53:44.357Z"
   },
   {
    "duration": 344,
    "start_time": "2021-12-11T16:53:53.541Z"
   },
   {
    "duration": 309,
    "start_time": "2021-12-11T16:53:59.837Z"
   },
   {
    "duration": 315,
    "start_time": "2021-12-11T16:54:12.329Z"
   },
   {
    "duration": 16,
    "start_time": "2021-12-11T16:54:17.509Z"
   },
   {
    "duration": 20,
    "start_time": "2021-12-11T16:56:09.660Z"
   },
   {
    "duration": 26,
    "start_time": "2021-12-11T16:56:22.944Z"
   },
   {
    "duration": 28,
    "start_time": "2021-12-11T16:59:50.096Z"
   },
   {
    "duration": 28,
    "start_time": "2021-12-11T17:00:45.052Z"
   },
   {
    "duration": 26,
    "start_time": "2021-12-11T17:00:56.796Z"
   },
   {
    "duration": 25,
    "start_time": "2021-12-11T17:01:48.181Z"
   },
   {
    "duration": 6,
    "start_time": "2021-12-11T17:10:56.179Z"
   },
   {
    "duration": 6,
    "start_time": "2021-12-11T17:10:59.789Z"
   },
   {
    "duration": 13,
    "start_time": "2021-12-11T17:11:29.214Z"
   },
   {
    "duration": 11,
    "start_time": "2021-12-11T17:11:33.665Z"
   },
   {
    "duration": 14,
    "start_time": "2021-12-11T17:11:37.374Z"
   },
   {
    "duration": 16,
    "start_time": "2021-12-11T17:11:44.390Z"
   },
   {
    "duration": 16,
    "start_time": "2021-12-11T17:12:20.983Z"
   },
   {
    "duration": 16,
    "start_time": "2021-12-11T17:14:07.707Z"
   },
   {
    "duration": 18,
    "start_time": "2021-12-11T17:15:24.385Z"
   },
   {
    "duration": 93,
    "start_time": "2021-12-11T17:16:41.518Z"
   },
   {
    "duration": 96,
    "start_time": "2021-12-11T17:17:20.734Z"
   },
   {
    "duration": 580,
    "start_time": "2021-12-11T17:18:04.302Z"
   },
   {
    "duration": 13,
    "start_time": "2021-12-11T17:18:19.438Z"
   },
   {
    "duration": 13,
    "start_time": "2021-12-11T17:18:29.972Z"
   },
   {
    "duration": 103,
    "start_time": "2021-12-11T17:18:40.346Z"
   },
   {
    "duration": 16,
    "start_time": "2021-12-11T17:18:43.184Z"
   },
   {
    "duration": 13,
    "start_time": "2021-12-11T17:19:00.118Z"
   },
   {
    "duration": 16,
    "start_time": "2021-12-11T17:19:40.994Z"
   },
   {
    "duration": 372,
    "start_time": "2021-12-11T17:28:54.767Z"
   },
   {
    "duration": 297,
    "start_time": "2021-12-11T17:29:13.173Z"
   },
   {
    "duration": 13,
    "start_time": "2021-12-11T17:29:39.014Z"
   },
   {
    "duration": 360,
    "start_time": "2021-12-11T17:43:34.456Z"
   },
   {
    "duration": 43,
    "start_time": "2021-12-11T17:43:41.052Z"
   },
   {
    "duration": 53,
    "start_time": "2021-12-11T17:44:59.393Z"
   },
   {
    "duration": 43,
    "start_time": "2021-12-11T17:53:29.952Z"
   },
   {
    "duration": 44,
    "start_time": "2021-12-11T18:01:06.526Z"
   },
   {
    "duration": 49,
    "start_time": "2021-12-11T22:17:00.109Z"
   },
   {
    "duration": 67,
    "start_time": "2021-12-11T22:18:18.617Z"
   },
   {
    "duration": 345,
    "start_time": "2021-12-12T09:20:34.569Z"
   },
   {
    "duration": 336,
    "start_time": "2021-12-12T09:21:08.542Z"
   },
   {
    "duration": 879,
    "start_time": "2021-12-12T09:21:16.345Z"
   },
   {
    "duration": 50,
    "start_time": "2021-12-12T09:21:17.227Z"
   },
   {
    "duration": 28,
    "start_time": "2021-12-12T09:21:17.285Z"
   },
   {
    "duration": 90,
    "start_time": "2021-12-12T09:21:17.315Z"
   },
   {
    "duration": 6249,
    "start_time": "2021-12-12T09:21:17.408Z"
   },
   {
    "duration": 19,
    "start_time": "2021-12-12T09:21:23.667Z"
   },
   {
    "duration": 16,
    "start_time": "2021-12-12T09:21:23.692Z"
   },
   {
    "duration": 56,
    "start_time": "2021-12-12T09:21:23.711Z"
   },
   {
    "duration": 15,
    "start_time": "2021-12-12T09:21:23.769Z"
   },
   {
    "duration": 16,
    "start_time": "2021-12-12T09:21:23.786Z"
   },
   {
    "duration": 78,
    "start_time": "2021-12-12T09:21:23.804Z"
   },
   {
    "duration": 49,
    "start_time": "2021-12-12T09:21:23.884Z"
   },
   {
    "duration": 70,
    "start_time": "2021-12-12T09:21:23.936Z"
   },
   {
    "duration": 46,
    "start_time": "2021-12-12T09:34:07.077Z"
   },
   {
    "duration": 92,
    "start_time": "2021-12-13T09:51:52.652Z"
   },
   {
    "duration": 603,
    "start_time": "2021-12-13T10:19:47.559Z"
   },
   {
    "duration": 68,
    "start_time": "2021-12-13T10:20:23.380Z"
   },
   {
    "duration": 69,
    "start_time": "2021-12-13T10:22:42.063Z"
   },
   {
    "duration": 73,
    "start_time": "2021-12-13T10:23:06.225Z"
   },
   {
    "duration": 69,
    "start_time": "2021-12-13T10:24:10.909Z"
   },
   {
    "duration": 73,
    "start_time": "2021-12-13T10:25:20.847Z"
   },
   {
    "duration": 73,
    "start_time": "2021-12-13T10:29:11.740Z"
   },
   {
    "duration": 82,
    "start_time": "2021-12-13T10:29:37.086Z"
   },
   {
    "duration": 78,
    "start_time": "2021-12-13T10:31:11.085Z"
   },
   {
    "duration": 82,
    "start_time": "2021-12-13T10:31:32.613Z"
   },
   {
    "duration": 83,
    "start_time": "2021-12-13T10:31:44.249Z"
   },
   {
    "duration": 155,
    "start_time": "2021-12-13T10:32:08.987Z"
   },
   {
    "duration": 80,
    "start_time": "2021-12-13T10:32:25.941Z"
   },
   {
    "duration": 87,
    "start_time": "2021-12-13T10:38:46.798Z"
   },
   {
    "duration": 82,
    "start_time": "2021-12-13T10:51:45.503Z"
   },
   {
    "duration": 33,
    "start_time": "2021-12-13T10:52:56.814Z"
   },
   {
    "duration": 87,
    "start_time": "2021-12-13T10:53:20.173Z"
   },
   {
    "duration": 84,
    "start_time": "2021-12-13T10:55:04.204Z"
   },
   {
    "duration": 8,
    "start_time": "2021-12-13T10:58:20.442Z"
   },
   {
    "duration": 5,
    "start_time": "2021-12-13T11:09:06.959Z"
   },
   {
    "duration": 352,
    "start_time": "2021-12-13T11:25:19.590Z"
   },
   {
    "duration": 304,
    "start_time": "2021-12-13T11:25:55.382Z"
   },
   {
    "duration": 346,
    "start_time": "2021-12-13T11:26:07.581Z"
   },
   {
    "duration": 351,
    "start_time": "2021-12-13T11:26:38.434Z"
   },
   {
    "duration": 252,
    "start_time": "2021-12-13T11:26:54.592Z"
   },
   {
    "duration": 199,
    "start_time": "2021-12-13T11:27:08.052Z"
   },
   {
    "duration": 23,
    "start_time": "2021-12-13T11:27:17.135Z"
   },
   {
    "duration": 31,
    "start_time": "2021-12-13T11:27:24.858Z"
   },
   {
    "duration": 37,
    "start_time": "2021-12-13T11:28:15.299Z"
   },
   {
    "duration": 39,
    "start_time": "2021-12-13T11:32:14.271Z"
   },
   {
    "duration": 19,
    "start_time": "2021-12-13T11:33:05.299Z"
   },
   {
    "duration": 15,
    "start_time": "2021-12-13T11:47:43.557Z"
   },
   {
    "duration": 15,
    "start_time": "2021-12-13T11:47:48.217Z"
   },
   {
    "duration": 6,
    "start_time": "2021-12-13T11:47:54.559Z"
   },
   {
    "duration": 5,
    "start_time": "2021-12-13T12:35:55.633Z"
   },
   {
    "duration": 4,
    "start_time": "2021-12-13T12:36:26.761Z"
   },
   {
    "duration": 8,
    "start_time": "2021-12-13T12:37:20.518Z"
   },
   {
    "duration": 7,
    "start_time": "2021-12-13T12:38:02.460Z"
   },
   {
    "duration": 36,
    "start_time": "2021-12-13T12:38:33.653Z"
   },
   {
    "duration": 201,
    "start_time": "2021-12-13T12:39:29.925Z"
   },
   {
    "duration": 194,
    "start_time": "2021-12-13T12:39:35.800Z"
   },
   {
    "duration": 64,
    "start_time": "2021-12-13T12:39:45.787Z"
   },
   {
    "duration": 32,
    "start_time": "2021-12-13T12:39:53.934Z"
   },
   {
    "duration": 29,
    "start_time": "2021-12-13T12:41:53.834Z"
   },
   {
    "duration": 30,
    "start_time": "2021-12-13T12:43:08.791Z"
   },
   {
    "duration": 745,
    "start_time": "2022-06-19T20:49:19.386Z"
   },
   {
    "duration": 30,
    "start_time": "2022-06-19T20:49:20.133Z"
   },
   {
    "duration": 31,
    "start_time": "2022-06-19T20:49:20.165Z"
   },
   {
    "duration": 22,
    "start_time": "2022-06-19T20:49:20.198Z"
   },
   {
    "duration": 6,
    "start_time": "2022-06-19T20:49:20.223Z"
   },
   {
    "duration": 23,
    "start_time": "2022-06-19T20:49:20.230Z"
   },
   {
    "duration": 6,
    "start_time": "2022-06-19T20:49:20.255Z"
   },
   {
    "duration": 6,
    "start_time": "2022-06-19T20:49:20.293Z"
   },
   {
    "duration": 12,
    "start_time": "2022-06-19T20:49:20.301Z"
   },
   {
    "duration": 9,
    "start_time": "2022-06-19T20:49:20.314Z"
   },
   {
    "duration": 36,
    "start_time": "2022-06-19T20:49:20.324Z"
   },
   {
    "duration": 4161,
    "start_time": "2022-06-19T20:49:20.362Z"
   },
   {
    "duration": 12,
    "start_time": "2022-06-19T20:49:24.524Z"
   },
   {
    "duration": 10,
    "start_time": "2022-06-19T20:49:24.538Z"
   },
   {
    "duration": 11,
    "start_time": "2022-06-19T20:49:24.549Z"
   },
   {
    "duration": 40,
    "start_time": "2022-06-19T20:49:24.561Z"
   },
   {
    "duration": 11,
    "start_time": "2022-06-19T20:49:24.603Z"
   },
   {
    "duration": 28,
    "start_time": "2022-06-19T20:49:24.616Z"
   },
   {
    "duration": 139,
    "start_time": "2022-06-19T20:49:24.646Z"
   },
   {
    "duration": 0,
    "start_time": "2022-06-19T20:49:24.788Z"
   },
   {
    "duration": 0,
    "start_time": "2022-06-19T20:49:24.793Z"
   },
   {
    "duration": 54,
    "start_time": "2022-06-19T20:50:09.049Z"
   },
   {
    "duration": 496,
    "start_time": "2022-06-19T20:50:47.954Z"
   },
   {
    "duration": 50,
    "start_time": "2022-06-19T20:50:48.452Z"
   },
   {
    "duration": 14,
    "start_time": "2022-06-19T20:50:48.504Z"
   },
   {
    "duration": 22,
    "start_time": "2022-06-19T20:50:48.520Z"
   },
   {
    "duration": 6,
    "start_time": "2022-06-19T20:50:48.544Z"
   },
   {
    "duration": 48,
    "start_time": "2022-06-19T20:50:48.551Z"
   },
   {
    "duration": 5,
    "start_time": "2022-06-19T20:50:48.601Z"
   },
   {
    "duration": 7,
    "start_time": "2022-06-19T20:50:48.607Z"
   },
   {
    "duration": 7,
    "start_time": "2022-06-19T20:50:48.616Z"
   },
   {
    "duration": 4,
    "start_time": "2022-06-19T20:50:48.626Z"
   },
   {
    "duration": 63,
    "start_time": "2022-06-19T20:50:48.632Z"
   },
   {
    "duration": 4042,
    "start_time": "2022-06-19T20:50:48.696Z"
   },
   {
    "duration": 11,
    "start_time": "2022-06-19T20:50:52.740Z"
   },
   {
    "duration": 9,
    "start_time": "2022-06-19T20:50:52.753Z"
   },
   {
    "duration": 35,
    "start_time": "2022-06-19T20:50:52.764Z"
   },
   {
    "duration": 9,
    "start_time": "2022-06-19T20:50:52.800Z"
   },
   {
    "duration": 11,
    "start_time": "2022-06-19T20:50:52.811Z"
   },
   {
    "duration": 26,
    "start_time": "2022-06-19T20:50:52.823Z"
   },
   {
    "duration": 127,
    "start_time": "2022-06-19T20:50:52.851Z"
   },
   {
    "duration": 0,
    "start_time": "2022-06-19T20:50:52.980Z"
   },
   {
    "duration": 0,
    "start_time": "2022-06-19T20:50:52.982Z"
   },
   {
    "duration": 554,
    "start_time": "2022-06-19T20:52:09.763Z"
   },
   {
    "duration": 30,
    "start_time": "2022-06-19T20:52:10.319Z"
   },
   {
    "duration": 14,
    "start_time": "2022-06-19T20:52:10.351Z"
   },
   {
    "duration": 42,
    "start_time": "2022-06-19T20:52:10.368Z"
   },
   {
    "duration": 6,
    "start_time": "2022-06-19T20:52:10.411Z"
   },
   {
    "duration": 20,
    "start_time": "2022-06-19T20:52:10.419Z"
   },
   {
    "duration": 5,
    "start_time": "2022-06-19T20:52:10.441Z"
   },
   {
    "duration": 7,
    "start_time": "2022-06-19T20:52:10.447Z"
   },
   {
    "duration": 40,
    "start_time": "2022-06-19T20:52:10.455Z"
   },
   {
    "duration": 6,
    "start_time": "2022-06-19T20:52:10.498Z"
   },
   {
    "duration": 44,
    "start_time": "2022-06-19T20:52:10.505Z"
   },
   {
    "duration": 4206,
    "start_time": "2022-06-19T20:52:10.550Z"
   },
   {
    "duration": 12,
    "start_time": "2022-06-19T20:52:14.758Z"
   },
   {
    "duration": 24,
    "start_time": "2022-06-19T20:52:14.772Z"
   },
   {
    "duration": 11,
    "start_time": "2022-06-19T20:52:14.798Z"
   },
   {
    "duration": 9,
    "start_time": "2022-06-19T20:52:14.810Z"
   },
   {
    "duration": 13,
    "start_time": "2022-06-19T20:52:14.820Z"
   },
   {
    "duration": 26,
    "start_time": "2022-06-19T20:52:14.835Z"
   },
   {
    "duration": 107,
    "start_time": "2022-06-19T20:52:14.894Z"
   },
   {
    "duration": 0,
    "start_time": "2022-06-19T20:52:15.003Z"
   },
   {
    "duration": 0,
    "start_time": "2022-06-19T20:52:15.004Z"
   },
   {
    "duration": 330,
    "start_time": "2022-06-19T20:55:45.410Z"
   },
   {
    "duration": 28,
    "start_time": "2022-06-19T21:03:52.259Z"
   },
   {
    "duration": 319,
    "start_time": "2022-06-19T21:03:55.829Z"
   },
   {
    "duration": 315,
    "start_time": "2022-06-19T21:06:47.190Z"
   },
   {
    "duration": 339,
    "start_time": "2022-06-19T21:06:51.361Z"
   },
   {
    "duration": 32,
    "start_time": "2022-06-19T21:08:29.779Z"
   },
   {
    "duration": 543,
    "start_time": "2022-06-19T21:09:04.779Z"
   },
   {
    "duration": 26,
    "start_time": "2022-06-19T21:09:05.326Z"
   },
   {
    "duration": 14,
    "start_time": "2022-06-19T21:09:05.355Z"
   },
   {
    "duration": 47,
    "start_time": "2022-06-19T21:09:05.370Z"
   },
   {
    "duration": 10,
    "start_time": "2022-06-19T21:09:05.419Z"
   },
   {
    "duration": 27,
    "start_time": "2022-06-19T21:09:05.431Z"
   },
   {
    "duration": 17,
    "start_time": "2022-06-19T21:09:05.460Z"
   },
   {
    "duration": 28,
    "start_time": "2022-06-19T21:09:05.478Z"
   },
   {
    "duration": 18,
    "start_time": "2022-06-19T21:09:05.510Z"
   },
   {
    "duration": 21,
    "start_time": "2022-06-19T21:09:05.530Z"
   },
   {
    "duration": 60,
    "start_time": "2022-06-19T21:09:05.554Z"
   },
   {
    "duration": 4419,
    "start_time": "2022-06-19T21:09:05.616Z"
   },
   {
    "duration": 16,
    "start_time": "2022-06-19T21:09:10.038Z"
   },
   {
    "duration": 13,
    "start_time": "2022-06-19T21:09:10.056Z"
   },
   {
    "duration": 36,
    "start_time": "2022-06-19T21:09:10.071Z"
   },
   {
    "duration": 9,
    "start_time": "2022-06-19T21:09:10.109Z"
   },
   {
    "duration": 11,
    "start_time": "2022-06-19T21:09:10.120Z"
   },
   {
    "duration": 32,
    "start_time": "2022-06-19T21:09:10.132Z"
   },
   {
    "duration": 71,
    "start_time": "2022-06-19T21:09:10.166Z"
   },
   {
    "duration": 115,
    "start_time": "2022-06-19T21:09:10.239Z"
   },
   {
    "duration": 0,
    "start_time": "2022-06-19T21:09:10.356Z"
   },
   {
    "duration": 30,
    "start_time": "2022-06-19T21:11:17.106Z"
   },
   {
    "duration": 539,
    "start_time": "2022-07-04T10:13:01.631Z"
   },
   {
    "duration": 26,
    "start_time": "2022-07-04T10:13:02.172Z"
   },
   {
    "duration": 11,
    "start_time": "2022-07-04T10:13:02.199Z"
   },
   {
    "duration": 22,
    "start_time": "2022-07-04T10:13:02.211Z"
   },
   {
    "duration": 21,
    "start_time": "2022-07-04T10:13:02.234Z"
   },
   {
    "duration": 26,
    "start_time": "2022-07-04T10:13:02.257Z"
   },
   {
    "duration": 5,
    "start_time": "2022-07-04T10:13:02.285Z"
   },
   {
    "duration": 6,
    "start_time": "2022-07-04T10:13:02.292Z"
   },
   {
    "duration": 10,
    "start_time": "2022-07-04T10:13:02.300Z"
   },
   {
    "duration": 5,
    "start_time": "2022-07-04T10:13:02.312Z"
   },
   {
    "duration": 57,
    "start_time": "2022-07-04T10:13:02.318Z"
   },
   {
    "duration": 3646,
    "start_time": "2022-07-04T10:13:02.377Z"
   },
   {
    "duration": 10,
    "start_time": "2022-07-04T10:13:06.024Z"
   },
   {
    "duration": 9,
    "start_time": "2022-07-04T10:13:06.052Z"
   },
   {
    "duration": 9,
    "start_time": "2022-07-04T10:13:06.063Z"
   },
   {
    "duration": 7,
    "start_time": "2022-07-04T10:13:06.074Z"
   },
   {
    "duration": 9,
    "start_time": "2022-07-04T10:13:06.083Z"
   },
   {
    "duration": 25,
    "start_time": "2022-07-04T10:13:06.093Z"
   },
   {
    "duration": 56,
    "start_time": "2022-07-04T10:13:06.120Z"
   },
   {
    "duration": 26,
    "start_time": "2022-07-04T10:13:06.178Z"
   },
   {
    "duration": 46,
    "start_time": "2022-07-04T10:13:06.206Z"
   },
   {
    "duration": 424,
    "start_time": "2022-07-04T10:19:36.306Z"
   },
   {
    "duration": 30,
    "start_time": "2022-07-04T10:19:36.732Z"
   },
   {
    "duration": 11,
    "start_time": "2022-07-04T10:19:36.764Z"
   },
   {
    "duration": 21,
    "start_time": "2022-07-04T10:19:36.777Z"
   },
   {
    "duration": 6,
    "start_time": "2022-07-04T10:19:36.799Z"
   },
   {
    "duration": 17,
    "start_time": "2022-07-04T10:19:36.806Z"
   },
   {
    "duration": 5,
    "start_time": "2022-07-04T10:19:36.850Z"
   },
   {
    "duration": 7,
    "start_time": "2022-07-04T10:19:36.856Z"
   },
   {
    "duration": 7,
    "start_time": "2022-07-04T10:19:36.864Z"
   },
   {
    "duration": 4,
    "start_time": "2022-07-04T10:19:36.873Z"
   },
   {
    "duration": 32,
    "start_time": "2022-07-04T10:19:36.879Z"
   },
   {
    "duration": 3481,
    "start_time": "2022-07-04T10:19:36.913Z"
   },
   {
    "duration": 11,
    "start_time": "2022-07-04T10:19:40.396Z"
   },
   {
    "duration": 9,
    "start_time": "2022-07-04T10:19:40.409Z"
   },
   {
    "duration": 9,
    "start_time": "2022-07-04T10:19:40.419Z"
   },
   {
    "duration": 8,
    "start_time": "2022-07-04T10:19:40.451Z"
   },
   {
    "duration": 10,
    "start_time": "2022-07-04T10:19:40.460Z"
   },
   {
    "duration": 24,
    "start_time": "2022-07-04T10:19:40.471Z"
   },
   {
    "duration": 26,
    "start_time": "2022-07-04T10:19:40.496Z"
   },
   {
    "duration": 58,
    "start_time": "2022-07-04T10:19:40.524Z"
   },
   {
    "duration": 28,
    "start_time": "2022-07-04T10:19:40.583Z"
   },
   {
    "duration": 728,
    "start_time": "2022-09-07T21:43:34.886Z"
   },
   {
    "duration": 26,
    "start_time": "2022-09-07T21:43:35.616Z"
   },
   {
    "duration": 12,
    "start_time": "2022-09-07T21:43:35.644Z"
   },
   {
    "duration": 21,
    "start_time": "2022-09-07T21:43:35.658Z"
   },
   {
    "duration": 6,
    "start_time": "2022-09-07T21:43:35.681Z"
   },
   {
    "duration": 22,
    "start_time": "2022-09-07T21:43:35.689Z"
   },
   {
    "duration": 26,
    "start_time": "2022-09-07T21:43:35.713Z"
   },
   {
    "duration": 4,
    "start_time": "2022-09-07T21:43:35.741Z"
   },
   {
    "duration": 14,
    "start_time": "2022-09-07T21:43:35.747Z"
   },
   {
    "duration": 10,
    "start_time": "2022-09-07T21:43:35.763Z"
   },
   {
    "duration": 35,
    "start_time": "2022-09-07T21:43:35.774Z"
   },
   {
    "duration": 3664,
    "start_time": "2022-09-07T21:43:35.811Z"
   },
   {
    "duration": 10,
    "start_time": "2022-09-07T21:43:39.477Z"
   },
   {
    "duration": 14,
    "start_time": "2022-09-07T21:43:39.488Z"
   },
   {
    "duration": 13,
    "start_time": "2022-09-07T21:43:39.503Z"
   },
   {
    "duration": 25,
    "start_time": "2022-09-07T21:43:39.518Z"
   },
   {
    "duration": 13,
    "start_time": "2022-09-07T21:43:39.544Z"
   },
   {
    "duration": 25,
    "start_time": "2022-09-07T21:43:39.558Z"
   },
   {
    "duration": 26,
    "start_time": "2022-09-07T21:43:39.584Z"
   },
   {
    "duration": 45,
    "start_time": "2022-09-07T21:43:39.612Z"
   },
   {
    "duration": 29,
    "start_time": "2022-09-07T21:43:39.658Z"
   },
   {
    "duration": 102,
    "start_time": "2022-09-07T21:45:46.567Z"
   },
   {
    "duration": 25,
    "start_time": "2022-09-07T21:53:07.703Z"
   },
   {
    "duration": 12,
    "start_time": "2022-09-07T21:54:19.367Z"
   },
   {
    "duration": 19,
    "start_time": "2022-09-07T21:56:03.961Z"
   },
   {
    "duration": 6,
    "start_time": "2022-09-07T21:56:22.166Z"
   },
   {
    "duration": 24,
    "start_time": "2022-09-07T21:56:47.243Z"
   },
   {
    "duration": 5,
    "start_time": "2022-09-07T21:57:01.366Z"
   },
   {
    "duration": 5,
    "start_time": "2022-09-07T21:57:28.785Z"
   },
   {
    "duration": 5,
    "start_time": "2022-09-07T21:57:52.111Z"
   },
   {
    "duration": 3694,
    "start_time": "2022-09-07T21:59:55.101Z"
   },
   {
    "duration": 14,
    "start_time": "2022-09-07T22:01:08.617Z"
   },
   {
    "duration": 10,
    "start_time": "2022-09-07T22:01:22.646Z"
   },
   {
    "duration": 11,
    "start_time": "2022-09-07T22:01:24.908Z"
   },
   {
    "duration": 10,
    "start_time": "2022-09-07T22:01:29.268Z"
   },
   {
    "duration": 12,
    "start_time": "2022-09-07T22:01:30.433Z"
   },
   {
    "duration": 25,
    "start_time": "2022-09-07T22:03:05.834Z"
   },
   {
    "duration": 24,
    "start_time": "2022-09-07T22:03:40.828Z"
   },
   {
    "duration": 29,
    "start_time": "2022-09-07T22:05:14.196Z"
   },
   {
    "duration": 29,
    "start_time": "2022-09-07T22:06:26.215Z"
   },
   {
    "duration": 28,
    "start_time": "2022-09-07T22:06:34.151Z"
   },
   {
    "duration": 24,
    "start_time": "2022-09-07T22:06:40.911Z"
   },
   {
    "duration": 28,
    "start_time": "2022-09-07T22:07:51.220Z"
   }
  ],
  "kernelspec": {
   "display_name": "Python 3 (ipykernel)",
   "language": "python",
   "name": "python3"
  },
  "language_info": {
   "codemirror_mode": {
    "name": "ipython",
    "version": 3
   },
   "file_extension": ".py",
   "mimetype": "text/x-python",
   "name": "python",
   "nbconvert_exporter": "python",
   "pygments_lexer": "ipython3",
   "version": "3.9.5"
  },
  "toc": {
   "base_numbering": 1,
   "nav_menu": {},
   "number_sections": true,
   "sideBar": true,
   "skip_h1_title": true,
   "title_cell": "Table of Contents",
   "title_sidebar": "Contents",
   "toc_cell": false,
   "toc_position": {},
   "toc_section_display": true,
   "toc_window_display": false
  }
 },
 "nbformat": 4,
 "nbformat_minor": 2
}
