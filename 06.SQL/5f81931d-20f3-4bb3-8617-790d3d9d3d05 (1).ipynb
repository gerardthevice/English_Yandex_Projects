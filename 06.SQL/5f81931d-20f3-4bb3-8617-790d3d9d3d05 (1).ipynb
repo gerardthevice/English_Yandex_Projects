{
 "cells": [
  {
   "cell_type": "markdown",
   "metadata": {},
   "source": [
    "# SQL Project"
   ]
  },
  {
   "cell_type": "markdown",
   "metadata": {},
   "source": [
    "The coronavirus took the world by surprise, changing the usual order of things. In their free time, residents of cities no longer go outside, do not visit cafes and shopping centers. But there is more time for books. Startups noticed this and rushed to create apps for those who like to read.\n",
    "\n",
    "Our company decided to be on the wave and bought a large subscription-based book reading service.\n",
    "\n",
    "Tasks:  \n",
    "\n",
    " - to **analyze the database**. It contains information about books, publishers, authors, as well as user reviews of books and\n",
    " - **formulate a proposition** for a new product."
   ]
  },
  {
   "cell_type": "markdown",
   "metadata": {},
   "source": [
    "# Data description\n",
    "The **books** table\n",
    "\n",
    "Contains the data about the books:\n",
    "\n",
    "- `book_id` — book ID;\n",
    "- `author_id` — the author's ID;\n",
    "- `title` — the title of the book;\n",
    "- `num_pages` — number of pages;\n",
    "- `publication_date` — date of publication of the book\n",
    "\n",
    "\n",
    "The **authors** table\n",
    "\n",
    "Contains the information about the authors:\n",
    "\n",
    "- `author_id` — the author's ID;\n",
    "- `author` — the author's name.\n",
    "\n",
    "\n",
    "The **publishers** table\n",
    "\n",
    "Contains the data about publishing houses:\n",
    "\n",
    "- `publisher_id` — id of the publisher;\n",
    "- `publisher` — the name of the publisher;\n",
    "\n",
    "\n",
    "The **ratings** table\n",
    "\n",
    "Contains the data about user ratings of books:\n",
    "\n",
    "- `rating_id` — rating ID;\n",
    "- `book_id` — the id of the book;\n",
    "- `username` — the name of the user who left the rating;\n",
    "- `rating` — rating of the book.\n",
    "\n",
    "\n",
    "The **reviews** table\n",
    "\n",
    "Contains the data about user reviews of the books:\n",
    "\n",
    "- `review_id` — review ID;\n",
    "- `book_id` — book ID;\n",
    "- `username` — the name of the user who wrote the review;\n",
    "- `text` — the text of the review.\n"
   ]
  },
  {
   "cell_type": "markdown",
   "metadata": {},
   "source": [
    "## Connecting to the database"
   ]
  },
  {
   "cell_type": "code",
   "execution_count": 12,
   "metadata": {},
   "outputs": [],
   "source": [
    "# importing the library\n",
    "import pandas as pd\n",
    "from sqlalchemy import create_engine\n",
    "\n",
    "\n",
    "# setting the parameters\n",
    "db_config = {'user': 'praktikum_student', # username\n",
    "             'pwd': 'Sdf4$2;d-d30pp', # password\n",
    "             'host': 'rc1b-wcoijxj3yxfsf3fs.mdb.yandexcloud.net',\n",
    "             'port': 6432, # connecting port\n",
    "             'db': 'data-analyst-final-project-db'} # the name of the database\n",
    "connection_string = 'postgresql://{}:{}@{}:{}/{}'.format(db_config['user'],\n",
    " db_config['pwd'],\n",
    " db_config['host'],\n",
    " db_config['port'],\n",
    " db_config['db'])\n",
    "\n",
    "\n",
    "# saving the connector\n",
    "engine = create_engine(connection_string, connect_args={'sslmode':'require'}) "
   ]
  },
  {
   "cell_type": "markdown",
   "metadata": {},
   "source": [
    "## Table analysis"
   ]
  },
  {
   "cell_type": "markdown",
   "metadata": {},
   "source": [
    "### books"
   ]
  },
  {
   "cell_type": "code",
   "execution_count": 13,
   "metadata": {},
   "outputs": [
    {
     "data": {
      "text/html": [
       "<div>\n",
       "<style scoped>\n",
       "    .dataframe tbody tr th:only-of-type {\n",
       "        vertical-align: middle;\n",
       "    }\n",
       "\n",
       "    .dataframe tbody tr th {\n",
       "        vertical-align: top;\n",
       "    }\n",
       "\n",
       "    .dataframe thead th {\n",
       "        text-align: right;\n",
       "    }\n",
       "</style>\n",
       "<table border=\"1\" class=\"dataframe\">\n",
       "  <thead>\n",
       "    <tr style=\"text-align: right;\">\n",
       "      <th></th>\n",
       "      <th>book_id</th>\n",
       "      <th>author_id</th>\n",
       "      <th>title</th>\n",
       "      <th>num_pages</th>\n",
       "      <th>publication_date</th>\n",
       "      <th>publisher_id</th>\n",
       "    </tr>\n",
       "  </thead>\n",
       "  <tbody>\n",
       "    <tr>\n",
       "      <th>0</th>\n",
       "      <td>1</td>\n",
       "      <td>546</td>\n",
       "      <td>'Salem's Lot</td>\n",
       "      <td>594</td>\n",
       "      <td>2005-11-01</td>\n",
       "      <td>93</td>\n",
       "    </tr>\n",
       "    <tr>\n",
       "      <th>1</th>\n",
       "      <td>2</td>\n",
       "      <td>465</td>\n",
       "      <td>1 000 Places to See Before You Die</td>\n",
       "      <td>992</td>\n",
       "      <td>2003-05-22</td>\n",
       "      <td>336</td>\n",
       "    </tr>\n",
       "    <tr>\n",
       "      <th>2</th>\n",
       "      <td>3</td>\n",
       "      <td>407</td>\n",
       "      <td>13 Little Blue Envelopes (Little Blue Envelope...</td>\n",
       "      <td>322</td>\n",
       "      <td>2010-12-21</td>\n",
       "      <td>135</td>\n",
       "    </tr>\n",
       "    <tr>\n",
       "      <th>3</th>\n",
       "      <td>4</td>\n",
       "      <td>82</td>\n",
       "      <td>1491: New Revelations of the Americas Before C...</td>\n",
       "      <td>541</td>\n",
       "      <td>2006-10-10</td>\n",
       "      <td>309</td>\n",
       "    </tr>\n",
       "    <tr>\n",
       "      <th>4</th>\n",
       "      <td>5</td>\n",
       "      <td>125</td>\n",
       "      <td>1776</td>\n",
       "      <td>386</td>\n",
       "      <td>2006-07-04</td>\n",
       "      <td>268</td>\n",
       "    </tr>\n",
       "  </tbody>\n",
       "</table>\n",
       "</div>"
      ],
      "text/plain": [
       "   book_id  author_id                                              title  \\\n",
       "0        1        546                                       'Salem's Lot   \n",
       "1        2        465                 1 000 Places to See Before You Die   \n",
       "2        3        407  13 Little Blue Envelopes (Little Blue Envelope...   \n",
       "3        4         82  1491: New Revelations of the Americas Before C...   \n",
       "4        5        125                                               1776   \n",
       "\n",
       "   num_pages publication_date  publisher_id  \n",
       "0        594       2005-11-01            93  \n",
       "1        992       2003-05-22           336  \n",
       "2        322       2010-12-21           135  \n",
       "3        541       2006-10-10           309  \n",
       "4        386       2006-07-04           268  "
      ]
     },
     "metadata": {},
     "output_type": "display_data"
    },
    {
     "data": {
      "text/plain": [
       "book_id              int64\n",
       "author_id            int64\n",
       "title               object\n",
       "num_pages            int64\n",
       "publication_date    object\n",
       "publisher_id         int64\n",
       "dtype: object"
      ]
     },
     "execution_count": 13,
     "metadata": {},
     "output_type": "execute_result"
    }
   ],
   "source": [
    "# getting the books table\n",
    "query = ''' \n",
    "\n",
    "SELECT *\n",
    "FROM books\n",
    "LIMIT 5 \n",
    "\n",
    "'''\n",
    "books = pd.io.sql.read_sql(query, con = engine) \n",
    "display(books)\n",
    "books.dtypes"
   ]
  },
  {
   "cell_type": "markdown",
   "metadata": {},
   "source": [
    "In the books table we see 6 columns: `book_id` — book id; `author_id` — author id; `title` — book title; `num_pages` — number of pages; `publication_date` — publication date of the book; `publisher_id` — publisher id."
   ]
  },
  {
   "cell_type": "markdown",
   "metadata": {},
   "source": [
    "### authors"
   ]
  },
  {
   "cell_type": "code",
   "execution_count": 14,
   "metadata": {},
   "outputs": [
    {
     "data": {
      "text/html": [
       "<div>\n",
       "<style scoped>\n",
       "    .dataframe tbody tr th:only-of-type {\n",
       "        vertical-align: middle;\n",
       "    }\n",
       "\n",
       "    .dataframe tbody tr th {\n",
       "        vertical-align: top;\n",
       "    }\n",
       "\n",
       "    .dataframe thead th {\n",
       "        text-align: right;\n",
       "    }\n",
       "</style>\n",
       "<table border=\"1\" class=\"dataframe\">\n",
       "  <thead>\n",
       "    <tr style=\"text-align: right;\">\n",
       "      <th></th>\n",
       "      <th>author_id</th>\n",
       "      <th>author</th>\n",
       "    </tr>\n",
       "  </thead>\n",
       "  <tbody>\n",
       "    <tr>\n",
       "      <th>0</th>\n",
       "      <td>1</td>\n",
       "      <td>A.S. Byatt</td>\n",
       "    </tr>\n",
       "    <tr>\n",
       "      <th>1</th>\n",
       "      <td>2</td>\n",
       "      <td>Aesop/Laura Harris/Laura Gibbs</td>\n",
       "    </tr>\n",
       "    <tr>\n",
       "      <th>2</th>\n",
       "      <td>3</td>\n",
       "      <td>Agatha Christie</td>\n",
       "    </tr>\n",
       "    <tr>\n",
       "      <th>3</th>\n",
       "      <td>4</td>\n",
       "      <td>Alan Brennert</td>\n",
       "    </tr>\n",
       "    <tr>\n",
       "      <th>4</th>\n",
       "      <td>5</td>\n",
       "      <td>Alan Moore/David   Lloyd</td>\n",
       "    </tr>\n",
       "  </tbody>\n",
       "</table>\n",
       "</div>"
      ],
      "text/plain": [
       "   author_id                          author\n",
       "0          1                      A.S. Byatt\n",
       "1          2  Aesop/Laura Harris/Laura Gibbs\n",
       "2          3                 Agatha Christie\n",
       "3          4                   Alan Brennert\n",
       "4          5        Alan Moore/David   Lloyd"
      ]
     },
     "metadata": {},
     "output_type": "display_data"
    },
    {
     "data": {
      "text/plain": [
       "author_id     int64\n",
       "author       object\n",
       "dtype: object"
      ]
     },
     "execution_count": 14,
     "metadata": {},
     "output_type": "execute_result"
    }
   ],
   "source": [
    "# getting the authors table\n",
    "query = ''' \n",
    "\n",
    "SELECT *\n",
    "FROM authors\n",
    "LIMIT 5 \n",
    "\n",
    "'''\n",
    "authors = pd.io.sql.read_sql(query, con = engine) \n",
    "display(authors)\n",
    "authors.dtypes"
   ]
  },
  {
   "cell_type": "markdown",
   "metadata": {},
   "source": [
    "The authors table contains the columns `publisher_id` — the ID of the publisher; `publisher` — the name of the publisher."
   ]
  },
  {
   "cell_type": "markdown",
   "metadata": {},
   "source": [
    "### publishers"
   ]
  },
  {
   "cell_type": "code",
   "execution_count": 15,
   "metadata": {},
   "outputs": [
    {
     "data": {
      "text/html": [
       "<div>\n",
       "<style scoped>\n",
       "    .dataframe tbody tr th:only-of-type {\n",
       "        vertical-align: middle;\n",
       "    }\n",
       "\n",
       "    .dataframe tbody tr th {\n",
       "        vertical-align: top;\n",
       "    }\n",
       "\n",
       "    .dataframe thead th {\n",
       "        text-align: right;\n",
       "    }\n",
       "</style>\n",
       "<table border=\"1\" class=\"dataframe\">\n",
       "  <thead>\n",
       "    <tr style=\"text-align: right;\">\n",
       "      <th></th>\n",
       "      <th>publisher_id</th>\n",
       "      <th>publisher</th>\n",
       "    </tr>\n",
       "  </thead>\n",
       "  <tbody>\n",
       "    <tr>\n",
       "      <th>0</th>\n",
       "      <td>1</td>\n",
       "      <td>Ace</td>\n",
       "    </tr>\n",
       "    <tr>\n",
       "      <th>1</th>\n",
       "      <td>2</td>\n",
       "      <td>Ace Book</td>\n",
       "    </tr>\n",
       "    <tr>\n",
       "      <th>2</th>\n",
       "      <td>3</td>\n",
       "      <td>Ace Books</td>\n",
       "    </tr>\n",
       "    <tr>\n",
       "      <th>3</th>\n",
       "      <td>4</td>\n",
       "      <td>Ace Hardcover</td>\n",
       "    </tr>\n",
       "    <tr>\n",
       "      <th>4</th>\n",
       "      <td>5</td>\n",
       "      <td>Addison Wesley Publishing Company</td>\n",
       "    </tr>\n",
       "  </tbody>\n",
       "</table>\n",
       "</div>"
      ],
      "text/plain": [
       "   publisher_id                          publisher\n",
       "0             1                                Ace\n",
       "1             2                           Ace Book\n",
       "2             3                          Ace Books\n",
       "3             4                      Ace Hardcover\n",
       "4             5  Addison Wesley Publishing Company"
      ]
     },
     "metadata": {},
     "output_type": "display_data"
    },
    {
     "data": {
      "text/plain": [
       "publisher_id     int64\n",
       "publisher       object\n",
       "dtype: object"
      ]
     },
     "execution_count": 15,
     "metadata": {},
     "output_type": "execute_result"
    }
   ],
   "source": [
    "# getting the publishers table\n",
    "query = ''' \n",
    "\n",
    "SELECT *\n",
    "FROM publishers\n",
    "LIMIT 5 \n",
    "\n",
    "'''\n",
    "publishers = pd.io.sql.read_sql(query, con = engine) \n",
    "display(publishers)\n",
    "publishers.dtypes"
   ]
  },
  {
   "cell_type": "markdown",
   "metadata": {},
   "source": [
    "There are 2 columns in the table: `publisher_id` is the ID of the publisher; `publisher` is the name of the publisher."
   ]
  },
  {
   "cell_type": "markdown",
   "metadata": {},
   "source": [
    "### ratings"
   ]
  },
  {
   "cell_type": "code",
   "execution_count": 16,
   "metadata": {},
   "outputs": [
    {
     "data": {
      "text/html": [
       "<div>\n",
       "<style scoped>\n",
       "    .dataframe tbody tr th:only-of-type {\n",
       "        vertical-align: middle;\n",
       "    }\n",
       "\n",
       "    .dataframe tbody tr th {\n",
       "        vertical-align: top;\n",
       "    }\n",
       "\n",
       "    .dataframe thead th {\n",
       "        text-align: right;\n",
       "    }\n",
       "</style>\n",
       "<table border=\"1\" class=\"dataframe\">\n",
       "  <thead>\n",
       "    <tr style=\"text-align: right;\">\n",
       "      <th></th>\n",
       "      <th>rating_id</th>\n",
       "      <th>book_id</th>\n",
       "      <th>username</th>\n",
       "      <th>rating</th>\n",
       "    </tr>\n",
       "  </thead>\n",
       "  <tbody>\n",
       "    <tr>\n",
       "      <th>0</th>\n",
       "      <td>1</td>\n",
       "      <td>1</td>\n",
       "      <td>ryanfranco</td>\n",
       "      <td>4</td>\n",
       "    </tr>\n",
       "    <tr>\n",
       "      <th>1</th>\n",
       "      <td>2</td>\n",
       "      <td>1</td>\n",
       "      <td>grantpatricia</td>\n",
       "      <td>2</td>\n",
       "    </tr>\n",
       "    <tr>\n",
       "      <th>2</th>\n",
       "      <td>3</td>\n",
       "      <td>1</td>\n",
       "      <td>brandtandrea</td>\n",
       "      <td>5</td>\n",
       "    </tr>\n",
       "    <tr>\n",
       "      <th>3</th>\n",
       "      <td>4</td>\n",
       "      <td>2</td>\n",
       "      <td>lorichen</td>\n",
       "      <td>3</td>\n",
       "    </tr>\n",
       "    <tr>\n",
       "      <th>4</th>\n",
       "      <td>5</td>\n",
       "      <td>2</td>\n",
       "      <td>mariokeller</td>\n",
       "      <td>2</td>\n",
       "    </tr>\n",
       "  </tbody>\n",
       "</table>\n",
       "</div>"
      ],
      "text/plain": [
       "   rating_id  book_id       username  rating\n",
       "0          1        1     ryanfranco       4\n",
       "1          2        1  grantpatricia       2\n",
       "2          3        1   brandtandrea       5\n",
       "3          4        2       lorichen       3\n",
       "4          5        2    mariokeller       2"
      ]
     },
     "metadata": {},
     "output_type": "display_data"
    },
    {
     "data": {
      "text/plain": [
       "rating_id     int64\n",
       "book_id       int64\n",
       "username     object\n",
       "rating        int64\n",
       "dtype: object"
      ]
     },
     "execution_count": 16,
     "metadata": {},
     "output_type": "execute_result"
    }
   ],
   "source": [
    "# getting the ratings table\n",
    "query = ''' \n",
    "\n",
    "SELECT *\n",
    "FROM ratings\n",
    "LIMIT 5 \n",
    "\n",
    "'''\n",
    "ratings = pd.io.sql.read_sql(query, con = engine) \n",
    "display(ratings)\n",
    "ratings.dtypes"
   ]
  },
  {
   "cell_type": "markdown",
   "metadata": {},
   "source": [
    "In the table there are the following columns:  `rating_id` - the rating ID; `book_id` — the book id; `username` — the name of the user who left the rating; `rating` — the rating of the book."
   ]
  },
  {
   "cell_type": "markdown",
   "metadata": {},
   "source": [
    "### reviews"
   ]
  },
  {
   "cell_type": "code",
   "execution_count": 17,
   "metadata": {},
   "outputs": [
    {
     "data": {
      "text/html": [
       "<div>\n",
       "<style scoped>\n",
       "    .dataframe tbody tr th:only-of-type {\n",
       "        vertical-align: middle;\n",
       "    }\n",
       "\n",
       "    .dataframe tbody tr th {\n",
       "        vertical-align: top;\n",
       "    }\n",
       "\n",
       "    .dataframe thead th {\n",
       "        text-align: right;\n",
       "    }\n",
       "</style>\n",
       "<table border=\"1\" class=\"dataframe\">\n",
       "  <thead>\n",
       "    <tr style=\"text-align: right;\">\n",
       "      <th></th>\n",
       "      <th>review_id</th>\n",
       "      <th>book_id</th>\n",
       "      <th>username</th>\n",
       "      <th>text</th>\n",
       "    </tr>\n",
       "  </thead>\n",
       "  <tbody>\n",
       "    <tr>\n",
       "      <th>0</th>\n",
       "      <td>1</td>\n",
       "      <td>1</td>\n",
       "      <td>brandtandrea</td>\n",
       "      <td>Mention society tell send professor analysis. ...</td>\n",
       "    </tr>\n",
       "    <tr>\n",
       "      <th>1</th>\n",
       "      <td>2</td>\n",
       "      <td>1</td>\n",
       "      <td>ryanfranco</td>\n",
       "      <td>Foot glass pretty audience hit themselves. Amo...</td>\n",
       "    </tr>\n",
       "    <tr>\n",
       "      <th>2</th>\n",
       "      <td>3</td>\n",
       "      <td>2</td>\n",
       "      <td>lorichen</td>\n",
       "      <td>Listen treat keep worry. Miss husband tax but ...</td>\n",
       "    </tr>\n",
       "    <tr>\n",
       "      <th>3</th>\n",
       "      <td>4</td>\n",
       "      <td>3</td>\n",
       "      <td>johnsonamanda</td>\n",
       "      <td>Finally month interesting blue could nature cu...</td>\n",
       "    </tr>\n",
       "    <tr>\n",
       "      <th>4</th>\n",
       "      <td>5</td>\n",
       "      <td>3</td>\n",
       "      <td>scotttamara</td>\n",
       "      <td>Nation purpose heavy give wait song will. List...</td>\n",
       "    </tr>\n",
       "  </tbody>\n",
       "</table>\n",
       "</div>"
      ],
      "text/plain": [
       "   review_id  book_id       username  \\\n",
       "0          1        1   brandtandrea   \n",
       "1          2        1     ryanfranco   \n",
       "2          3        2       lorichen   \n",
       "3          4        3  johnsonamanda   \n",
       "4          5        3    scotttamara   \n",
       "\n",
       "                                                text  \n",
       "0  Mention society tell send professor analysis. ...  \n",
       "1  Foot glass pretty audience hit themselves. Amo...  \n",
       "2  Listen treat keep worry. Miss husband tax but ...  \n",
       "3  Finally month interesting blue could nature cu...  \n",
       "4  Nation purpose heavy give wait song will. List...  "
      ]
     },
     "metadata": {},
     "output_type": "display_data"
    },
    {
     "data": {
      "text/plain": [
       "review_id     int64\n",
       "book_id       int64\n",
       "username     object\n",
       "text         object\n",
       "dtype: object"
      ]
     },
     "execution_count": 17,
     "metadata": {},
     "output_type": "execute_result"
    }
   ],
   "source": [
    "# getting the reviews table\n",
    "query = ''' \n",
    "\n",
    "SELECT *\n",
    "FROM reviews\n",
    "LIMIT 5 \n",
    "\n",
    "'''\n",
    "reviews = pd.io.sql.read_sql(query, con = engine) \n",
    "display(reviews)\n",
    "reviews.dtypes"
   ]
  },
  {
   "cell_type": "markdown",
   "metadata": {},
   "source": [
    "There are 4 columns in the table: `review_id` — the review ID; `book_id` — the book ID; `username` — the name of the user who wrote the review; `text` — the text of the review"
   ]
  },
  {
   "cell_type": "markdown",
   "metadata": {},
   "source": [
    "## Analytical tasks"
   ]
  },
  {
   "cell_type": "markdown",
   "metadata": {},
   "source": [
    "### How many books were published after January 1, 2000"
   ]
  },
  {
   "cell_type": "code",
   "execution_count": 18,
   "metadata": {},
   "outputs": [
    {
     "data": {
      "text/html": [
       "<div>\n",
       "<style scoped>\n",
       "    .dataframe tbody tr th:only-of-type {\n",
       "        vertical-align: middle;\n",
       "    }\n",
       "\n",
       "    .dataframe tbody tr th {\n",
       "        vertical-align: top;\n",
       "    }\n",
       "\n",
       "    .dataframe thead th {\n",
       "        text-align: right;\n",
       "    }\n",
       "</style>\n",
       "<table border=\"1\" class=\"dataframe\">\n",
       "  <thead>\n",
       "    <tr style=\"text-align: right;\">\n",
       "      <th></th>\n",
       "      <th>count</th>\n",
       "    </tr>\n",
       "  </thead>\n",
       "  <tbody>\n",
       "    <tr>\n",
       "      <th>0</th>\n",
       "      <td>819</td>\n",
       "    </tr>\n",
       "  </tbody>\n",
       "</table>\n",
       "</div>"
      ],
      "text/plain": [
       "   count\n",
       "0    819"
      ]
     },
     "execution_count": 18,
     "metadata": {},
     "output_type": "execute_result"
    }
   ],
   "source": [
    "query = ''' \n",
    "\n",
    "SELECT COUNT(book_id)\n",
    "FROM books\n",
    "WHERE publication_date > '2000-01-01' \n",
    "\n",
    "'''   \n",
    "books_count = pd.io.sql.read_sql(query, con = engine) \n",
    "books_count"
   ]
  },
  {
   "cell_type": "markdown",
   "metadata": {},
   "source": [
    "**819** books were published after January 1, 2000."
   ]
  },
  {
   "cell_type": "markdown",
   "metadata": {},
   "source": [
    "### The number of reviews and the average score for each book"
   ]
  },
  {
   "cell_type": "code",
   "execution_count": 19,
   "metadata": {},
   "outputs": [
    {
     "data": {
      "text/html": [
       "<div>\n",
       "<style scoped>\n",
       "    .dataframe tbody tr th:only-of-type {\n",
       "        vertical-align: middle;\n",
       "    }\n",
       "\n",
       "    .dataframe tbody tr th {\n",
       "        vertical-align: top;\n",
       "    }\n",
       "\n",
       "    .dataframe thead th {\n",
       "        text-align: right;\n",
       "    }\n",
       "</style>\n",
       "<table border=\"1\" class=\"dataframe\">\n",
       "  <thead>\n",
       "    <tr style=\"text-align: right;\">\n",
       "      <th></th>\n",
       "      <th>title</th>\n",
       "      <th>review_count</th>\n",
       "      <th>avg_rating</th>\n",
       "    </tr>\n",
       "  </thead>\n",
       "  <tbody>\n",
       "    <tr>\n",
       "      <th>0</th>\n",
       "      <td>Twilight (Twilight  #1)</td>\n",
       "      <td>7</td>\n",
       "      <td>3.662500</td>\n",
       "    </tr>\n",
       "    <tr>\n",
       "      <th>1</th>\n",
       "      <td>The Hobbit  or There and Back Again</td>\n",
       "      <td>6</td>\n",
       "      <td>4.125000</td>\n",
       "    </tr>\n",
       "    <tr>\n",
       "      <th>2</th>\n",
       "      <td>The Catcher in the Rye</td>\n",
       "      <td>6</td>\n",
       "      <td>3.825581</td>\n",
       "    </tr>\n",
       "    <tr>\n",
       "      <th>3</th>\n",
       "      <td>Harry Potter and the Prisoner of Azkaban (Harr...</td>\n",
       "      <td>6</td>\n",
       "      <td>4.414634</td>\n",
       "    </tr>\n",
       "    <tr>\n",
       "      <th>4</th>\n",
       "      <td>Harry Potter and the Chamber of Secrets (Harry...</td>\n",
       "      <td>6</td>\n",
       "      <td>4.287500</td>\n",
       "    </tr>\n",
       "    <tr>\n",
       "      <th>...</th>\n",
       "      <td>...</td>\n",
       "      <td>...</td>\n",
       "      <td>...</td>\n",
       "    </tr>\n",
       "    <tr>\n",
       "      <th>995</th>\n",
       "      <td>Essential Tales and Poems</td>\n",
       "      <td>0</td>\n",
       "      <td>4.000000</td>\n",
       "    </tr>\n",
       "    <tr>\n",
       "      <th>996</th>\n",
       "      <td>Leonardo's Notebooks</td>\n",
       "      <td>0</td>\n",
       "      <td>4.000000</td>\n",
       "    </tr>\n",
       "    <tr>\n",
       "      <th>997</th>\n",
       "      <td>The Cat in the Hat and Other Dr. Seuss Favorites</td>\n",
       "      <td>0</td>\n",
       "      <td>5.000000</td>\n",
       "    </tr>\n",
       "    <tr>\n",
       "      <th>998</th>\n",
       "      <td>Anne Rice's The Vampire Lestat: A Graphic Novel</td>\n",
       "      <td>0</td>\n",
       "      <td>3.666667</td>\n",
       "    </tr>\n",
       "    <tr>\n",
       "      <th>999</th>\n",
       "      <td>The Natural Way to Draw</td>\n",
       "      <td>0</td>\n",
       "      <td>3.000000</td>\n",
       "    </tr>\n",
       "  </tbody>\n",
       "</table>\n",
       "<p>1000 rows × 3 columns</p>\n",
       "</div>"
      ],
      "text/plain": [
       "                                                 title  review_count  \\\n",
       "0                              Twilight (Twilight  #1)             7   \n",
       "1                  The Hobbit  or There and Back Again             6   \n",
       "2                               The Catcher in the Rye             6   \n",
       "3    Harry Potter and the Prisoner of Azkaban (Harr...             6   \n",
       "4    Harry Potter and the Chamber of Secrets (Harry...             6   \n",
       "..                                                 ...           ...   \n",
       "995                          Essential Tales and Poems             0   \n",
       "996                               Leonardo's Notebooks             0   \n",
       "997   The Cat in the Hat and Other Dr. Seuss Favorites             0   \n",
       "998    Anne Rice's The Vampire Lestat: A Graphic Novel             0   \n",
       "999                            The Natural Way to Draw             0   \n",
       "\n",
       "     avg_rating  \n",
       "0      3.662500  \n",
       "1      4.125000  \n",
       "2      3.825581  \n",
       "3      4.414634  \n",
       "4      4.287500  \n",
       "..          ...  \n",
       "995    4.000000  \n",
       "996    4.000000  \n",
       "997    5.000000  \n",
       "998    3.666667  \n",
       "999    3.000000  \n",
       "\n",
       "[1000 rows x 3 columns]"
      ]
     },
     "execution_count": 19,
     "metadata": {},
     "output_type": "execute_result"
    }
   ],
   "source": [
    "query = ''' \n",
    "\n",
    "SELECT books.title,\n",
    "       COUNT (distinct review_id) as review_count,\n",
    "       AVG(rating) AS avg_rating\n",
    "FROM books\n",
    "LEFT JOIN reviews ON reviews.book_id = books.book_id\n",
    "LEFT JOIN ratings ON ratings.book_id = books.book_id\n",
    "\n",
    "GROUP BY books.book_id\n",
    "ORDER BY COUNT(reviews.review_id) DESC\n",
    "\n",
    "'''\n",
    "reviews_and_avg_rating = pd.io.sql.read_sql(query, con = engine)\n",
    "reviews_and_avg_rating"
   ]
  },
  {
   "cell_type": "markdown",
   "metadata": {},
   "source": [
    "We see that the maximum number of reviews is **7** for the book **Twiligh\"**, then we see **Hobbit**, **The Catcher in the Rye** and the **Harry Potter** book with the 6 reviews. We also see the average ratings for each book."
   ]
  },
  {
   "cell_type": "markdown",
   "metadata": {},
   "source": [
    "### The publishing house that released the largest number of books with more than 50 pages"
   ]
  },
  {
   "cell_type": "code",
   "execution_count": 20,
   "metadata": {},
   "outputs": [
    {
     "data": {
      "text/html": [
       "<div>\n",
       "<style scoped>\n",
       "    .dataframe tbody tr th:only-of-type {\n",
       "        vertical-align: middle;\n",
       "    }\n",
       "\n",
       "    .dataframe tbody tr th {\n",
       "        vertical-align: top;\n",
       "    }\n",
       "\n",
       "    .dataframe thead th {\n",
       "        text-align: right;\n",
       "    }\n",
       "</style>\n",
       "<table border=\"1\" class=\"dataframe\">\n",
       "  <thead>\n",
       "    <tr style=\"text-align: right;\">\n",
       "      <th></th>\n",
       "      <th>publisher</th>\n",
       "      <th>count_books</th>\n",
       "    </tr>\n",
       "  </thead>\n",
       "  <tbody>\n",
       "    <tr>\n",
       "      <th>0</th>\n",
       "      <td>Penguin Books</td>\n",
       "      <td>42</td>\n",
       "    </tr>\n",
       "    <tr>\n",
       "      <th>1</th>\n",
       "      <td>Vintage</td>\n",
       "      <td>31</td>\n",
       "    </tr>\n",
       "    <tr>\n",
       "      <th>2</th>\n",
       "      <td>Grand Central Publishing</td>\n",
       "      <td>25</td>\n",
       "    </tr>\n",
       "  </tbody>\n",
       "</table>\n",
       "</div>"
      ],
      "text/plain": [
       "                  publisher  count_books\n",
       "0             Penguin Books           42\n",
       "1                   Vintage           31\n",
       "2  Grand Central Publishing           25"
      ]
     },
     "execution_count": 20,
     "metadata": {},
     "output_type": "execute_result"
    }
   ],
   "source": [
    "query = ''' \n",
    "\n",
    "SELECT publishers.publisher,\n",
    "\n",
    "        COUNT(num_pages) as count_books\n",
    "        \n",
    "FROM books\n",
    "INNER JOIN publishers on publishers.publisher_id = books.publisher_id\n",
    "WHERE books.num_pages > 50\n",
    "GROUP BY publishers.publisher\n",
    "ORDER BY count_books DESC \n",
    "LIMIT 3\n",
    "\n",
    "'''\n",
    "\n",
    "publishers_big_books = pd.io.sql.read_sql(query, con = engine)\n",
    "publishers_big_books"
   ]
  },
  {
   "cell_type": "markdown",
   "metadata": {},
   "source": [
    "The publishers that produce the most books with more than 50 pages are **Penguin Books**, **Vintage** and **Grand Central Publishing**."
   ]
  },
  {
   "cell_type": "markdown",
   "metadata": {},
   "source": [
    "### The author with the highest average rating of books (only books with 50 or more ratings)"
   ]
  },
  {
   "cell_type": "code",
   "execution_count": 21,
   "metadata": {},
   "outputs": [
    {
     "data": {
      "text/html": [
       "<div>\n",
       "<style scoped>\n",
       "    .dataframe tbody tr th:only-of-type {\n",
       "        vertical-align: middle;\n",
       "    }\n",
       "\n",
       "    .dataframe tbody tr th {\n",
       "        vertical-align: top;\n",
       "    }\n",
       "\n",
       "    .dataframe thead th {\n",
       "        text-align: right;\n",
       "    }\n",
       "</style>\n",
       "<table border=\"1\" class=\"dataframe\">\n",
       "  <thead>\n",
       "    <tr style=\"text-align: right;\">\n",
       "      <th></th>\n",
       "      <th>author</th>\n",
       "      <th>mean_rating</th>\n",
       "    </tr>\n",
       "  </thead>\n",
       "  <tbody>\n",
       "    <tr>\n",
       "      <th>0</th>\n",
       "      <td>J.K. Rowling/Mary GrandPré</td>\n",
       "      <td>4.287097</td>\n",
       "    </tr>\n",
       "  </tbody>\n",
       "</table>\n",
       "</div>"
      ],
      "text/plain": [
       "                       author  mean_rating\n",
       "0  J.K. Rowling/Mary GrandPré     4.287097"
      ]
     },
     "execution_count": 21,
     "metadata": {},
     "output_type": "execute_result"
    }
   ],
   "source": [
    "query = ''' \n",
    "\n",
    "SELECT authors.author,\n",
    "        AVG(ratings.rating) as mean_rating\n",
    "FROM books\n",
    "INNER JOIN authors on authors.author_id = books.author_id\n",
    "INNER JOIN ratings on ratings.book_id = books.book_id\n",
    "WHERE books.book_id IN (SELECT book_id\n",
    "                        FROM ratings\n",
    "                        GROUP BY book_id\n",
    "                        HAVING COUNT(rating) >= 50)\n",
    "GROUP BY authors.author\n",
    "ORDER BY mean_rating DESC\n",
    "LIMIT 1 \n",
    "\n",
    "\n",
    "'''    \n",
    "top_author = pd.io.sql.read_sql(query, con = engine)\n",
    "top_author"
   ]
  },
  {
   "cell_type": "markdown",
   "metadata": {},
   "source": [
    "The author with the highest average book rating among books with 50 or more ratings is  **J.K. Rowling**, Mary GrandPré."
   ]
  },
  {
   "cell_type": "markdown",
   "metadata": {},
   "source": [
    "### The average number of reviews from users who have given more than 50 ratings"
   ]
  },
  {
   "cell_type": "code",
   "execution_count": 22,
   "metadata": {},
   "outputs": [
    {
     "data": {
      "text/html": [
       "<div>\n",
       "<style scoped>\n",
       "    .dataframe tbody tr th:only-of-type {\n",
       "        vertical-align: middle;\n",
       "    }\n",
       "\n",
       "    .dataframe tbody tr th {\n",
       "        vertical-align: top;\n",
       "    }\n",
       "\n",
       "    .dataframe thead th {\n",
       "        text-align: right;\n",
       "    }\n",
       "</style>\n",
       "<table border=\"1\" class=\"dataframe\">\n",
       "  <thead>\n",
       "    <tr style=\"text-align: right;\">\n",
       "      <th></th>\n",
       "      <th>mean</th>\n",
       "    </tr>\n",
       "  </thead>\n",
       "  <tbody>\n",
       "    <tr>\n",
       "      <th>0</th>\n",
       "      <td>24.333333</td>\n",
       "    </tr>\n",
       "  </tbody>\n",
       "</table>\n",
       "</div>"
      ],
      "text/plain": [
       "        mean\n",
       "0  24.333333"
      ]
     },
     "execution_count": 22,
     "metadata": {},
     "output_type": "execute_result"
    }
   ],
   "source": [
    "query = ''' \n",
    "\n",
    "\n",
    "SELECT SUM(group_table.count_rev)/COUNT(group_table.count_rev) as mean\n",
    "        FROM (SELECT reviews.username, \n",
    "        COUNT(reviews.username) AS count_rev\n",
    "FROM reviews\n",
    "WHERE reviews.username IN (SELECT ratings.username\n",
    "                            FROM ratings\n",
    "                            GROUP BY ratings.username\n",
    "                            HAVING COUNT(ratings.rating_id) > 50)\n",
    "                  \n",
    "                            GROUP BY username) AS group_table \n",
    "                            \n",
    "\n",
    "'''         \n",
    "review_avg_count = pd.io.sql.read_sql(query, con = engine)\n",
    "review_avg_count"
   ]
  },
  {
   "cell_type": "markdown",
   "metadata": {},
   "source": [
    "The average number of reviews from users who have given more than 50 ratings is **24**."
   ]
  },
  {
   "cell_type": "markdown",
   "metadata": {},
   "source": [
    "## Conclusion"
   ]
  },
  {
   "cell_type": "markdown",
   "metadata": {},
   "source": [
    "Based on the results of the analysis, 5 tables from the database were derived and studied.\n",
    "\n",
    "It was revealed:\n",
    "\n",
    "1)  819 books were published after January 1, 2000.\n",
    "\n",
    "2) The maximum number of reviews is 7 for the book \"Twilight\", Then we observe the Hobbit, \"The Catcher in the Rye\" and the Harry Potter book with 6 reviews. We also see average ratings for each book.\n",
    "\n",
    "3) The publishers that produce the most books with more than 50 pages are Penguin Books, Vintage and Grand Central Publishing.\n",
    "\n",
    "4) The author with the highest average book rating among books with 50 or more ratings is J.K. Rowling/Mary GrandPré.\n",
    "\n",
    "5) The average number of reviews from users who have given more than 50 ratings is 24.\n",
    "\n",
    "According to the results of the analysis, it is clear that users are willing to read fiction. At the same time, they actively leave reviews and evaluate books. Perhaps it would be a good idea to increase the variety of books in this genre, since in the pandemic people increasingly want to escape from reality. It would also be possible to work on related genres, such as detective fiction and so on."
   ]
  },
  {
   "cell_type": "code",
   "execution_count": null,
   "metadata": {},
   "outputs": [],
   "source": []
  }
 ],
 "metadata": {
  "ExecuteTimeLog": [
   {
    "duration": 561,
    "start_time": "2022-06-05T13:45:48.552Z"
   },
   {
    "duration": 239,
    "start_time": "2022-06-05T13:50:34.166Z"
   },
   {
    "duration": 72,
    "start_time": "2022-06-05T13:51:13.667Z"
   },
   {
    "duration": 0,
    "start_time": "2022-06-05T13:56:23.150Z"
   },
   {
    "duration": 84,
    "start_time": "2022-06-05T13:56:27.355Z"
   },
   {
    "duration": 78,
    "start_time": "2022-06-05T13:57:12.914Z"
   },
   {
    "duration": 77,
    "start_time": "2022-06-05T13:58:18.069Z"
   },
   {
    "duration": 72,
    "start_time": "2022-06-05T13:58:27.100Z"
   },
   {
    "duration": 71,
    "start_time": "2022-06-05T14:00:11.270Z"
   },
   {
    "duration": 78,
    "start_time": "2022-06-05T14:04:02.665Z"
   },
   {
    "duration": 79,
    "start_time": "2022-06-05T14:04:08.973Z"
   },
   {
    "duration": 72,
    "start_time": "2022-06-05T14:06:03.488Z"
   },
   {
    "duration": 75,
    "start_time": "2022-06-05T14:11:49.337Z"
   },
   {
    "duration": 68,
    "start_time": "2022-06-05T14:15:50.609Z"
   },
   {
    "duration": 106,
    "start_time": "2022-06-05T14:24:05.083Z"
   },
   {
    "duration": 102,
    "start_time": "2022-06-05T14:24:54.744Z"
   },
   {
    "duration": 77,
    "start_time": "2022-06-05T14:34:33.490Z"
   },
   {
    "duration": 124,
    "start_time": "2022-06-05T14:39:49.320Z"
   },
   {
    "duration": 72,
    "start_time": "2022-06-05T14:40:22.934Z"
   },
   {
    "duration": 70,
    "start_time": "2022-06-05T14:42:40.660Z"
   },
   {
    "duration": 559,
    "start_time": "2022-06-05T22:58:06.368Z"
   },
   {
    "duration": 243,
    "start_time": "2022-06-05T22:58:06.929Z"
   },
   {
    "duration": 69,
    "start_time": "2022-06-05T22:58:07.173Z"
   },
   {
    "duration": 71,
    "start_time": "2022-06-05T22:58:07.244Z"
   },
   {
    "duration": 71,
    "start_time": "2022-06-05T22:58:07.316Z"
   },
   {
    "duration": 71,
    "start_time": "2022-06-05T22:58:07.389Z"
   },
   {
    "duration": 66,
    "start_time": "2022-06-05T22:58:07.462Z"
   },
   {
    "duration": 104,
    "start_time": "2022-06-05T22:58:07.530Z"
   },
   {
    "duration": 69,
    "start_time": "2022-06-05T22:58:07.635Z"
   },
   {
    "duration": 72,
    "start_time": "2022-06-05T22:58:07.706Z"
   },
   {
    "duration": 72,
    "start_time": "2022-06-05T22:58:07.780Z"
   },
   {
    "duration": 73,
    "start_time": "2022-06-05T22:58:46.684Z"
   },
   {
    "duration": 70,
    "start_time": "2022-06-05T22:58:50.113Z"
   },
   {
    "duration": 561,
    "start_time": "2022-06-18T13:01:46.376Z"
   },
   {
    "duration": 258,
    "start_time": "2022-06-18T13:01:46.939Z"
   },
   {
    "duration": 81,
    "start_time": "2022-06-18T13:01:47.198Z"
   },
   {
    "duration": 69,
    "start_time": "2022-06-18T13:01:47.281Z"
   },
   {
    "duration": 75,
    "start_time": "2022-06-18T13:01:47.352Z"
   },
   {
    "duration": 88,
    "start_time": "2022-06-18T13:01:47.429Z"
   },
   {
    "duration": 76,
    "start_time": "2022-06-18T13:01:47.519Z"
   },
   {
    "duration": 116,
    "start_time": "2022-06-18T13:01:47.597Z"
   },
   {
    "duration": 72,
    "start_time": "2022-06-18T13:01:47.715Z"
   },
   {
    "duration": 74,
    "start_time": "2022-06-18T13:01:47.789Z"
   },
   {
    "duration": 73,
    "start_time": "2022-06-18T13:01:47.865Z"
   },
   {
    "duration": 10649,
    "start_time": "2022-09-19T13:27:15.719Z"
   },
   {
    "duration": 77,
    "start_time": "2022-09-19T13:27:26.370Z"
   },
   {
    "duration": 19,
    "start_time": "2022-09-19T13:27:26.449Z"
   },
   {
    "duration": 18,
    "start_time": "2022-09-19T13:27:26.471Z"
   },
   {
    "duration": 30,
    "start_time": "2022-09-19T13:27:26.491Z"
   },
   {
    "duration": 17,
    "start_time": "2022-09-19T13:27:26.523Z"
   },
   {
    "duration": 13,
    "start_time": "2022-09-19T13:27:26.542Z"
   },
   {
    "duration": 38,
    "start_time": "2022-09-19T13:27:26.556Z"
   },
   {
    "duration": 34,
    "start_time": "2022-09-19T13:27:26.595Z"
   },
   {
    "duration": 20,
    "start_time": "2022-09-19T13:27:26.631Z"
   },
   {
    "duration": 22,
    "start_time": "2022-09-19T13:27:26.653Z"
   },
   {
    "duration": 5,
    "start_time": "2022-09-19T13:39:18.154Z"
   },
   {
    "duration": 71,
    "start_time": "2022-09-19T13:40:22.302Z"
   },
   {
    "duration": 14,
    "start_time": "2022-09-19T13:41:25.749Z"
   },
   {
    "duration": 17,
    "start_time": "2022-09-19T13:42:21.845Z"
   },
   {
    "duration": 15,
    "start_time": "2022-09-19T13:43:11.989Z"
   },
   {
    "duration": 15,
    "start_time": "2022-09-19T13:44:16.559Z"
   },
   {
    "duration": 18,
    "start_time": "2022-09-19T13:45:27.551Z"
   },
   {
    "duration": 31,
    "start_time": "2022-09-19T13:46:26.260Z"
   },
   {
    "duration": 15,
    "start_time": "2022-09-19T13:47:35.741Z"
   },
   {
    "duration": 17,
    "start_time": "2022-09-19T13:48:20.543Z"
   },
   {
    "duration": 14,
    "start_time": "2022-09-19T13:48:57.383Z"
   }
  ],
  "kernelspec": {
   "display_name": "Python 3 (ipykernel)",
   "language": "python",
   "name": "python3"
  },
  "language_info": {
   "codemirror_mode": {
    "name": "ipython",
    "version": 3
   },
   "file_extension": ".py",
   "mimetype": "text/x-python",
   "name": "python",
   "nbconvert_exporter": "python",
   "pygments_lexer": "ipython3",
   "version": "3.9.5"
  },
  "toc": {
   "base_numbering": 1,
   "nav_menu": {},
   "number_sections": false,
   "sideBar": true,
   "skip_h1_title": false,
   "title_cell": "Table of Contents",
   "title_sidebar": "Contents",
   "toc_cell": false,
   "toc_position": {
    "height": "calc(100% - 180px)",
    "left": "10px",
    "top": "150px",
    "width": "348.352px"
   },
   "toc_section_display": true,
   "toc_window_display": false
  }
 },
 "nbformat": 4,
 "nbformat_minor": 2
}
