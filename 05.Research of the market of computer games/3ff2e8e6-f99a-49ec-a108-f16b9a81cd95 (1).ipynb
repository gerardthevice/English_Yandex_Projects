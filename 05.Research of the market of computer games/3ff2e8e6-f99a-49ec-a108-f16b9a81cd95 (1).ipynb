{
 "cells": [
  {
   "cell_type": "markdown",
   "metadata": {},
   "source": [
    "# Research of the market of computer games"
   ]
  },
  {
   "cell_type": "markdown",
   "metadata": {},
   "source": [
    "The online store \"Stream\" sells computer games all over the world. Data on game sales such as user and expert ratings, genres and platforms (for example, Xbox or PlayStation) are available from open sources. It is necessary to identify patterns that determine the success of the game. This will allow  to bet on a potentially popular product and plan advertising campaigns. We have data before 2016. Let's imagine that it's December 2016, and we are planning a campaign for 2017. It is necessary to work out the principle of working with the data."
   ]
  },
  {
   "cell_type": "markdown",
   "metadata": {},
   "source": [
    "## Studying the date"
   ]
  },
  {
   "cell_type": "code",
   "execution_count": 33,
   "metadata": {},
   "outputs": [],
   "source": [
    "# getting the table the necessary libraries\n",
    "import pandas as pd\n",
    "import matplotlib.pyplot as plt\n",
    "from scipy import stats as st\n",
    "\n",
    "import warnings\n",
    "warnings.filterwarnings('ignore')"
   ]
  },
  {
   "cell_type": "code",
   "execution_count": 35,
   "metadata": {},
   "outputs": [
    {
     "data": {
      "text/html": [
       "<div>\n",
       "<style scoped>\n",
       "    .dataframe tbody tr th:only-of-type {\n",
       "        vertical-align: middle;\n",
       "    }\n",
       "\n",
       "    .dataframe tbody tr th {\n",
       "        vertical-align: top;\n",
       "    }\n",
       "\n",
       "    .dataframe thead th {\n",
       "        text-align: right;\n",
       "    }\n",
       "</style>\n",
       "<table border=\"1\" class=\"dataframe\">\n",
       "  <thead>\n",
       "    <tr style=\"text-align: right;\">\n",
       "      <th></th>\n",
       "      <th>Name</th>\n",
       "      <th>Platform</th>\n",
       "      <th>Year_of_Release</th>\n",
       "      <th>Genre</th>\n",
       "      <th>NA_sales</th>\n",
       "      <th>EU_sales</th>\n",
       "      <th>JP_sales</th>\n",
       "      <th>Other_sales</th>\n",
       "      <th>Critic_Score</th>\n",
       "      <th>User_Score</th>\n",
       "      <th>Rating</th>\n",
       "    </tr>\n",
       "  </thead>\n",
       "  <tbody>\n",
       "    <tr>\n",
       "      <th>0</th>\n",
       "      <td>Wii Sports</td>\n",
       "      <td>Wii</td>\n",
       "      <td>2006.0</td>\n",
       "      <td>Sports</td>\n",
       "      <td>41.36</td>\n",
       "      <td>28.96</td>\n",
       "      <td>3.77</td>\n",
       "      <td>8.45</td>\n",
       "      <td>76.0</td>\n",
       "      <td>8</td>\n",
       "      <td>E</td>\n",
       "    </tr>\n",
       "    <tr>\n",
       "      <th>1</th>\n",
       "      <td>Super Mario Bros.</td>\n",
       "      <td>NES</td>\n",
       "      <td>1985.0</td>\n",
       "      <td>Platform</td>\n",
       "      <td>29.08</td>\n",
       "      <td>3.58</td>\n",
       "      <td>6.81</td>\n",
       "      <td>0.77</td>\n",
       "      <td>NaN</td>\n",
       "      <td>NaN</td>\n",
       "      <td>NaN</td>\n",
       "    </tr>\n",
       "    <tr>\n",
       "      <th>2</th>\n",
       "      <td>Mario Kart Wii</td>\n",
       "      <td>Wii</td>\n",
       "      <td>2008.0</td>\n",
       "      <td>Racing</td>\n",
       "      <td>15.68</td>\n",
       "      <td>12.76</td>\n",
       "      <td>3.79</td>\n",
       "      <td>3.29</td>\n",
       "      <td>82.0</td>\n",
       "      <td>8.3</td>\n",
       "      <td>E</td>\n",
       "    </tr>\n",
       "    <tr>\n",
       "      <th>3</th>\n",
       "      <td>Wii Sports Resort</td>\n",
       "      <td>Wii</td>\n",
       "      <td>2009.0</td>\n",
       "      <td>Sports</td>\n",
       "      <td>15.61</td>\n",
       "      <td>10.93</td>\n",
       "      <td>3.28</td>\n",
       "      <td>2.95</td>\n",
       "      <td>80.0</td>\n",
       "      <td>8</td>\n",
       "      <td>E</td>\n",
       "    </tr>\n",
       "    <tr>\n",
       "      <th>4</th>\n",
       "      <td>Pokemon Red/Pokemon Blue</td>\n",
       "      <td>GB</td>\n",
       "      <td>1996.0</td>\n",
       "      <td>Role-Playing</td>\n",
       "      <td>11.27</td>\n",
       "      <td>8.89</td>\n",
       "      <td>10.22</td>\n",
       "      <td>1.00</td>\n",
       "      <td>NaN</td>\n",
       "      <td>NaN</td>\n",
       "      <td>NaN</td>\n",
       "    </tr>\n",
       "    <tr>\n",
       "      <th>5</th>\n",
       "      <td>Tetris</td>\n",
       "      <td>GB</td>\n",
       "      <td>1989.0</td>\n",
       "      <td>Puzzle</td>\n",
       "      <td>23.20</td>\n",
       "      <td>2.26</td>\n",
       "      <td>4.22</td>\n",
       "      <td>0.58</td>\n",
       "      <td>NaN</td>\n",
       "      <td>NaN</td>\n",
       "      <td>NaN</td>\n",
       "    </tr>\n",
       "    <tr>\n",
       "      <th>6</th>\n",
       "      <td>New Super Mario Bros.</td>\n",
       "      <td>DS</td>\n",
       "      <td>2006.0</td>\n",
       "      <td>Platform</td>\n",
       "      <td>11.28</td>\n",
       "      <td>9.14</td>\n",
       "      <td>6.50</td>\n",
       "      <td>2.88</td>\n",
       "      <td>89.0</td>\n",
       "      <td>8.5</td>\n",
       "      <td>E</td>\n",
       "    </tr>\n",
       "    <tr>\n",
       "      <th>7</th>\n",
       "      <td>Wii Play</td>\n",
       "      <td>Wii</td>\n",
       "      <td>2006.0</td>\n",
       "      <td>Misc</td>\n",
       "      <td>13.96</td>\n",
       "      <td>9.18</td>\n",
       "      <td>2.93</td>\n",
       "      <td>2.84</td>\n",
       "      <td>58.0</td>\n",
       "      <td>6.6</td>\n",
       "      <td>E</td>\n",
       "    </tr>\n",
       "    <tr>\n",
       "      <th>8</th>\n",
       "      <td>New Super Mario Bros. Wii</td>\n",
       "      <td>Wii</td>\n",
       "      <td>2009.0</td>\n",
       "      <td>Platform</td>\n",
       "      <td>14.44</td>\n",
       "      <td>6.94</td>\n",
       "      <td>4.70</td>\n",
       "      <td>2.24</td>\n",
       "      <td>87.0</td>\n",
       "      <td>8.4</td>\n",
       "      <td>E</td>\n",
       "    </tr>\n",
       "    <tr>\n",
       "      <th>9</th>\n",
       "      <td>Duck Hunt</td>\n",
       "      <td>NES</td>\n",
       "      <td>1984.0</td>\n",
       "      <td>Shooter</td>\n",
       "      <td>26.93</td>\n",
       "      <td>0.63</td>\n",
       "      <td>0.28</td>\n",
       "      <td>0.47</td>\n",
       "      <td>NaN</td>\n",
       "      <td>NaN</td>\n",
       "      <td>NaN</td>\n",
       "    </tr>\n",
       "  </tbody>\n",
       "</table>\n",
       "</div>"
      ],
      "text/plain": [
       "                        Name Platform  Year_of_Release         Genre  \\\n",
       "0                 Wii Sports      Wii           2006.0        Sports   \n",
       "1          Super Mario Bros.      NES           1985.0      Platform   \n",
       "2             Mario Kart Wii      Wii           2008.0        Racing   \n",
       "3          Wii Sports Resort      Wii           2009.0        Sports   \n",
       "4   Pokemon Red/Pokemon Blue       GB           1996.0  Role-Playing   \n",
       "5                     Tetris       GB           1989.0        Puzzle   \n",
       "6      New Super Mario Bros.       DS           2006.0      Platform   \n",
       "7                   Wii Play      Wii           2006.0          Misc   \n",
       "8  New Super Mario Bros. Wii      Wii           2009.0      Platform   \n",
       "9                  Duck Hunt      NES           1984.0       Shooter   \n",
       "\n",
       "   NA_sales  EU_sales  JP_sales  Other_sales  Critic_Score User_Score Rating  \n",
       "0     41.36     28.96      3.77         8.45          76.0          8      E  \n",
       "1     29.08      3.58      6.81         0.77           NaN        NaN    NaN  \n",
       "2     15.68     12.76      3.79         3.29          82.0        8.3      E  \n",
       "3     15.61     10.93      3.28         2.95          80.0          8      E  \n",
       "4     11.27      8.89     10.22         1.00           NaN        NaN    NaN  \n",
       "5     23.20      2.26      4.22         0.58           NaN        NaN    NaN  \n",
       "6     11.28      9.14      6.50         2.88          89.0        8.5      E  \n",
       "7     13.96      9.18      2.93         2.84          58.0        6.6      E  \n",
       "8     14.44      6.94      4.70         2.24          87.0        8.4      E  \n",
       "9     26.93      0.63      0.28         0.47           NaN        NaN    NaN  "
      ]
     },
     "metadata": {},
     "output_type": "display_data"
    }
   ],
   "source": [
    "data = pd.read_csv('/datasets/games.csv')\n",
    "display(data.head(10))"
   ]
  },
  {
   "cell_type": "code",
   "execution_count": 36,
   "metadata": {},
   "outputs": [
    {
     "name": "stdout",
     "output_type": "stream",
     "text": [
      "<class 'pandas.core.frame.DataFrame'>\n",
      "RangeIndex: 16715 entries, 0 to 16714\n",
      "Data columns (total 11 columns):\n",
      " #   Column           Non-Null Count  Dtype  \n",
      "---  ------           --------------  -----  \n",
      " 0   Name             16713 non-null  object \n",
      " 1   Platform         16715 non-null  object \n",
      " 2   Year_of_Release  16446 non-null  float64\n",
      " 3   Genre            16713 non-null  object \n",
      " 4   NA_sales         16715 non-null  float64\n",
      " 5   EU_sales         16715 non-null  float64\n",
      " 6   JP_sales         16715 non-null  float64\n",
      " 7   Other_sales      16715 non-null  float64\n",
      " 8   Critic_Score     8137 non-null   float64\n",
      " 9   User_Score       10014 non-null  object \n",
      " 10  Rating           9949 non-null   object \n",
      "dtypes: float64(6), object(5)\n",
      "memory usage: 1.4+ MB\n"
     ]
    }
   ],
   "source": [
    "# getting general info on the table\n",
    "data.info()"
   ]
  },
  {
   "cell_type": "markdown",
   "metadata": {},
   "source": [
    "###  Conclusion"
   ]
  },
  {
   "cell_type": "markdown",
   "metadata": {},
   "source": [
    "The table contains 16715 rows and 11 columns, it has the data of the object and float64 types. Judging by the amount of data, the columns `Year_of_Release`, `Critic_Score`, `User_Score` and `Rating` have some gaps. We also see capital letters in the column names, it's better to correct them."
   ]
  },
  {
   "cell_type": "markdown",
   "metadata": {},
   "source": [
    "## Data preprocessing"
   ]
  },
  {
   "cell_type": "code",
   "execution_count": 37,
   "metadata": {},
   "outputs": [
    {
     "name": "stdout",
     "output_type": "stream",
     "text": [
      "<class 'pandas.core.frame.DataFrame'>\n",
      "RangeIndex: 16715 entries, 0 to 16714\n",
      "Data columns (total 11 columns):\n",
      " #   Column           Non-Null Count  Dtype  \n",
      "---  ------           --------------  -----  \n",
      " 0   name             16713 non-null  object \n",
      " 1   platform         16715 non-null  object \n",
      " 2   year_of_release  16446 non-null  float64\n",
      " 3   genre            16713 non-null  object \n",
      " 4   na_sales         16715 non-null  float64\n",
      " 5   eu_sales         16715 non-null  float64\n",
      " 6   jp_sales         16715 non-null  float64\n",
      " 7   other_sales      16715 non-null  float64\n",
      " 8   critic_score     8137 non-null   float64\n",
      " 9   user_score       10014 non-null  object \n",
      " 10  rating           9949 non-null   object \n",
      "dtypes: float64(6), object(5)\n",
      "memory usage: 1.4+ MB\n"
     ]
    }
   ],
   "source": [
    "# let's bring the data to the lower case\n",
    "data.columns = data.columns.str.lower()\n",
    "data.info()"
   ]
  },
  {
   "cell_type": "code",
   "execution_count": 38,
   "metadata": {},
   "outputs": [],
   "source": [
    "# convert the data type in Year_of_Release to datetime    \n",
    "data['year_of_release'] = pd.to_datetime(data['year_of_release'], format='%Y')"
   ]
  },
  {
   "cell_type": "code",
   "execution_count": 39,
   "metadata": {},
   "outputs": [],
   "source": [
    "# in the user_score column we can change the data to float and replace the tbd values (to be specified) with nan\n",
    "data['user_score'].unique()\n",
    "data.loc[data['user_score'] == 'tbd', 'user_score'] = float('nan')\n",
    "data['user_score'] = data['user_score'].astype(float)"
   ]
  },
  {
   "cell_type": "code",
   "execution_count": 40,
   "metadata": {},
   "outputs": [],
   "source": [
    "# we have reviewed the data in the rating column, let's replace the gaps with indefinite\n",
    "data['rating'].unique()\n",
    "data['rating'] = data['rating'].fillna('indefinite')"
   ]
  },
  {
   "cell_type": "code",
   "execution_count": 41,
   "metadata": {},
   "outputs": [
    {
     "data": {
      "text/plain": [
       "name                  2\n",
       "platform              0\n",
       "year_of_release     269\n",
       "genre                 2\n",
       "na_sales              0\n",
       "eu_sales              0\n",
       "jp_sales              0\n",
       "other_sales           0\n",
       "critic_score       8578\n",
       "user_score         9125\n",
       "rating                0\n",
       "dtype: int64"
      ]
     },
     "execution_count": 41,
     "metadata": {},
     "output_type": "execute_result"
    }
   ],
   "source": [
    "# let's check the gaps\n",
    "# using the isna() method to find missing values in columns where the data is obviously missing\n",
    "data.isna().sum()"
   ]
  },
  {
   "cell_type": "markdown",
   "metadata": {},
   "source": [
    "The share of the gaps in name and genre is 1%,  we can just leave them there"
   ]
  },
  {
   "cell_type": "code",
   "execution_count": 42,
   "metadata": {},
   "outputs": [],
   "source": [
    "# # there are not so many gaps in years (1.6%), they can be deleted\n",
    "data.dropna(subset = ['year_of_release'], inplace=True)"
   ]
  },
  {
   "cell_type": "code",
   "execution_count": 43,
   "metadata": {},
   "outputs": [
    {
     "data": {
      "text/html": [
       "<div>\n",
       "<style scoped>\n",
       "    .dataframe tbody tr th:only-of-type {\n",
       "        vertical-align: middle;\n",
       "    }\n",
       "\n",
       "    .dataframe tbody tr th {\n",
       "        vertical-align: top;\n",
       "    }\n",
       "\n",
       "    .dataframe thead th {\n",
       "        text-align: right;\n",
       "    }\n",
       "</style>\n",
       "<table border=\"1\" class=\"dataframe\">\n",
       "  <thead>\n",
       "    <tr style=\"text-align: right;\">\n",
       "      <th></th>\n",
       "      <th>name</th>\n",
       "      <th>platform</th>\n",
       "      <th>year_of_release</th>\n",
       "      <th>genre</th>\n",
       "      <th>na_sales</th>\n",
       "      <th>eu_sales</th>\n",
       "      <th>jp_sales</th>\n",
       "      <th>other_sales</th>\n",
       "      <th>critic_score</th>\n",
       "      <th>user_score</th>\n",
       "      <th>rating</th>\n",
       "      <th>total_sales</th>\n",
       "    </tr>\n",
       "  </thead>\n",
       "  <tbody>\n",
       "    <tr>\n",
       "      <th>0</th>\n",
       "      <td>Wii Sports</td>\n",
       "      <td>Wii</td>\n",
       "      <td>2006-01-01</td>\n",
       "      <td>Sports</td>\n",
       "      <td>41.36</td>\n",
       "      <td>28.96</td>\n",
       "      <td>3.77</td>\n",
       "      <td>8.45</td>\n",
       "      <td>76.0</td>\n",
       "      <td>8.0</td>\n",
       "      <td>E</td>\n",
       "      <td>82.54</td>\n",
       "    </tr>\n",
       "    <tr>\n",
       "      <th>1</th>\n",
       "      <td>Super Mario Bros.</td>\n",
       "      <td>NES</td>\n",
       "      <td>1985-01-01</td>\n",
       "      <td>Platform</td>\n",
       "      <td>29.08</td>\n",
       "      <td>3.58</td>\n",
       "      <td>6.81</td>\n",
       "      <td>0.77</td>\n",
       "      <td>NaN</td>\n",
       "      <td>NaN</td>\n",
       "      <td>indefinite</td>\n",
       "      <td>40.24</td>\n",
       "    </tr>\n",
       "    <tr>\n",
       "      <th>2</th>\n",
       "      <td>Mario Kart Wii</td>\n",
       "      <td>Wii</td>\n",
       "      <td>2008-01-01</td>\n",
       "      <td>Racing</td>\n",
       "      <td>15.68</td>\n",
       "      <td>12.76</td>\n",
       "      <td>3.79</td>\n",
       "      <td>3.29</td>\n",
       "      <td>82.0</td>\n",
       "      <td>8.3</td>\n",
       "      <td>E</td>\n",
       "      <td>35.52</td>\n",
       "    </tr>\n",
       "    <tr>\n",
       "      <th>3</th>\n",
       "      <td>Wii Sports Resort</td>\n",
       "      <td>Wii</td>\n",
       "      <td>2009-01-01</td>\n",
       "      <td>Sports</td>\n",
       "      <td>15.61</td>\n",
       "      <td>10.93</td>\n",
       "      <td>3.28</td>\n",
       "      <td>2.95</td>\n",
       "      <td>80.0</td>\n",
       "      <td>8.0</td>\n",
       "      <td>E</td>\n",
       "      <td>32.77</td>\n",
       "    </tr>\n",
       "    <tr>\n",
       "      <th>4</th>\n",
       "      <td>Pokemon Red/Pokemon Blue</td>\n",
       "      <td>GB</td>\n",
       "      <td>1996-01-01</td>\n",
       "      <td>Role-Playing</td>\n",
       "      <td>11.27</td>\n",
       "      <td>8.89</td>\n",
       "      <td>10.22</td>\n",
       "      <td>1.00</td>\n",
       "      <td>NaN</td>\n",
       "      <td>NaN</td>\n",
       "      <td>indefinite</td>\n",
       "      <td>31.38</td>\n",
       "    </tr>\n",
       "  </tbody>\n",
       "</table>\n",
       "</div>"
      ],
      "text/plain": [
       "                       name platform year_of_release         genre  na_sales  \\\n",
       "0                Wii Sports      Wii      2006-01-01        Sports     41.36   \n",
       "1         Super Mario Bros.      NES      1985-01-01      Platform     29.08   \n",
       "2            Mario Kart Wii      Wii      2008-01-01        Racing     15.68   \n",
       "3         Wii Sports Resort      Wii      2009-01-01        Sports     15.61   \n",
       "4  Pokemon Red/Pokemon Blue       GB      1996-01-01  Role-Playing     11.27   \n",
       "\n",
       "   eu_sales  jp_sales  other_sales  critic_score  user_score      rating  \\\n",
       "0     28.96      3.77         8.45          76.0         8.0           E   \n",
       "1      3.58      6.81         0.77           NaN         NaN  indefinite   \n",
       "2     12.76      3.79         3.29          82.0         8.3           E   \n",
       "3     10.93      3.28         2.95          80.0         8.0           E   \n",
       "4      8.89     10.22         1.00           NaN         NaN  indefinite   \n",
       "\n",
       "   total_sales  \n",
       "0        82.54  \n",
       "1        40.24  \n",
       "2        35.52  \n",
       "3        32.77  \n",
       "4        31.38  "
      ]
     },
     "execution_count": 43,
     "metadata": {},
     "output_type": "execute_result"
    }
   ],
   "source": [
    "# counting the revenue for all regions and record it in a new column\n",
    "data['total_sales'] = data['na_sales'] + data['eu_sales'] + data['jp_sales'] + data['other_sales']\n",
    "data.head()"
   ]
  },
  {
   "cell_type": "markdown",
   "metadata": {},
   "source": [
    "### Conclusion"
   ]
  },
  {
   "cell_type": "markdown",
   "metadata": {},
   "source": [
    "As a result of data preprocessing, the data type in `Year_of_Release` was replaced with datetime and in the `user_score` graph with float. In the `rating column`, I replaced the gaps with indefinite, since they will interfere with future analysis. The gaps in `year_of_release` the gaps were removed, since their share is 1.6%. Column `names` was changed to lowercase. A column was also created with calculations of total revenue for all regions."
   ]
  },
  {
   "cell_type": "markdown",
   "metadata": {},
   "source": [
    "## Exploratory data analysis"
   ]
  },
  {
   "cell_type": "markdown",
   "metadata": {},
   "source": [
    "### How many games were released in different years"
   ]
  },
  {
   "cell_type": "code",
   "execution_count": 45,
   "metadata": {},
   "outputs": [
    {
     "data": {
      "text/html": [
       "<div>\n",
       "<style scoped>\n",
       "    .dataframe tbody tr th:only-of-type {\n",
       "        vertical-align: middle;\n",
       "    }\n",
       "\n",
       "    .dataframe tbody tr th {\n",
       "        vertical-align: top;\n",
       "    }\n",
       "\n",
       "    .dataframe thead th {\n",
       "        text-align: right;\n",
       "    }\n",
       "</style>\n",
       "<table border=\"1\" class=\"dataframe\">\n",
       "  <thead>\n",
       "    <tr style=\"text-align: right;\">\n",
       "      <th></th>\n",
       "      <th>number_of_games</th>\n",
       "    </tr>\n",
       "    <tr>\n",
       "      <th>year_of_release</th>\n",
       "      <th></th>\n",
       "    </tr>\n",
       "  </thead>\n",
       "  <tbody>\n",
       "    <tr>\n",
       "      <th>2008-01-01</th>\n",
       "      <td>1427</td>\n",
       "    </tr>\n",
       "    <tr>\n",
       "      <th>2009-01-01</th>\n",
       "      <td>1426</td>\n",
       "    </tr>\n",
       "    <tr>\n",
       "      <th>2010-01-01</th>\n",
       "      <td>1255</td>\n",
       "    </tr>\n",
       "    <tr>\n",
       "      <th>2007-01-01</th>\n",
       "      <td>1197</td>\n",
       "    </tr>\n",
       "    <tr>\n",
       "      <th>2011-01-01</th>\n",
       "      <td>1136</td>\n",
       "    </tr>\n",
       "    <tr>\n",
       "      <th>2006-01-01</th>\n",
       "      <td>1006</td>\n",
       "    </tr>\n",
       "    <tr>\n",
       "      <th>2005-01-01</th>\n",
       "      <td>939</td>\n",
       "    </tr>\n",
       "    <tr>\n",
       "      <th>2002-01-01</th>\n",
       "      <td>829</td>\n",
       "    </tr>\n",
       "    <tr>\n",
       "      <th>2003-01-01</th>\n",
       "      <td>775</td>\n",
       "    </tr>\n",
       "    <tr>\n",
       "      <th>2004-01-01</th>\n",
       "      <td>762</td>\n",
       "    </tr>\n",
       "    <tr>\n",
       "      <th>2012-01-01</th>\n",
       "      <td>653</td>\n",
       "    </tr>\n",
       "    <tr>\n",
       "      <th>2015-01-01</th>\n",
       "      <td>606</td>\n",
       "    </tr>\n",
       "    <tr>\n",
       "      <th>2014-01-01</th>\n",
       "      <td>581</td>\n",
       "    </tr>\n",
       "    <tr>\n",
       "      <th>2013-01-01</th>\n",
       "      <td>544</td>\n",
       "    </tr>\n",
       "    <tr>\n",
       "      <th>2016-01-01</th>\n",
       "      <td>502</td>\n",
       "    </tr>\n",
       "    <tr>\n",
       "      <th>2001-01-01</th>\n",
       "      <td>482</td>\n",
       "    </tr>\n",
       "    <tr>\n",
       "      <th>1998-01-01</th>\n",
       "      <td>379</td>\n",
       "    </tr>\n",
       "    <tr>\n",
       "      <th>2000-01-01</th>\n",
       "      <td>350</td>\n",
       "    </tr>\n",
       "    <tr>\n",
       "      <th>1999-01-01</th>\n",
       "      <td>338</td>\n",
       "    </tr>\n",
       "    <tr>\n",
       "      <th>1997-01-01</th>\n",
       "      <td>289</td>\n",
       "    </tr>\n",
       "    <tr>\n",
       "      <th>1996-01-01</th>\n",
       "      <td>263</td>\n",
       "    </tr>\n",
       "    <tr>\n",
       "      <th>1995-01-01</th>\n",
       "      <td>219</td>\n",
       "    </tr>\n",
       "    <tr>\n",
       "      <th>1994-01-01</th>\n",
       "      <td>121</td>\n",
       "    </tr>\n",
       "    <tr>\n",
       "      <th>1993-01-01</th>\n",
       "      <td>62</td>\n",
       "    </tr>\n",
       "    <tr>\n",
       "      <th>1981-01-01</th>\n",
       "      <td>46</td>\n",
       "    </tr>\n",
       "    <tr>\n",
       "      <th>1992-01-01</th>\n",
       "      <td>43</td>\n",
       "    </tr>\n",
       "    <tr>\n",
       "      <th>1991-01-01</th>\n",
       "      <td>41</td>\n",
       "    </tr>\n",
       "    <tr>\n",
       "      <th>1982-01-01</th>\n",
       "      <td>36</td>\n",
       "    </tr>\n",
       "    <tr>\n",
       "      <th>1986-01-01</th>\n",
       "      <td>21</td>\n",
       "    </tr>\n",
       "    <tr>\n",
       "      <th>1989-01-01</th>\n",
       "      <td>17</td>\n",
       "    </tr>\n",
       "    <tr>\n",
       "      <th>1983-01-01</th>\n",
       "      <td>17</td>\n",
       "    </tr>\n",
       "    <tr>\n",
       "      <th>1990-01-01</th>\n",
       "      <td>16</td>\n",
       "    </tr>\n",
       "    <tr>\n",
       "      <th>1987-01-01</th>\n",
       "      <td>16</td>\n",
       "    </tr>\n",
       "    <tr>\n",
       "      <th>1988-01-01</th>\n",
       "      <td>15</td>\n",
       "    </tr>\n",
       "    <tr>\n",
       "      <th>1985-01-01</th>\n",
       "      <td>14</td>\n",
       "    </tr>\n",
       "    <tr>\n",
       "      <th>1984-01-01</th>\n",
       "      <td>14</td>\n",
       "    </tr>\n",
       "    <tr>\n",
       "      <th>1980-01-01</th>\n",
       "      <td>9</td>\n",
       "    </tr>\n",
       "  </tbody>\n",
       "</table>\n",
       "</div>"
      ],
      "text/plain": [
       "                 number_of_games\n",
       "year_of_release                 \n",
       "2008-01-01                  1427\n",
       "2009-01-01                  1426\n",
       "2010-01-01                  1255\n",
       "2007-01-01                  1197\n",
       "2011-01-01                  1136\n",
       "2006-01-01                  1006\n",
       "2005-01-01                   939\n",
       "2002-01-01                   829\n",
       "2003-01-01                   775\n",
       "2004-01-01                   762\n",
       "2012-01-01                   653\n",
       "2015-01-01                   606\n",
       "2014-01-01                   581\n",
       "2013-01-01                   544\n",
       "2016-01-01                   502\n",
       "2001-01-01                   482\n",
       "1998-01-01                   379\n",
       "2000-01-01                   350\n",
       "1999-01-01                   338\n",
       "1997-01-01                   289\n",
       "1996-01-01                   263\n",
       "1995-01-01                   219\n",
       "1994-01-01                   121\n",
       "1993-01-01                    62\n",
       "1981-01-01                    46\n",
       "1992-01-01                    43\n",
       "1991-01-01                    41\n",
       "1982-01-01                    36\n",
       "1986-01-01                    21\n",
       "1989-01-01                    17\n",
       "1983-01-01                    17\n",
       "1990-01-01                    16\n",
       "1987-01-01                    16\n",
       "1988-01-01                    15\n",
       "1985-01-01                    14\n",
       "1984-01-01                    14\n",
       "1980-01-01                     9"
      ]
     },
     "metadata": {},
     "output_type": "display_data"
    },
    {
     "data": {
      "text/plain": [
       "<AxesSubplot:title={'center':'Games released by year'}, xlabel='year_of_release'>"
      ]
     },
     "execution_count": 45,
     "metadata": {},
     "output_type": "execute_result"
    },
    {
     "data": {
      "image/png": "[encoded data removed]",
      "text/plain": [
       "<Figure size 1080x360 with 1 Axes>"
      ]
     },
     "metadata": {
      "needs_background": "light"
     },
     "output_type": "display_data"
    }
   ],
   "source": [
    "# grouping the number of games by year and sort them in descending order\n",
    "game_years = data.groupby(['year_of_release']).agg({'year_of_release' : 'count'})\n",
    "game_years.columns = ['number_of_games']\n",
    "display(game_years.sort_values(by='number_of_games', ascending = False))\n",
    "game_years.sort_values(by='number_of_games', ascending = False).plot(figsize=(15,5), title = 'Games released by year')"
   ]
  },
  {
   "cell_type": "markdown",
   "metadata": {},
   "source": [
    "The table and the graph show that majority of games were released in the period from 2002 to 2011, in 2012 there was a drop in the release of games, since then the growth remained insignificant. The peak of the release of games was observed from 2007 to 2009. "
   ]
  },
  {
   "cell_type": "markdown",
   "metadata": {},
   "source": [
    "### On which platforms were the games released in different years"
   ]
  },
  {
   "cell_type": "code",
   "execution_count": 46,
   "metadata": {},
   "outputs": [
    {
     "data": {
      "text/html": [
       "<div>\n",
       "<style scoped>\n",
       "    .dataframe tbody tr th:only-of-type {\n",
       "        vertical-align: middle;\n",
       "    }\n",
       "\n",
       "    .dataframe tbody tr th {\n",
       "        vertical-align: top;\n",
       "    }\n",
       "\n",
       "    .dataframe thead th {\n",
       "        text-align: right;\n",
       "    }\n",
       "</style>\n",
       "<table border=\"1\" class=\"dataframe\">\n",
       "  <thead>\n",
       "    <tr style=\"text-align: right;\">\n",
       "      <th></th>\n",
       "      <th>platform_sales</th>\n",
       "    </tr>\n",
       "    <tr>\n",
       "      <th>platform</th>\n",
       "      <th></th>\n",
       "    </tr>\n",
       "  </thead>\n",
       "  <tbody>\n",
       "    <tr>\n",
       "      <th>PS2</th>\n",
       "      <td>1233.56</td>\n",
       "    </tr>\n",
       "    <tr>\n",
       "      <th>X360</th>\n",
       "      <td>961.24</td>\n",
       "    </tr>\n",
       "    <tr>\n",
       "      <th>PS3</th>\n",
       "      <td>931.34</td>\n",
       "    </tr>\n",
       "    <tr>\n",
       "      <th>Wii</th>\n",
       "      <td>891.18</td>\n",
       "    </tr>\n",
       "    <tr>\n",
       "      <th>DS</th>\n",
       "      <td>802.78</td>\n",
       "    </tr>\n",
       "    <tr>\n",
       "      <th>PS</th>\n",
       "      <td>727.58</td>\n",
       "    </tr>\n",
       "    <tr>\n",
       "      <th>PS4</th>\n",
       "      <td>314.14</td>\n",
       "    </tr>\n",
       "    <tr>\n",
       "      <th>GBA</th>\n",
       "      <td>312.88</td>\n",
       "    </tr>\n",
       "    <tr>\n",
       "      <th>PSP</th>\n",
       "      <td>289.53</td>\n",
       "    </tr>\n",
       "    <tr>\n",
       "      <th>3DS</th>\n",
       "      <td>257.81</td>\n",
       "    </tr>\n",
       "    <tr>\n",
       "      <th>PC</th>\n",
       "      <td>255.76</td>\n",
       "    </tr>\n",
       "    <tr>\n",
       "      <th>GB</th>\n",
       "      <td>254.43</td>\n",
       "    </tr>\n",
       "    <tr>\n",
       "      <th>XB</th>\n",
       "      <td>251.57</td>\n",
       "    </tr>\n",
       "    <tr>\n",
       "      <th>NES</th>\n",
       "      <td>251.05</td>\n",
       "    </tr>\n",
       "    <tr>\n",
       "      <th>N64</th>\n",
       "      <td>218.01</td>\n",
       "    </tr>\n",
       "    <tr>\n",
       "      <th>SNES</th>\n",
       "      <td>200.04</td>\n",
       "    </tr>\n",
       "    <tr>\n",
       "      <th>GC</th>\n",
       "      <td>196.73</td>\n",
       "    </tr>\n",
       "    <tr>\n",
       "      <th>XOne</th>\n",
       "      <td>159.32</td>\n",
       "    </tr>\n",
       "    <tr>\n",
       "      <th>2600</th>\n",
       "      <td>86.48</td>\n",
       "    </tr>\n",
       "    <tr>\n",
       "      <th>WiiU</th>\n",
       "      <td>82.19</td>\n",
       "    </tr>\n",
       "    <tr>\n",
       "      <th>PSV</th>\n",
       "      <td>53.81</td>\n",
       "    </tr>\n",
       "    <tr>\n",
       "      <th>SAT</th>\n",
       "      <td>33.59</td>\n",
       "    </tr>\n",
       "    <tr>\n",
       "      <th>GEN</th>\n",
       "      <td>30.77</td>\n",
       "    </tr>\n",
       "    <tr>\n",
       "      <th>DC</th>\n",
       "      <td>15.95</td>\n",
       "    </tr>\n",
       "    <tr>\n",
       "      <th>SCD</th>\n",
       "      <td>1.86</td>\n",
       "    </tr>\n",
       "    <tr>\n",
       "      <th>NG</th>\n",
       "      <td>1.44</td>\n",
       "    </tr>\n",
       "    <tr>\n",
       "      <th>WS</th>\n",
       "      <td>1.42</td>\n",
       "    </tr>\n",
       "    <tr>\n",
       "      <th>TG16</th>\n",
       "      <td>0.16</td>\n",
       "    </tr>\n",
       "    <tr>\n",
       "      <th>3DO</th>\n",
       "      <td>0.10</td>\n",
       "    </tr>\n",
       "    <tr>\n",
       "      <th>GG</th>\n",
       "      <td>0.04</td>\n",
       "    </tr>\n",
       "    <tr>\n",
       "      <th>PCFX</th>\n",
       "      <td>0.03</td>\n",
       "    </tr>\n",
       "  </tbody>\n",
       "</table>\n",
       "</div>"
      ],
      "text/plain": [
       "          platform_sales\n",
       "platform                \n",
       "PS2              1233.56\n",
       "X360              961.24\n",
       "PS3               931.34\n",
       "Wii               891.18\n",
       "DS                802.78\n",
       "PS                727.58\n",
       "PS4               314.14\n",
       "GBA               312.88\n",
       "PSP               289.53\n",
       "3DS               257.81\n",
       "PC                255.76\n",
       "GB                254.43\n",
       "XB                251.57\n",
       "NES               251.05\n",
       "N64               218.01\n",
       "SNES              200.04\n",
       "GC                196.73\n",
       "XOne              159.32\n",
       "2600               86.48\n",
       "WiiU               82.19\n",
       "PSV                53.81\n",
       "SAT                33.59\n",
       "GEN                30.77\n",
       "DC                 15.95\n",
       "SCD                 1.86\n",
       "NG                  1.44\n",
       "WS                  1.42\n",
       "TG16                0.16\n",
       "3DO                 0.10\n",
       "GG                  0.04\n",
       "PCFX                0.03"
      ]
     },
     "metadata": {},
     "output_type": "display_data"
    }
   ],
   "source": [
    "# let's build a table where we can see the platforms with the largest number of sales\n",
    "platform_sales = data.groupby(['platform']).agg({'total_sales' : 'sum'})\n",
    "platform_sales.columns = ['platform_sales']\n",
    "display(platform_sales.sort_values(by='platform_sales', ascending = False))"
   ]
  },
  {
   "cell_type": "markdown",
   "metadata": {},
   "source": [
    "The table shows that the most popular platforms were PS2, X360, PS3, Wii."
   ]
  },
  {
   "cell_type": "code",
   "execution_count": 47,
   "metadata": {},
   "outputs": [
    {
     "data": {
      "text/plain": [
       "<AxesSubplot:title={'center':'Sales on different platforms by year'}, xlabel='year_of_release'>"
      ]
     },
     "execution_count": 47,
     "metadata": {},
     "output_type": "execute_result"
    },
    {
     "data": {
      "image/png": "[encoded data removed]",
      "text/plain": [
       "<Figure size 864x360 with 1 Axes>"
      ]
     },
     "metadata": {
      "needs_background": "light"
     },
     "output_type": "display_data"
    }
   ],
   "source": [
    "data.query('platform in [\"PS2\", \"X360\", \"PS3\", \"Wii\"]').pivot_table(index='year_of_release', columns = 'platform', values='total_sales', aggfunc='sum').plot(grid=True, figsize=(12, 5), title = 'Sales on different platforms by year')\n"
   ]
  },
  {
   "cell_type": "markdown",
   "metadata": {},
   "source": [
    "The table and the graph show that the peak of sales of the gaming platform lasts about 5 years, after which the sales fall."
   ]
  },
  {
   "cell_type": "markdown",
   "metadata": {},
   "source": [
    "### Which platforms are leading in sales, growing or falling based on the data of the current period"
   ]
  },
  {
   "cell_type": "markdown",
   "metadata": {},
   "source": [
    "Based on the analyzed data, it is possible to identify an actual period for further analysis and forecasting, it is 2 years. Firstly, it is worth remembering the specifics of the industry. Game development products can behave unpredictably, with this in mind, it is worth staying within the short or medium economic term. Secondly, the lifespan of a platform is about 5 years, which includes the growth and gradual decline in popularity. Based on these arguments, it is worth taking a period for analysis of no more than **2 years**.\n"
   ]
  },
  {
   "cell_type": "code",
   "execution_count": 48,
   "metadata": {},
   "outputs": [
    {
     "data": {
      "text/html": [
       "<div>\n",
       "<style scoped>\n",
       "    .dataframe tbody tr th:only-of-type {\n",
       "        vertical-align: middle;\n",
       "    }\n",
       "\n",
       "    .dataframe tbody tr th {\n",
       "        vertical-align: top;\n",
       "    }\n",
       "\n",
       "    .dataframe thead th {\n",
       "        text-align: right;\n",
       "    }\n",
       "</style>\n",
       "<table border=\"1\" class=\"dataframe\">\n",
       "  <thead>\n",
       "    <tr style=\"text-align: right;\">\n",
       "      <th></th>\n",
       "      <th>name</th>\n",
       "      <th>platform</th>\n",
       "      <th>year_of_release</th>\n",
       "      <th>genre</th>\n",
       "      <th>na_sales</th>\n",
       "      <th>eu_sales</th>\n",
       "      <th>jp_sales</th>\n",
       "      <th>other_sales</th>\n",
       "      <th>critic_score</th>\n",
       "      <th>user_score</th>\n",
       "      <th>rating</th>\n",
       "      <th>total_sales</th>\n",
       "    </tr>\n",
       "  </thead>\n",
       "  <tbody>\n",
       "    <tr>\n",
       "      <th>31</th>\n",
       "      <td>Call of Duty: Black Ops 3</td>\n",
       "      <td>PS4</td>\n",
       "      <td>2015-01-01</td>\n",
       "      <td>Shooter</td>\n",
       "      <td>6.03</td>\n",
       "      <td>5.86</td>\n",
       "      <td>0.36</td>\n",
       "      <td>2.38</td>\n",
       "      <td>NaN</td>\n",
       "      <td>NaN</td>\n",
       "      <td>indefinite</td>\n",
       "      <td>14.63</td>\n",
       "    </tr>\n",
       "    <tr>\n",
       "      <th>77</th>\n",
       "      <td>FIFA 16</td>\n",
       "      <td>PS4</td>\n",
       "      <td>2015-01-01</td>\n",
       "      <td>Sports</td>\n",
       "      <td>1.12</td>\n",
       "      <td>6.12</td>\n",
       "      <td>0.06</td>\n",
       "      <td>1.28</td>\n",
       "      <td>82.0</td>\n",
       "      <td>4.3</td>\n",
       "      <td>E</td>\n",
       "      <td>8.58</td>\n",
       "    </tr>\n",
       "    <tr>\n",
       "      <th>87</th>\n",
       "      <td>Star Wars Battlefront (2015)</td>\n",
       "      <td>PS4</td>\n",
       "      <td>2015-01-01</td>\n",
       "      <td>Shooter</td>\n",
       "      <td>2.99</td>\n",
       "      <td>3.49</td>\n",
       "      <td>0.22</td>\n",
       "      <td>1.28</td>\n",
       "      <td>NaN</td>\n",
       "      <td>NaN</td>\n",
       "      <td>indefinite</td>\n",
       "      <td>7.98</td>\n",
       "    </tr>\n",
       "    <tr>\n",
       "      <th>94</th>\n",
       "      <td>FIFA 17</td>\n",
       "      <td>PS4</td>\n",
       "      <td>2016-01-01</td>\n",
       "      <td>Sports</td>\n",
       "      <td>0.66</td>\n",
       "      <td>5.75</td>\n",
       "      <td>0.08</td>\n",
       "      <td>1.11</td>\n",
       "      <td>85.0</td>\n",
       "      <td>5.0</td>\n",
       "      <td>E</td>\n",
       "      <td>7.60</td>\n",
       "    </tr>\n",
       "    <tr>\n",
       "      <th>99</th>\n",
       "      <td>Call of Duty: Black Ops 3</td>\n",
       "      <td>XOne</td>\n",
       "      <td>2015-01-01</td>\n",
       "      <td>Shooter</td>\n",
       "      <td>4.59</td>\n",
       "      <td>2.11</td>\n",
       "      <td>0.01</td>\n",
       "      <td>0.68</td>\n",
       "      <td>NaN</td>\n",
       "      <td>NaN</td>\n",
       "      <td>indefinite</td>\n",
       "      <td>7.39</td>\n",
       "    </tr>\n",
       "    <tr>\n",
       "      <th>...</th>\n",
       "      <td>...</td>\n",
       "      <td>...</td>\n",
       "      <td>...</td>\n",
       "      <td>...</td>\n",
       "      <td>...</td>\n",
       "      <td>...</td>\n",
       "      <td>...</td>\n",
       "      <td>...</td>\n",
       "      <td>...</td>\n",
       "      <td>...</td>\n",
       "      <td>...</td>\n",
       "      <td>...</td>\n",
       "    </tr>\n",
       "    <tr>\n",
       "      <th>16699</th>\n",
       "      <td>The Longest 5 Minutes</td>\n",
       "      <td>PSV</td>\n",
       "      <td>2016-01-01</td>\n",
       "      <td>Action</td>\n",
       "      <td>0.00</td>\n",
       "      <td>0.00</td>\n",
       "      <td>0.01</td>\n",
       "      <td>0.00</td>\n",
       "      <td>NaN</td>\n",
       "      <td>NaN</td>\n",
       "      <td>indefinite</td>\n",
       "      <td>0.01</td>\n",
       "    </tr>\n",
       "    <tr>\n",
       "      <th>16703</th>\n",
       "      <td>Strawberry Nauts</td>\n",
       "      <td>PSV</td>\n",
       "      <td>2016-01-01</td>\n",
       "      <td>Adventure</td>\n",
       "      <td>0.00</td>\n",
       "      <td>0.00</td>\n",
       "      <td>0.01</td>\n",
       "      <td>0.00</td>\n",
       "      <td>NaN</td>\n",
       "      <td>NaN</td>\n",
       "      <td>indefinite</td>\n",
       "      <td>0.01</td>\n",
       "    </tr>\n",
       "    <tr>\n",
       "      <th>16710</th>\n",
       "      <td>Samurai Warriors: Sanada Maru</td>\n",
       "      <td>PS3</td>\n",
       "      <td>2016-01-01</td>\n",
       "      <td>Action</td>\n",
       "      <td>0.00</td>\n",
       "      <td>0.00</td>\n",
       "      <td>0.01</td>\n",
       "      <td>0.00</td>\n",
       "      <td>NaN</td>\n",
       "      <td>NaN</td>\n",
       "      <td>indefinite</td>\n",
       "      <td>0.01</td>\n",
       "    </tr>\n",
       "    <tr>\n",
       "      <th>16712</th>\n",
       "      <td>Haitaka no Psychedelica</td>\n",
       "      <td>PSV</td>\n",
       "      <td>2016-01-01</td>\n",
       "      <td>Adventure</td>\n",
       "      <td>0.00</td>\n",
       "      <td>0.00</td>\n",
       "      <td>0.01</td>\n",
       "      <td>0.00</td>\n",
       "      <td>NaN</td>\n",
       "      <td>NaN</td>\n",
       "      <td>indefinite</td>\n",
       "      <td>0.01</td>\n",
       "    </tr>\n",
       "    <tr>\n",
       "      <th>16714</th>\n",
       "      <td>Winning Post 8 2016</td>\n",
       "      <td>PSV</td>\n",
       "      <td>2016-01-01</td>\n",
       "      <td>Simulation</td>\n",
       "      <td>0.00</td>\n",
       "      <td>0.00</td>\n",
       "      <td>0.01</td>\n",
       "      <td>0.00</td>\n",
       "      <td>NaN</td>\n",
       "      <td>NaN</td>\n",
       "      <td>indefinite</td>\n",
       "      <td>0.01</td>\n",
       "    </tr>\n",
       "  </tbody>\n",
       "</table>\n",
       "<p>1108 rows × 12 columns</p>\n",
       "</div>"
      ],
      "text/plain": [
       "                                name platform year_of_release       genre  \\\n",
       "31         Call of Duty: Black Ops 3      PS4      2015-01-01     Shooter   \n",
       "77                           FIFA 16      PS4      2015-01-01      Sports   \n",
       "87      Star Wars Battlefront (2015)      PS4      2015-01-01     Shooter   \n",
       "94                           FIFA 17      PS4      2016-01-01      Sports   \n",
       "99         Call of Duty: Black Ops 3     XOne      2015-01-01     Shooter   \n",
       "...                              ...      ...             ...         ...   \n",
       "16699          The Longest 5 Minutes      PSV      2016-01-01      Action   \n",
       "16703               Strawberry Nauts      PSV      2016-01-01   Adventure   \n",
       "16710  Samurai Warriors: Sanada Maru      PS3      2016-01-01      Action   \n",
       "16712        Haitaka no Psychedelica      PSV      2016-01-01   Adventure   \n",
       "16714            Winning Post 8 2016      PSV      2016-01-01  Simulation   \n",
       "\n",
       "       na_sales  eu_sales  jp_sales  other_sales  critic_score  user_score  \\\n",
       "31         6.03      5.86      0.36         2.38           NaN         NaN   \n",
       "77         1.12      6.12      0.06         1.28          82.0         4.3   \n",
       "87         2.99      3.49      0.22         1.28           NaN         NaN   \n",
       "94         0.66      5.75      0.08         1.11          85.0         5.0   \n",
       "99         4.59      2.11      0.01         0.68           NaN         NaN   \n",
       "...         ...       ...       ...          ...           ...         ...   \n",
       "16699      0.00      0.00      0.01         0.00           NaN         NaN   \n",
       "16703      0.00      0.00      0.01         0.00           NaN         NaN   \n",
       "16710      0.00      0.00      0.01         0.00           NaN         NaN   \n",
       "16712      0.00      0.00      0.01         0.00           NaN         NaN   \n",
       "16714      0.00      0.00      0.01         0.00           NaN         NaN   \n",
       "\n",
       "           rating  total_sales  \n",
       "31     indefinite        14.63  \n",
       "77              E         8.58  \n",
       "87     indefinite         7.98  \n",
       "94              E         7.60  \n",
       "99     indefinite         7.39  \n",
       "...           ...          ...  \n",
       "16699  indefinite         0.01  \n",
       "16703  indefinite         0.01  \n",
       "16710  indefinite         0.01  \n",
       "16712  indefinite         0.01  \n",
       "16714  indefinite         0.01  \n",
       "\n",
       "[1108 rows x 12 columns]"
      ]
     },
     "metadata": {},
     "output_type": "display_data"
    }
   ],
   "source": [
    "# let's create a dataframe with actual period\n",
    "actual_data = data.query('year_of_release > 2014')\n",
    "display(actual_data)"
   ]
  },
  {
   "cell_type": "code",
   "execution_count": 50,
   "metadata": {},
   "outputs": [
    {
     "data": {
      "text/html": [
       "<div>\n",
       "<style scoped>\n",
       "    .dataframe tbody tr th:only-of-type {\n",
       "        vertical-align: middle;\n",
       "    }\n",
       "\n",
       "    .dataframe tbody tr th {\n",
       "        vertical-align: top;\n",
       "    }\n",
       "\n",
       "    .dataframe thead th {\n",
       "        text-align: right;\n",
       "    }\n",
       "</style>\n",
       "<table border=\"1\" class=\"dataframe\">\n",
       "  <thead>\n",
       "    <tr style=\"text-align: right;\">\n",
       "      <th></th>\n",
       "      <th>total_sales</th>\n",
       "    </tr>\n",
       "    <tr>\n",
       "      <th>platform</th>\n",
       "      <th></th>\n",
       "    </tr>\n",
       "  </thead>\n",
       "  <tbody>\n",
       "    <tr>\n",
       "      <th>PS4</th>\n",
       "      <td>188.15</td>\n",
       "    </tr>\n",
       "    <tr>\n",
       "      <th>XOne</th>\n",
       "      <td>86.29</td>\n",
       "    </tr>\n",
       "    <tr>\n",
       "      <th>3DS</th>\n",
       "      <td>42.92</td>\n",
       "    </tr>\n",
       "    <tr>\n",
       "      <th>WiiU</th>\n",
       "      <td>20.95</td>\n",
       "    </tr>\n",
       "    <tr>\n",
       "      <th>PS3</th>\n",
       "      <td>20.42</td>\n",
       "    </tr>\n",
       "    <tr>\n",
       "      <th>PC</th>\n",
       "      <td>13.77</td>\n",
       "    </tr>\n",
       "    <tr>\n",
       "      <th>X360</th>\n",
       "      <td>13.48</td>\n",
       "    </tr>\n",
       "    <tr>\n",
       "      <th>PSV</th>\n",
       "      <td>10.50</td>\n",
       "    </tr>\n",
       "    <tr>\n",
       "      <th>Wii</th>\n",
       "      <td>1.32</td>\n",
       "    </tr>\n",
       "    <tr>\n",
       "      <th>PSP</th>\n",
       "      <td>0.12</td>\n",
       "    </tr>\n",
       "  </tbody>\n",
       "</table>\n",
       "</div>"
      ],
      "text/plain": [
       "          total_sales\n",
       "platform             \n",
       "PS4            188.15\n",
       "XOne            86.29\n",
       "3DS             42.92\n",
       "WiiU            20.95\n",
       "PS3             20.42\n",
       "PC              13.77\n",
       "X360            13.48\n",
       "PSV             10.50\n",
       "Wii              1.32\n",
       "PSP              0.12"
      ]
     },
     "metadata": {},
     "output_type": "display_data"
    },
    {
     "data": {
      "text/plain": [
       "<AxesSubplot:title={'center':'The dynamics of the games'}, xlabel='year_of_release'>"
      ]
     },
     "execution_count": 50,
     "metadata": {},
     "output_type": "execute_result"
    },
    {
     "data": {
      "image/png": "[encoded data removed]",
      "text/plain": [
       "<Figure size 864x360 with 1 Axes>"
      ]
     },
     "metadata": {
      "needs_background": "light"
     },
     "output_type": "display_data"
    }
   ],
   "source": [
    "#  let's build a table to see which platforms are leading in sales, growing or falling\n",
    "leading_platforms = actual_data.pivot_table(index='platform', values='total_sales', aggfunc='sum')\n",
    "display(leading_platforms.sort_values(by='total_sales', ascending=False))\n",
    "data.query('platform in [\"PS4\", \"XOne\", \"3DS\", \"WiiU\"]').pivot_table(index='year_of_release', columns = 'platform', values='total_sales', aggfunc='sum').plot(grid=True, figsize=(12, 5), title = 'The dynamics of the games')"
   ]
  },
  {
   "cell_type": "markdown",
   "metadata": {},
   "source": [
    "The table and the graph show that the highest sales figures has PS4, XOne and 3DS platforms (in 2015 and 2016). However, the graph shows that their sales was declining since 2015."
   ]
  },
  {
   "cell_type": "markdown",
   "metadata": {},
   "source": [
    "### Boxplot on global game sales (by platform)"
   ]
  },
  {
   "cell_type": "code",
   "execution_count": 51,
   "metadata": {},
   "outputs": [
    {
     "data": {
      "text/plain": [
       "Text(0.5, 1.0, 'Global game sales (by platform)')"
      ]
     },
     "execution_count": 51,
     "metadata": {},
     "output_type": "execute_result"
    },
    {
     "data": {
      "image/png": "[encoded data removed]",
      "text/plain": [
       "<Figure size 1440x720 with 1 Axes>"
      ]
     },
     "metadata": {
      "needs_background": "light"
     },
     "output_type": "display_data"
    }
   ],
   "source": [
    "actual_data.boxplot(column = 'total_sales', by='platform', figsize=(20,10))\n",
    "plt.ylim(0, 3)\n",
    "plt.title('Global game sales (by platform)')"
   ]
  },
  {
   "cell_type": "markdown",
   "metadata": {},
   "source": [
    "The boxplots show that XOne had the highest sales (the upper quartile boundary), followed by PS4 and WiiU. At the same time, their median values (green line) do not differ much. Also for PS4 there is a large number of outliers. There are fewer of them for XOne, 3DS and WiiU. Outliers are visible beyond the upper boundary, they are indicated by dots."
   ]
  },
  {
   "cell_type": "markdown",
   "metadata": {},
   "source": [
    "### The impact of user reviews and critics on sales within one popular platform"
   ]
  },
  {
   "cell_type": "code",
   "execution_count": 52,
   "metadata": {},
   "outputs": [
    {
     "data": {
      "image/png": "[encoded data removed]",
      "text/plain": [
       "<Figure size 576x288 with 1 Axes>"
      ]
     },
     "metadata": {
      "needs_background": "light"
     },
     "output_type": "display_data"
    },
    {
     "name": "stdout",
     "output_type": "stream",
     "text": [
      "-0.05973845712638215\n"
     ]
    }
   ],
   "source": [
    "# Next, it is necessary to identify the correlation  between user reviews and sales within the PS4 platform\n",
    "PS4_user_score = actual_data.query('platform == \"PS4\"')\n",
    "PS4_user_score.plot(kind = 'scatter', x='user_score', y='total_sales', title ='Correlation  between user reviews and sales within the PS4 platform',  grid=True, figsize=(8,4))\n",
    "plt.show()\n",
    "# calculating the correlation\n",
    "print(PS4_user_score['total_sales'].corr(PS4_user_score['user_score']))"
   ]
  },
  {
   "cell_type": "markdown",
   "metadata": {},
   "source": [
    "From the scatter plot and from the correlation coefficient, it is obvious that there is no relationship between user reviews and sales."
   ]
  },
  {
   "cell_type": "code",
   "execution_count": 53,
   "metadata": {},
   "outputs": [
    {
     "data": {
      "image/png": "[encoded data removed]",
      "text/plain": [
       "<Figure size 576x288 with 1 Axes>"
      ]
     },
     "metadata": {
      "needs_background": "light"
     },
     "output_type": "display_data"
    },
    {
     "name": "stdout",
     "output_type": "stream",
     "text": [
      "0.3928485555130601\n"
     ]
    }
   ],
   "source": [
    "# next, it is necessary to identify the correlation between critics' reviews and sales within the PS4 platform\n",
    "PS4_critic_score = actual_data.query('platform == \"PS4\"')\n",
    "PS4_critic_score.plot(kind = 'scatter', x='critic_score', y='total_sales', title ='Correlation between critics reviews and sales within the PS4 platform', color='orangered',  grid=True, figsize=(8,4))\n",
    "plt.show()\n",
    "# correlation\n",
    "print(PS4_critic_score['total_sales'].corr(PS4_critic_score['critic_score']))"
   ]
  },
  {
   "cell_type": "markdown",
   "metadata": {},
   "source": [
    "Critics' reviews have a stronger impact on sales. The chart shows sales growth where critics' ratings are higher. Also, the Pearson correlation coefficient is 0.39. This indicates the dependence, although it is not too strong."
   ]
  },
  {
   "cell_type": "markdown",
   "metadata": {},
   "source": [
    "### The impact of user reviews and critics on game sales on other platforms"
   ]
  },
  {
   "cell_type": "code",
   "execution_count": 54,
   "metadata": {},
   "outputs": [
    {
     "data": {
      "image/png": "[encoded data removed]",
      "text/plain": [
       "<Figure size 576x288 with 1 Axes>"
      ]
     },
     "metadata": {
      "needs_background": "light"
     },
     "output_type": "display_data"
    },
    {
     "name": "stdout",
     "output_type": "stream",
     "text": [
      "0.01752113065632156\n"
     ]
    }
   ],
   "source": [
    "# it is necessary to highlight other platforms and look at the correlation between sales and user reviews\n",
    "other_user_score = actual_data.query('platform != \"PS4\"')\n",
    "other_user_score.plot(kind = 'scatter', x='user_score', y='total_sales', title ='Correlation between sales and user reviews', color='slateblue',  grid=True, figsize=(8,4))\n",
    "plt.show()\n",
    "# getting correlation\n",
    "print(other_user_score['total_sales'].corr(other_user_score['user_score']))\n"
   ]
  },
  {
   "cell_type": "markdown",
   "metadata": {},
   "source": [
    "On other platforms user reviews also do not affect sales."
   ]
  },
  {
   "cell_type": "code",
   "execution_count": 55,
   "metadata": {},
   "outputs": [
    {
     "data": {
      "image/png": "[encoded data removed]",
      "text/plain": [
       "<Figure size 576x288 with 1 Axes>"
      ]
     },
     "metadata": {
      "needs_background": "light"
     },
     "output_type": "display_data"
    },
    {
     "name": "stdout",
     "output_type": "stream",
     "text": [
      "0.3032430209852095\n"
     ]
    }
   ],
   "source": [
    "# let's identify the correlation between critics' reviews and sales on other platforms\n",
    "other_critic_score = actual_data.query('platform != \"PS4\"')\n",
    "other_critic_score.plot(kind = 'scatter', x='critic_score', y='total_sales', title ='correlation between critics reviews and sales on other platforms', color='crimson',  grid=True, figsize=(8,4))\n",
    "plt.show()\n",
    "# getting the correlation\n",
    "print(other_critic_score['total_sales'].corr(other_critic_score['critic_score']))"
   ]
  },
  {
   "cell_type": "markdown",
   "metadata": {},
   "source": [
    "On other platforms there is also a correlation between critics' reviews and sales, it is slightly weaker than for the PS4 platform."
   ]
  },
  {
   "cell_type": "markdown",
   "metadata": {},
   "source": [
    "### Genre distribution of games "
   ]
  },
  {
   "cell_type": "code",
   "execution_count": 56,
   "metadata": {},
   "outputs": [
    {
     "data": {
      "text/html": [
       "<div>\n",
       "<style scoped>\n",
       "    .dataframe tbody tr th:only-of-type {\n",
       "        vertical-align: middle;\n",
       "    }\n",
       "\n",
       "    .dataframe tbody tr th {\n",
       "        vertical-align: top;\n",
       "    }\n",
       "\n",
       "    .dataframe thead th {\n",
       "        text-align: right;\n",
       "    }\n",
       "</style>\n",
       "<table border=\"1\" class=\"dataframe\">\n",
       "  <thead>\n",
       "    <tr style=\"text-align: right;\">\n",
       "      <th></th>\n",
       "      <th>total_sales</th>\n",
       "    </tr>\n",
       "    <tr>\n",
       "      <th>genre</th>\n",
       "      <th></th>\n",
       "    </tr>\n",
       "  </thead>\n",
       "  <tbody>\n",
       "    <tr>\n",
       "      <th>Shooter</th>\n",
       "      <td>0.380</td>\n",
       "    </tr>\n",
       "    <tr>\n",
       "      <th>Sports</th>\n",
       "      <td>0.120</td>\n",
       "    </tr>\n",
       "    <tr>\n",
       "      <th>Role-Playing</th>\n",
       "      <td>0.115</td>\n",
       "    </tr>\n",
       "    <tr>\n",
       "      <th>Platform</th>\n",
       "      <td>0.100</td>\n",
       "    </tr>\n",
       "    <tr>\n",
       "      <th>Simulation</th>\n",
       "      <td>0.100</td>\n",
       "    </tr>\n",
       "    <tr>\n",
       "      <th>Fighting</th>\n",
       "      <td>0.090</td>\n",
       "    </tr>\n",
       "    <tr>\n",
       "      <th>Action</th>\n",
       "      <td>0.060</td>\n",
       "    </tr>\n",
       "    <tr>\n",
       "      <th>Misc</th>\n",
       "      <td>0.060</td>\n",
       "    </tr>\n",
       "    <tr>\n",
       "      <th>Racing</th>\n",
       "      <td>0.055</td>\n",
       "    </tr>\n",
       "    <tr>\n",
       "      <th>Strategy</th>\n",
       "      <td>0.050</td>\n",
       "    </tr>\n",
       "    <tr>\n",
       "      <th>Adventure</th>\n",
       "      <td>0.030</td>\n",
       "    </tr>\n",
       "    <tr>\n",
       "      <th>Puzzle</th>\n",
       "      <td>0.030</td>\n",
       "    </tr>\n",
       "  </tbody>\n",
       "</table>\n",
       "</div>"
      ],
      "text/plain": [
       "              total_sales\n",
       "genre                    \n",
       "Shooter             0.380\n",
       "Sports              0.120\n",
       "Role-Playing        0.115\n",
       "Platform            0.100\n",
       "Simulation          0.100\n",
       "Fighting            0.090\n",
       "Action              0.060\n",
       "Misc                0.060\n",
       "Racing              0.055\n",
       "Strategy            0.050\n",
       "Adventure           0.030\n",
       "Puzzle              0.030"
      ]
     },
     "metadata": {},
     "output_type": "display_data"
    }
   ],
   "source": [
    "# let's see which genres are more profitable than others\n",
    "leading_genres = actual_data.pivot_table(index='genre', values='total_sales', aggfunc='median')\n",
    "display(leading_genres.sort_values(by='total_sales', ascending=False))\n"
   ]
  },
  {
   "cell_type": "markdown",
   "metadata": {},
   "source": [
    "The table shows that the most profitable genres are Shooter, Sports and Role-Playing . Genres with the lowest sales rating are: Puzzle, Strategy and Adventure."
   ]
  },
  {
   "cell_type": "markdown",
   "metadata": {},
   "source": [
    "### Conclusion on the exploratory data analysis"
   ]
  },
  {
   "cell_type": "markdown",
   "metadata": {},
   "source": [
    "In the exploratory analysis of the data, the following was determined.\n",
    "\n",
    "1) It was revealed how many games were released in different years. Most games were released in the period from 2002 to 2011, in 2012 there was a drop in the release of games, since then the growth has remained insignificant. The peak of the release of games was observed from 2007 to 2009.\n",
    "\n",
    "2) Sales of games on different platforms by year, which allowed us to establish that the average lifespan of the platform is 5 years.\n",
    "\n",
    "3) An actual period (2 years) has been set for the basis of the future analysis. It was also determined that in the current period, the leading platforms were PS4, XOne and 3DS.\n",
    "\n",
    "4) It was further revealed that user ratings do not affect game sales, while critics' ratings, on the contrary, show a certain correlation with sales, but this dependence is weak.\n",
    "\n",
    "5) It was determined that the most profitable genres were Shooter, Sports and Role-Playing.\n"
   ]
  },
  {
   "cell_type": "markdown",
   "metadata": {},
   "source": [
    "## User profile of each region"
   ]
  },
  {
   "cell_type": "markdown",
   "metadata": {},
   "source": [
    "### Popular platforms of every region"
   ]
  },
  {
   "cell_type": "code",
   "execution_count": 57,
   "metadata": {},
   "outputs": [
    {
     "data": {
      "text/html": [
       "<div>\n",
       "<style scoped>\n",
       "    .dataframe tbody tr th:only-of-type {\n",
       "        vertical-align: middle;\n",
       "    }\n",
       "\n",
       "    .dataframe tbody tr th {\n",
       "        vertical-align: top;\n",
       "    }\n",
       "\n",
       "    .dataframe thead th {\n",
       "        text-align: right;\n",
       "    }\n",
       "</style>\n",
       "<table border=\"1\" class=\"dataframe\">\n",
       "  <thead>\n",
       "    <tr style=\"text-align: right;\">\n",
       "      <th></th>\n",
       "      <th>na_sales</th>\n",
       "      <th>total_sales</th>\n",
       "      <th>na_share, %</th>\n",
       "    </tr>\n",
       "    <tr>\n",
       "      <th>platform</th>\n",
       "      <th></th>\n",
       "      <th></th>\n",
       "      <th></th>\n",
       "    </tr>\n",
       "  </thead>\n",
       "  <tbody>\n",
       "    <tr>\n",
       "      <th>PS4</th>\n",
       "      <td>63.86</td>\n",
       "      <td>188.15</td>\n",
       "      <td>33.941005</td>\n",
       "    </tr>\n",
       "    <tr>\n",
       "      <th>XOne</th>\n",
       "      <td>50.30</td>\n",
       "      <td>86.29</td>\n",
       "      <td>58.291807</td>\n",
       "    </tr>\n",
       "    <tr>\n",
       "      <th>3DS</th>\n",
       "      <td>10.31</td>\n",
       "      <td>42.92</td>\n",
       "      <td>24.021435</td>\n",
       "    </tr>\n",
       "    <tr>\n",
       "      <th>WiiU</th>\n",
       "      <td>8.86</td>\n",
       "      <td>20.95</td>\n",
       "      <td>42.291169</td>\n",
       "    </tr>\n",
       "    <tr>\n",
       "      <th>X360</th>\n",
       "      <td>8.05</td>\n",
       "      <td>13.48</td>\n",
       "      <td>59.718101</td>\n",
       "    </tr>\n",
       "  </tbody>\n",
       "</table>\n",
       "</div>"
      ],
      "text/plain": [
       "          na_sales  total_sales  na_share, %\n",
       "platform                                    \n",
       "PS4          63.86       188.15    33.941005\n",
       "XOne         50.30        86.29    58.291807\n",
       "3DS          10.31        42.92    24.021435\n",
       "WiiU          8.86        20.95    42.291169\n",
       "X360          8.05        13.48    59.718101"
      ]
     },
     "metadata": {},
     "output_type": "display_data"
    }
   ],
   "source": [
    "# identifying the 5 platforms in North America\n",
    "na_top_platforms = actual_data.pivot_table(index='platform', values=['na_sales', 'total_sales'], aggfunc='sum')\n",
    "na_top_platforms['na_share, %'] = na_top_platforms['na_sales'] / na_top_platforms['total_sales'] * 100\n",
    "display(na_top_platforms.sort_values(by='na_sales', ascending=False).head(5))"
   ]
  },
  {
   "cell_type": "markdown",
   "metadata": {},
   "source": [
    "The table shows the sales rating by platform in North America. XOne and X360 have the largest share of total sales. Perhaps they produce the most popular games."
   ]
  },
  {
   "cell_type": "code",
   "execution_count": 58,
   "metadata": {},
   "outputs": [
    {
     "data": {
      "text/html": [
       "<div>\n",
       "<style scoped>\n",
       "    .dataframe tbody tr th:only-of-type {\n",
       "        vertical-align: middle;\n",
       "    }\n",
       "\n",
       "    .dataframe tbody tr th {\n",
       "        vertical-align: top;\n",
       "    }\n",
       "\n",
       "    .dataframe thead th {\n",
       "        text-align: right;\n",
       "    }\n",
       "</style>\n",
       "<table border=\"1\" class=\"dataframe\">\n",
       "  <thead>\n",
       "    <tr style=\"text-align: right;\">\n",
       "      <th></th>\n",
       "      <th>eu_sales</th>\n",
       "      <th>total_sales</th>\n",
       "      <th>eu_sales, %</th>\n",
       "    </tr>\n",
       "    <tr>\n",
       "      <th>platform</th>\n",
       "      <th></th>\n",
       "      <th></th>\n",
       "      <th></th>\n",
       "    </tr>\n",
       "  </thead>\n",
       "  <tbody>\n",
       "    <tr>\n",
       "      <th>PS4</th>\n",
       "      <td>83.54</td>\n",
       "      <td>188.15</td>\n",
       "      <td>44.400744</td>\n",
       "    </tr>\n",
       "    <tr>\n",
       "      <th>XOne</th>\n",
       "      <td>28.10</td>\n",
       "      <td>86.29</td>\n",
       "      <td>32.564608</td>\n",
       "    </tr>\n",
       "    <tr>\n",
       "      <th>PC</th>\n",
       "      <td>9.10</td>\n",
       "      <td>13.77</td>\n",
       "      <td>66.085694</td>\n",
       "    </tr>\n",
       "    <tr>\n",
       "      <th>3DS</th>\n",
       "      <td>7.39</td>\n",
       "      <td>42.92</td>\n",
       "      <td>17.218080</td>\n",
       "    </tr>\n",
       "    <tr>\n",
       "      <th>PS3</th>\n",
       "      <td>7.30</td>\n",
       "      <td>20.42</td>\n",
       "      <td>35.749265</td>\n",
       "    </tr>\n",
       "  </tbody>\n",
       "</table>\n",
       "</div>"
      ],
      "text/plain": [
       "          eu_sales  total_sales  eu_sales, %\n",
       "platform                                    \n",
       "PS4          83.54       188.15    44.400744\n",
       "XOne         28.10        86.29    32.564608\n",
       "PC            9.10        13.77    66.085694\n",
       "3DS           7.39        42.92    17.218080\n",
       "PS3           7.30        20.42    35.749265"
      ]
     },
     "metadata": {},
     "output_type": "display_data"
    }
   ],
   "source": [
    "# identifying the top 5 platforms in Europe\n",
    "eu_top_platforms = actual_data.pivot_table(index='platform', values=['eu_sales', 'total_sales'], aggfunc='sum')\n",
    "eu_top_platforms['eu_sales, %'] = eu_top_platforms['eu_sales'] / eu_top_platforms['total_sales'] * 100\n",
    "display(eu_top_platforms.sort_values(by='eu_sales', ascending=False).head(5))"
   ]
  },
  {
   "cell_type": "markdown",
   "metadata": {},
   "source": [
    "The table shows the sales rating by platform in Europe. PC and PS4 have the largest share of total sales, although in absolute terms the first 2 places are occupied by PS4 and XOne."
   ]
  },
  {
   "cell_type": "code",
   "execution_count": 59,
   "metadata": {},
   "outputs": [
    {
     "data": {
      "text/html": [
       "<div>\n",
       "<style scoped>\n",
       "    .dataframe tbody tr th:only-of-type {\n",
       "        vertical-align: middle;\n",
       "    }\n",
       "\n",
       "    .dataframe tbody tr th {\n",
       "        vertical-align: top;\n",
       "    }\n",
       "\n",
       "    .dataframe thead th {\n",
       "        text-align: right;\n",
       "    }\n",
       "</style>\n",
       "<table border=\"1\" class=\"dataframe\">\n",
       "  <thead>\n",
       "    <tr style=\"text-align: right;\">\n",
       "      <th></th>\n",
       "      <th>jp_sales</th>\n",
       "      <th>total_sales</th>\n",
       "      <th>jp_sales, %</th>\n",
       "    </tr>\n",
       "    <tr>\n",
       "      <th>platform</th>\n",
       "      <th></th>\n",
       "      <th></th>\n",
       "      <th></th>\n",
       "    </tr>\n",
       "  </thead>\n",
       "  <tbody>\n",
       "    <tr>\n",
       "      <th>3DS</th>\n",
       "      <td>23.55</td>\n",
       "      <td>42.92</td>\n",
       "      <td>54.869525</td>\n",
       "    </tr>\n",
       "    <tr>\n",
       "      <th>PS4</th>\n",
       "      <td>12.05</td>\n",
       "      <td>188.15</td>\n",
       "      <td>6.404465</td>\n",
       "    </tr>\n",
       "    <tr>\n",
       "      <th>PSV</th>\n",
       "      <td>8.41</td>\n",
       "      <td>10.50</td>\n",
       "      <td>80.095238</td>\n",
       "    </tr>\n",
       "    <tr>\n",
       "      <th>PS3</th>\n",
       "      <td>4.97</td>\n",
       "      <td>20.42</td>\n",
       "      <td>24.338883</td>\n",
       "    </tr>\n",
       "    <tr>\n",
       "      <th>WiiU</th>\n",
       "      <td>4.12</td>\n",
       "      <td>20.95</td>\n",
       "      <td>19.665871</td>\n",
       "    </tr>\n",
       "  </tbody>\n",
       "</table>\n",
       "</div>"
      ],
      "text/plain": [
       "          jp_sales  total_sales  jp_sales, %\n",
       "platform                                    \n",
       "3DS          23.55        42.92    54.869525\n",
       "PS4          12.05       188.15     6.404465\n",
       "PSV           8.41        10.50    80.095238\n",
       "PS3           4.97        20.42    24.338883\n",
       "WiiU          4.12        20.95    19.665871"
      ]
     },
     "metadata": {},
     "output_type": "display_data"
    }
   ],
   "source": [
    "# the-top 5 platforms in Japan\n",
    "jp_top_platforms = actual_data.pivot_table(index='platform', values=['jp_sales', 'total_sales'], aggfunc='sum')\n",
    "jp_top_platforms['jp_sales, %'] = jp_top_platforms['jp_sales'] / jp_top_platforms['total_sales'] * 100\n",
    "display(jp_top_platforms.sort_values(by='jp_sales', ascending=False).head(5))"
   ]
  },
  {
   "cell_type": "markdown",
   "metadata": {},
   "source": [
    "In Japan, 3DS is the leader in terms of sales, but its relative share ranks second - 55%. PSV, occupying 80% of all sales, is the third most popular platform. Perhaps a very popular game was released on it and it was being sold only in Japan."
   ]
  },
  {
   "cell_type": "markdown",
   "metadata": {},
   "source": [
    "### Popular genres by region"
   ]
  },
  {
   "cell_type": "code",
   "execution_count": 60,
   "metadata": {},
   "outputs": [
    {
     "data": {
      "text/html": [
       "<div>\n",
       "<style scoped>\n",
       "    .dataframe tbody tr th:only-of-type {\n",
       "        vertical-align: middle;\n",
       "    }\n",
       "\n",
       "    .dataframe tbody tr th {\n",
       "        vertical-align: top;\n",
       "    }\n",
       "\n",
       "    .dataframe thead th {\n",
       "        text-align: right;\n",
       "    }\n",
       "</style>\n",
       "<table border=\"1\" class=\"dataframe\">\n",
       "  <thead>\n",
       "    <tr style=\"text-align: right;\">\n",
       "      <th></th>\n",
       "      <th>na_sales</th>\n",
       "    </tr>\n",
       "    <tr>\n",
       "      <th>genre</th>\n",
       "      <th></th>\n",
       "    </tr>\n",
       "  </thead>\n",
       "  <tbody>\n",
       "    <tr>\n",
       "      <th>Shooter</th>\n",
       "      <td>48.18</td>\n",
       "    </tr>\n",
       "    <tr>\n",
       "      <th>Action</th>\n",
       "      <td>33.68</td>\n",
       "    </tr>\n",
       "    <tr>\n",
       "      <th>Sports</th>\n",
       "      <td>26.31</td>\n",
       "    </tr>\n",
       "    <tr>\n",
       "      <th>Role-Playing</th>\n",
       "      <td>19.82</td>\n",
       "    </tr>\n",
       "    <tr>\n",
       "      <th>Misc</th>\n",
       "      <td>5.58</td>\n",
       "    </tr>\n",
       "  </tbody>\n",
       "</table>\n",
       "</div>"
      ],
      "text/plain": [
       "              na_sales\n",
       "genre                 \n",
       "Shooter          48.18\n",
       "Action           33.68\n",
       "Sports           26.31\n",
       "Role-Playing     19.82\n",
       "Misc              5.58"
      ]
     },
     "metadata": {},
     "output_type": "display_data"
    }
   ],
   "source": [
    "# # top-5 genres in North America\n",
    "na_top_genres = actual_data.pivot_table(index='genre', values='na_sales', aggfunc='sum')\n",
    "display(na_top_genres.sort_values(by='na_sales', ascending=False).head(5))"
   ]
  },
  {
   "cell_type": "markdown",
   "metadata": {},
   "source": [
    "Americans love Shooter, Action и Sports."
   ]
  },
  {
   "cell_type": "code",
   "execution_count": 61,
   "metadata": {},
   "outputs": [
    {
     "data": {
      "text/html": [
       "<div>\n",
       "<style scoped>\n",
       "    .dataframe tbody tr th:only-of-type {\n",
       "        vertical-align: middle;\n",
       "    }\n",
       "\n",
       "    .dataframe tbody tr th {\n",
       "        vertical-align: top;\n",
       "    }\n",
       "\n",
       "    .dataframe thead th {\n",
       "        text-align: right;\n",
       "    }\n",
       "</style>\n",
       "<table border=\"1\" class=\"dataframe\">\n",
       "  <thead>\n",
       "    <tr style=\"text-align: right;\">\n",
       "      <th></th>\n",
       "      <th>eu_sales</th>\n",
       "    </tr>\n",
       "    <tr>\n",
       "      <th>genre</th>\n",
       "      <th></th>\n",
       "    </tr>\n",
       "  </thead>\n",
       "  <tbody>\n",
       "    <tr>\n",
       "      <th>Shooter</th>\n",
       "      <td>40.28</td>\n",
       "    </tr>\n",
       "    <tr>\n",
       "      <th>Action</th>\n",
       "      <td>34.82</td>\n",
       "    </tr>\n",
       "    <tr>\n",
       "      <th>Sports</th>\n",
       "      <td>27.82</td>\n",
       "    </tr>\n",
       "    <tr>\n",
       "      <th>Role-Playing</th>\n",
       "      <td>17.21</td>\n",
       "    </tr>\n",
       "    <tr>\n",
       "      <th>Racing</th>\n",
       "      <td>6.52</td>\n",
       "    </tr>\n",
       "  </tbody>\n",
       "</table>\n",
       "</div>"
      ],
      "text/plain": [
       "              eu_sales\n",
       "genre                 \n",
       "Shooter          40.28\n",
       "Action           34.82\n",
       "Sports           27.82\n",
       "Role-Playing     17.21\n",
       "Racing            6.52"
      ]
     },
     "metadata": {},
     "output_type": "display_data"
    }
   ],
   "source": [
    "# top-5 genres in Europe\n",
    "eu_top_genres = actual_data.pivot_table(index='genre', values='eu_sales', aggfunc='sum')\n",
    "display(eu_top_genres.sort_values(by='eu_sales', ascending=False).head(5))"
   ]
  },
  {
   "cell_type": "markdown",
   "metadata": {},
   "source": [
    "Europeans also love Shooter, Action and Sports, but they like to shoot a little less than Americans."
   ]
  },
  {
   "cell_type": "code",
   "execution_count": 62,
   "metadata": {},
   "outputs": [
    {
     "data": {
      "text/html": [
       "<div>\n",
       "<style scoped>\n",
       "    .dataframe tbody tr th:only-of-type {\n",
       "        vertical-align: middle;\n",
       "    }\n",
       "\n",
       "    .dataframe tbody tr th {\n",
       "        vertical-align: top;\n",
       "    }\n",
       "\n",
       "    .dataframe thead th {\n",
       "        text-align: right;\n",
       "    }\n",
       "</style>\n",
       "<table border=\"1\" class=\"dataframe\">\n",
       "  <thead>\n",
       "    <tr style=\"text-align: right;\">\n",
       "      <th></th>\n",
       "      <th>jp_sales</th>\n",
       "    </tr>\n",
       "    <tr>\n",
       "      <th>genre</th>\n",
       "      <th></th>\n",
       "    </tr>\n",
       "  </thead>\n",
       "  <tbody>\n",
       "    <tr>\n",
       "      <th>Action</th>\n",
       "      <td>23.05</td>\n",
       "    </tr>\n",
       "    <tr>\n",
       "      <th>Role-Playing</th>\n",
       "      <td>13.41</td>\n",
       "    </tr>\n",
       "    <tr>\n",
       "      <th>Shooter</th>\n",
       "      <td>3.79</td>\n",
       "    </tr>\n",
       "    <tr>\n",
       "      <th>Misc</th>\n",
       "      <td>3.19</td>\n",
       "    </tr>\n",
       "    <tr>\n",
       "      <th>Adventure</th>\n",
       "      <td>2.22</td>\n",
       "    </tr>\n",
       "  </tbody>\n",
       "</table>\n",
       "</div>"
      ],
      "text/plain": [
       "              jp_sales\n",
       "genre                 \n",
       "Action           23.05\n",
       "Role-Playing     13.41\n",
       "Shooter           3.79\n",
       "Misc              3.19\n",
       "Adventure         2.22"
      ]
     },
     "metadata": {},
     "output_type": "display_data"
    }
   ],
   "source": [
    "# top-5 genres in Japan\n",
    "jp_top_genres = actual_data.pivot_table(index='genre', values='jp_sales', aggfunc='sum')\n",
    "display(jp_top_genres.sort_values(by='jp_sales', ascending=False).head(5))"
   ]
  },
  {
   "cell_type": "markdown",
   "metadata": {},
   "source": [
    "Japan prefers Action and Role-Playing. Shooting games occupy only 3%, while Sport did not enter the top 5 at all."
   ]
  },
  {
   "cell_type": "markdown",
   "metadata": {},
   "source": [
    "### The impact of the ESRB rating on sales in the regions"
   ]
  },
  {
   "cell_type": "code",
   "execution_count": 65,
   "metadata": {},
   "outputs": [
    {
     "data": {
      "text/plain": [
       "Text(0.5, 1.0, 'The impact of the ESRB rating on sales in North America')"
      ]
     },
     "execution_count": 65,
     "metadata": {},
     "output_type": "execute_result"
    },
    {
     "data": {
      "image/png": "[encoded data removed]",
      "text/plain": [
       "<Figure size 1440x720 with 1 Axes>"
      ]
     },
     "metadata": {
      "needs_background": "light"
     },
     "output_type": "display_data"
    }
   ],
   "source": [
    "# let's build a histogram of the scope to see how the ESRB rating affects sales in North America\n",
    "actual_data.boxplot(column ='na_sales', by='rating', figsize=(20,10))\n",
    "plt.ylim(0, 3)\n",
    "plt.title('The impact of the ESRB rating on sales in North America')"
   ]
  },
  {
   "cell_type": "markdown",
   "metadata": {},
   "source": [
    "The span diagram shows where the median passes. It can be used to assess how the rating affects sales in the region. In this case, the highest sales are for games with M rating, followed by E10+, E and T, the last three are approximately at the same level."
   ]
  },
  {
   "cell_type": "code",
   "execution_count": 66,
   "metadata": {},
   "outputs": [
    {
     "data": {
      "text/plain": [
       "Text(0.5, 1.0, 'The impact of the ESRB rating on sales in Europe')"
      ]
     },
     "execution_count": 66,
     "metadata": {},
     "output_type": "execute_result"
    },
    {
     "data": {
      "image/png": "[encoded data removed]",
      "text/plain": [
       "<Figure size 1440x720 with 1 Axes>"
      ]
     },
     "metadata": {
      "needs_background": "light"
     },
     "output_type": "display_data"
    }
   ],
   "source": [
    "# let's build a histogram of the scope to see how the ESRB rating affects sales in Europe\n",
    "actual_data.boxplot(column ='eu_sales', by='rating', figsize=(20,10))\n",
    "plt.ylim(0, 3)\n",
    "plt.title('The impact of the ESRB rating on sales in Europe')"
   ]
  },
  {
   "cell_type": "markdown",
   "metadata": {},
   "source": [
    "In this case, M-rated games have the highest sales, followed by E10+ and E."
   ]
  },
  {
   "cell_type": "code",
   "execution_count": 67,
   "metadata": {},
   "outputs": [
    {
     "data": {
      "text/plain": [
       "Text(0.5, 1.0, 'The impact of the ESRB rating on sales in Japan')"
      ]
     },
     "execution_count": 67,
     "metadata": {},
     "output_type": "execute_result"
    },
    {
     "data": {
      "image/png": "[encoded data removed]",
      "text/plain": [
       "<Figure size 1440x720 with 1 Axes>"
      ]
     },
     "metadata": {
      "needs_background": "light"
     },
     "output_type": "display_data"
    }
   ],
   "source": [
    "# let's build a histogram of the scope to see how the ESRB rating affects sales in Japan\n",
    "actual_data.boxplot(column ='jp_sales', by='rating', figsize=(20,10))\n",
    "plt.ylim(0, 3)\n",
    "plt.title('The impact of the ESRB rating on sales in Japan')"
   ]
  },
  {
   "cell_type": "markdown",
   "metadata": {},
   "source": [
    "In Japan, it is difficult to determine the impact of the rating. In the case where the median is viewed, the rating is not defined. This can be explained by the fact that Japan does not assign the rating that exists for games in North America and Europe."
   ]
  },
  {
   "cell_type": "markdown",
   "metadata": {},
   "source": [
    "### Conclusions on user profiles"
   ]
  },
  {
   "cell_type": "markdown",
   "metadata": {},
   "source": [
    "User profile in North America:\n",
    "\n",
    "- top 5 platforms: PS4 (33% of the market), XOne (58% of the market), 3DS (24% of the market), WiiU (42% of the market) and X360 (59% of the market);\n",
    "- top 5 genres: Shooter, Action, Sports, Role-Playing, Misc;\n",
    "- the highest sales are for games with a rating of M, followed by E10+, E, etc.\n",
    "\n",
    "\n",
    "User profile in Europe:\n",
    "\n",
    "- top 5 platforms: PS4 (44% of the market), XOne (32% of the market), PC (66% of the market), 3DS (17% of the market) and PS3 (35% of the market);\n",
    "- top 5 genres: Shooter, Action, Sports, Role-Playing, Racing;\n",
    "- M-rated games have the highest sales, followed by E10+ and E.\n",
    "\n",
    "\n",
    "\n",
    "User profile in Japan:\n",
    "\n",
    "- top 5 platforms are: 3DS (55% of the market), PS4 (6% of the market), PSV (80% of the market), PS3 (24% of the market) and WiiU (20% of the market);\n",
    "- top 5 genres: Action, Role-Playing, Shooter, Misc, Adventure;\n",
    "- the ESRB rating is not used in Japan.\n",
    "\n",
    "\n",
    "Thus, the most popular platform in North America and Europe is the PS4, in Japan it ranks 2nd. In Europe and America, XOne is also very popular, while in Europe it did not enter the top 5. In Japan, 3DS  is in the first place in the  rating, in Europe and North America it is not so popular.\n",
    "\n",
    "North America and Europe have similar tastes in genres - Shooter, Action, Sports, Role-Playing in the first places. In Japan  the genres of Action, Role-Playing, Shooter take the first places.\n",
    "\n",
    "The ESRB rating is obviously used only in North America and Europe.\n",
    "\n",
    "\n"
   ]
  },
  {
   "cell_type": "markdown",
   "metadata": {},
   "source": [
    "## Hypothesis testing"
   ]
  },
  {
   "cell_type": "markdown",
   "metadata": {},
   "source": [
    "### Testing the hypothesis that the average user ratings of the Xbox One and PC platforms are the same"
   ]
  },
  {
   "cell_type": "markdown",
   "metadata": {},
   "source": [
    "Let's set the condition that the user ratings of the Xbox One and PC platforms are the same, it is H0 (zero hypothesis), then H1 (alternate hypothesis) states that the ratings of the Xbox One and PC platforms are different. Let's set a threshold value of 5% and test the two-sided hypothesis."
   ]
  },
  {
   "cell_type": "code",
   "execution_count": 68,
   "metadata": {},
   "outputs": [
    {
     "name": "stdout",
     "output_type": "stream",
     "text": [
      "p-значение 0.2778542084733835\n",
      "Cannot refute the null hypothesis\n"
     ]
    }
   ],
   "source": [
    "xbox_users = actual_data.query('platform == \"XOne\"')\n",
    "pc_users = actual_data.query('platform == \"PC\"')\n",
    "\n",
    "xbox_users.dropna(subset = ['user_score'], inplace=True)\n",
    "pc_users.dropna(subset = ['user_score'], inplace=True)\n",
    "\n",
    "alpha = .05\n",
    "results = st.ttest_ind(\n",
    "    xbox_users['user_score'],\n",
    "    pc_users['user_score'])\n",
    "\n",
    "print('p-значение', results.pvalue)\n",
    "\n",
    "if results.pvalue < alpha:\n",
    "    print(\"Refute the null hypothesis\")\n",
    "else:\n",
    "    print(\"Cannot refute the null hypothesis\") \n"
   ]
  },
  {
   "cell_type": "markdown",
   "metadata": {},
   "source": [
    "It was not possible to refute the null hypothesis - the user rating for Xbox One and PC is the same."
   ]
  },
  {
   "cell_type": "markdown",
   "metadata": {},
   "source": [
    "### Testing the hypothesis that the average user ratings of the Action and Sports genres are different"
   ]
  },
  {
   "cell_type": "markdown",
   "metadata": {},
   "source": [
    "Let's set the condition that the user ratings of the Action and Sports genres are the same. It is the H0 (null hypothesis), then H1 (alternate hypothesis) states that the ratings of the Action and Sports genres are different. Let's set a threshold value of 5% and test the two-sided hypothesis."
   ]
  },
  {
   "cell_type": "code",
   "execution_count": 69,
   "metadata": {},
   "outputs": [
    {
     "name": "stdout",
     "output_type": "stream",
     "text": [
      "p-значение 1.0012846807938657e-13\n",
      "Refute the null hypothesis\n"
     ]
    }
   ],
   "source": [
    "action_lovers = actual_data.query('genre == \"Action\"')\n",
    "sport_lovers = actual_data.query('genre == \"Sports\"')\n",
    "\n",
    "action_lovers.dropna(subset = ['user_score'], inplace=True)\n",
    "sport_lovers.dropna(subset = ['user_score'], inplace=True)\n",
    "\n",
    "alpha = .05\n",
    "results = st.ttest_ind(\n",
    "    action_lovers['user_score'],\n",
    "    sport_lovers['user_score'])\n",
    "\n",
    "print('p-значение', results.pvalue)\n",
    "\n",
    "if results.pvalue < alpha:\n",
    "    print(\"Refute the null hypothesis\")\n",
    "else:\n",
    "    print(\"Cannot refute the null hypothesis\") "
   ]
  },
  {
   "cell_type": "markdown",
   "metadata": {},
   "source": [
    "We refute the null hypothesis - the ratings of the Action and Sports genres are different."
   ]
  },
  {
   "cell_type": "markdown",
   "metadata": {},
   "source": [
    "### Conclusion based on hypotheses"
   ]
  },
  {
   "cell_type": "markdown",
   "metadata": {},
   "source": [
    "After the t-test, it was determined that\n",
    "- The user rating for Xbox One and PC is the same;\n",
    "- the user rating for the Action and Sports genres is different."
   ]
  },
  {
   "cell_type": "markdown",
   "metadata": {},
   "source": [
    "## General conclusion"
   ]
  },
  {
   "cell_type": "markdown",
   "metadata": {},
   "source": [
    "The analytical report was prepared for the online store \"Stream\" that sells computer games worldwide. Based on game sales data such as user and expert ratings, genres and platforms (for example, Xbox or PlayStation), it was necessary to identify patterns that determine the success of the game in order to bet on a potentially popular product and plan advertising campaigns. Data was available up to 2017.\n",
    "\n",
    "At the first stage of the analysis, the data was studied and prepared for further work. The table contains 16715 rows and 11 columns, it has  data of the object and float64 types. As a result of the data preprocessing, the data types in Year_of_Release were replaced with datetime and in the user_score graph with float. In the rating column, the gaps were replaced with indefinite. The gaps in year_of_release were removed, since their share is 1.6%. We also created a  with calculations of total revenue for all regions.\n",
    "\n",
    "At the next stage, an exploratory  analysis of the data was carried out. In the exploratory analysis of the data, it was determined how many games were released in different years,  the sales of games on different platforms were analyzed for each year, which allowed us to establish that the average lifespan of the platform is 5 years. An actual period (2 years) has been set for the basis of future analysis. It was also determined that in the current period, the leading platforms were PS4, XOne and 3DS. Further, it was revealed that user ratings did not affect game sales, while critics' ratings, on the contrary, show a certain correlation with sales, but this dependence is weak. We also managed to identify the most profitable genres, these are Shooter, Sports and Role-Playing.\n",
    "Next, a user profile was compiled for North America, Europe and Japan. According to the results of the analysis, we found out that the most popular platform in North America and Europe was PS4, in Japan it ranked 2nd. In Europe and America, XOne were also very popular, while in Europe it did not enter the top 5. In Japan, in the first place of the 3DS rating, in Europe and NA it was not so popular. North America and Europe prefer the same genres: Shooter, Action, Sports, Role-Playing. In Japan the first places are occupied by Action, Role-Playing, Shooter. The ESRB rating is obviously used only in North America and Europe.\n",
    "\n",
    "According to the results of statistical analysis, the hypothesis was confirmed that the user rating of Xbox One and PC is the same, and that the user rating of the Action and Sports genres is different.\n",
    "\n",
    "In order to place a bet on a potentially popular product and plan advertising campaigns, the following factors must be taken into account:\n",
    "\n",
    "- it is necessary to understand in which regions which platforms are popular now. Keeping in mind the fact that the platform lives for about 5 years, it is necessary to take into account the stage of its development.\n",
    "- it is important to understand in which region which platform is popular.\n",
    "- it is worth paying attention to what genres the target audience prefers in a particular region.\n"
   ]
  },
  {
   "cell_type": "code",
   "execution_count": null,
   "metadata": {},
   "outputs": [],
   "source": []
  }
 ],
 "metadata": {
  "ExecuteTimeLog": [
   {
    "duration": 2836,
    "start_time": "2022-01-27T09:39:24.745Z"
   },
   {
    "duration": 378,
    "start_time": "2022-01-27T09:39:42.324Z"
   },
   {
    "duration": 92,
    "start_time": "2022-01-27T09:40:17.058Z"
   },
   {
    "duration": 19,
    "start_time": "2022-01-27T09:40:36.219Z"
   },
   {
    "duration": 17,
    "start_time": "2022-01-27T09:42:26.373Z"
   },
   {
    "duration": 15,
    "start_time": "2022-01-27T09:42:38.922Z"
   },
   {
    "duration": 18,
    "start_time": "2022-01-27T09:42:46.963Z"
   },
   {
    "duration": 8,
    "start_time": "2022-01-27T09:42:54.168Z"
   },
   {
    "duration": 11,
    "start_time": "2022-01-27T09:43:01.024Z"
   },
   {
    "duration": 12,
    "start_time": "2022-01-27T09:43:26.857Z"
   },
   {
    "duration": 40,
    "start_time": "2022-01-27T09:43:40.217Z"
   },
   {
    "duration": 854,
    "start_time": "2022-01-27T09:56:10.252Z"
   },
   {
    "duration": 759,
    "start_time": "2022-01-27T09:56:54.649Z"
   },
   {
    "duration": 355,
    "start_time": "2022-01-27T09:58:03.692Z"
   },
   {
    "duration": 21,
    "start_time": "2022-01-27T09:58:32.603Z"
   },
   {
    "duration": 23,
    "start_time": "2022-01-27T09:59:00.308Z"
   },
   {
    "duration": 347,
    "start_time": "2022-01-27T10:03:52.219Z"
   },
   {
    "duration": 26,
    "start_time": "2022-01-27T10:04:26.568Z"
   },
   {
    "duration": 23,
    "start_time": "2022-01-27T10:04:58.248Z"
   },
   {
    "duration": 395,
    "start_time": "2022-01-27T10:07:29.852Z"
   },
   {
    "duration": 463,
    "start_time": "2022-01-27T10:09:26.887Z"
   },
   {
    "duration": 562,
    "start_time": "2022-01-27T10:11:15.718Z"
   },
   {
    "duration": 1104,
    "start_time": "2022-01-27T10:12:31.474Z"
   },
   {
    "duration": 804,
    "start_time": "2022-01-27T10:13:07.197Z"
   },
   {
    "duration": 484,
    "start_time": "2022-01-27T10:13:22.209Z"
   },
   {
    "duration": 25,
    "start_time": "2022-01-27T10:21:17.565Z"
   },
   {
    "duration": 17,
    "start_time": "2022-01-27T10:22:16.307Z"
   },
   {
    "duration": 507,
    "start_time": "2022-01-27T10:38:47.590Z"
   },
   {
    "duration": 492,
    "start_time": "2022-01-27T10:40:37.492Z"
   },
   {
    "duration": 502,
    "start_time": "2022-01-27T10:43:29.819Z"
   },
   {
    "duration": 310,
    "start_time": "2022-01-27T11:10:20.078Z"
   },
   {
    "duration": 36,
    "start_time": "2022-01-27T11:10:34.773Z"
   },
   {
    "duration": 623,
    "start_time": "2022-01-27T11:20:58.644Z"
   },
   {
    "duration": 573,
    "start_time": "2022-01-27T11:23:36.784Z"
   },
   {
    "duration": 408,
    "start_time": "2022-01-27T11:24:23.646Z"
   },
   {
    "duration": 477,
    "start_time": "2022-01-27T11:25:38.130Z"
   },
   {
    "duration": 303,
    "start_time": "2022-01-27T11:26:58.409Z"
   },
   {
    "duration": 26,
    "start_time": "2022-01-27T11:31:51.013Z"
   },
   {
    "duration": 331,
    "start_time": "2022-01-27T11:33:43.462Z"
   },
   {
    "duration": 355,
    "start_time": "2022-01-27T11:34:12.886Z"
   },
   {
    "duration": 338,
    "start_time": "2022-01-27T11:35:51.728Z"
   },
   {
    "duration": 297,
    "start_time": "2022-01-27T11:36:11.055Z"
   },
   {
    "duration": 21,
    "start_time": "2022-01-27T11:37:50.346Z"
   },
   {
    "duration": 108,
    "start_time": "2022-01-27T11:40:12.037Z"
   },
   {
    "duration": 467,
    "start_time": "2022-01-27T11:40:21.858Z"
   },
   {
    "duration": 484,
    "start_time": "2022-01-27T11:41:01.488Z"
   },
   {
    "duration": 550,
    "start_time": "2022-01-27T11:48:11.111Z"
   },
   {
    "duration": 596,
    "start_time": "2022-01-27T11:50:26.857Z"
   },
   {
    "duration": 949,
    "start_time": "2022-01-27T11:54:00.451Z"
   },
   {
    "duration": 853,
    "start_time": "2022-01-27T11:55:05.450Z"
   },
   {
    "duration": 574,
    "start_time": "2022-01-27T12:07:20.894Z"
   },
   {
    "duration": 929,
    "start_time": "2022-01-27T12:07:29.344Z"
   },
   {
    "duration": 383,
    "start_time": "2022-01-27T16:36:32.959Z"
   },
   {
    "duration": 1502,
    "start_time": "2022-01-27T16:36:56.465Z"
   },
   {
    "duration": 21,
    "start_time": "2022-01-27T16:36:57.971Z"
   },
   {
    "duration": 35,
    "start_time": "2022-01-27T16:36:57.996Z"
   },
   {
    "duration": 9,
    "start_time": "2022-01-27T16:36:58.033Z"
   },
   {
    "duration": 14,
    "start_time": "2022-01-27T16:36:58.045Z"
   },
   {
    "duration": 11,
    "start_time": "2022-01-27T16:36:58.062Z"
   },
   {
    "duration": 49,
    "start_time": "2022-01-27T16:36:58.075Z"
   },
   {
    "duration": 10,
    "start_time": "2022-01-27T16:36:58.127Z"
   },
   {
    "duration": 33,
    "start_time": "2022-01-27T16:36:58.141Z"
   },
   {
    "duration": 473,
    "start_time": "2022-01-27T16:36:58.177Z"
   },
   {
    "duration": 18,
    "start_time": "2022-01-27T16:36:58.653Z"
   },
   {
    "duration": 510,
    "start_time": "2022-01-27T16:36:58.674Z"
   },
   {
    "duration": 51,
    "start_time": "2022-01-27T16:36:59.187Z"
   },
   {
    "duration": 454,
    "start_time": "2022-01-27T16:36:59.240Z"
   },
   {
    "duration": 1157,
    "start_time": "2022-01-27T16:36:59.697Z"
   },
   {
    "duration": 431,
    "start_time": "2022-01-27T16:37:01.334Z"
   },
   {
    "duration": 464,
    "start_time": "2022-01-27T17:00:01.147Z"
   },
   {
    "duration": 455,
    "start_time": "2022-01-27T17:00:20.849Z"
   },
   {
    "duration": 112,
    "start_time": "2022-01-27T17:05:08.044Z"
   },
   {
    "duration": 523,
    "start_time": "2022-01-27T17:05:25.315Z"
   },
   {
    "duration": 605,
    "start_time": "2022-01-27T17:14:51.668Z"
   },
   {
    "duration": 217,
    "start_time": "2022-01-27T17:18:20.449Z"
   },
   {
    "duration": 459,
    "start_time": "2022-01-27T17:18:50.768Z"
   },
   {
    "duration": 447,
    "start_time": "2022-01-27T17:20:42.315Z"
   },
   {
    "duration": 407,
    "start_time": "2022-01-27T17:23:17.258Z"
   },
   {
    "duration": 445,
    "start_time": "2022-01-27T17:23:45.348Z"
   },
   {
    "duration": 21,
    "start_time": "2022-01-27T17:30:19.809Z"
   },
   {
    "duration": 23,
    "start_time": "2022-01-27T17:55:42.457Z"
   },
   {
    "duration": 22,
    "start_time": "2022-01-27T17:56:56.172Z"
   },
   {
    "duration": 28,
    "start_time": "2022-01-27T17:57:13.184Z"
   },
   {
    "duration": 37,
    "start_time": "2022-01-27T18:04:05.305Z"
   },
   {
    "duration": 33,
    "start_time": "2022-01-27T18:09:07.745Z"
   },
   {
    "duration": 34,
    "start_time": "2022-01-27T18:09:18.392Z"
   },
   {
    "duration": 25,
    "start_time": "2022-01-27T18:10:04.300Z"
   },
   {
    "duration": 33,
    "start_time": "2022-01-27T18:10:10.465Z"
   },
   {
    "duration": 26,
    "start_time": "2022-01-27T18:15:42.753Z"
   },
   {
    "duration": 29,
    "start_time": "2022-01-27T18:18:25.532Z"
   },
   {
    "duration": 478,
    "start_time": "2022-01-27T18:25:12.114Z"
   },
   {
    "duration": 481,
    "start_time": "2022-01-27T18:25:31.815Z"
   },
   {
    "duration": 26,
    "start_time": "2022-01-27T18:26:21.935Z"
   },
   {
    "duration": 26,
    "start_time": "2022-01-27T18:26:34.469Z"
   },
   {
    "duration": 9241,
    "start_time": "2022-01-27T18:31:40.673Z"
   },
   {
    "duration": 279,
    "start_time": "2022-01-27T18:32:21.354Z"
   },
   {
    "duration": 371,
    "start_time": "2022-01-27T18:33:00.752Z"
   },
   {
    "duration": 24,
    "start_time": "2022-01-27T18:33:21.571Z"
   },
   {
    "duration": 27,
    "start_time": "2022-01-27T18:34:11.858Z"
   },
   {
    "duration": 364,
    "start_time": "2022-01-27T18:34:23.940Z"
   },
   {
    "duration": 20,
    "start_time": "2022-01-27T18:34:35.299Z"
   },
   {
    "duration": 23,
    "start_time": "2022-01-27T18:35:15.181Z"
   },
   {
    "duration": 121,
    "start_time": "2022-01-27T18:46:46.503Z"
   },
   {
    "duration": 130,
    "start_time": "2022-01-27T18:46:53.759Z"
   },
   {
    "duration": 119,
    "start_time": "2022-01-27T18:47:12.982Z"
   },
   {
    "duration": 102,
    "start_time": "2022-01-27T18:47:51.456Z"
   },
   {
    "duration": 107,
    "start_time": "2022-01-27T18:48:33.743Z"
   },
   {
    "duration": 1297,
    "start_time": "2022-01-27T18:48:45.789Z"
   },
   {
    "duration": 726,
    "start_time": "2022-01-27T18:50:30.539Z"
   },
   {
    "duration": 949,
    "start_time": "2022-01-27T19:00:55.260Z"
   },
   {
    "duration": 1060,
    "start_time": "2022-01-27T19:02:37.706Z"
   },
   {
    "duration": 719,
    "start_time": "2022-01-27T19:03:30.383Z"
   },
   {
    "duration": 28,
    "start_time": "2022-01-27T19:38:17.418Z"
   },
   {
    "duration": 8081,
    "start_time": "2022-01-27T20:06:19.398Z"
   },
   {
    "duration": 9165,
    "start_time": "2022-01-27T20:06:36.107Z"
   },
   {
    "duration": 7,
    "start_time": "2022-01-27T20:06:52.275Z"
   },
   {
    "duration": 830,
    "start_time": "2022-01-27T20:11:36.709Z"
   },
   {
    "duration": 16,
    "start_time": "2022-01-27T20:13:54.363Z"
   },
   {
    "duration": 26,
    "start_time": "2022-01-27T20:14:01.268Z"
   },
   {
    "duration": 21,
    "start_time": "2022-01-27T20:21:06.893Z"
   },
   {
    "duration": 1317,
    "start_time": "2022-02-05T15:51:02.751Z"
   },
   {
    "duration": 8,
    "start_time": "2022-02-05T15:51:04.070Z"
   },
   {
    "duration": 8,
    "start_time": "2022-02-05T15:51:04.080Z"
   },
   {
    "duration": 6,
    "start_time": "2022-02-05T15:51:04.089Z"
   },
   {
    "duration": 8,
    "start_time": "2022-02-05T15:51:04.096Z"
   },
   {
    "duration": 5,
    "start_time": "2022-02-05T15:51:04.105Z"
   },
   {
    "duration": 13,
    "start_time": "2022-02-05T15:51:04.112Z"
   },
   {
    "duration": 6,
    "start_time": "2022-02-05T15:51:04.127Z"
   },
   {
    "duration": 37,
    "start_time": "2022-02-05T15:51:04.135Z"
   },
   {
    "duration": 240,
    "start_time": "2022-02-05T15:51:04.174Z"
   },
   {
    "duration": 10,
    "start_time": "2022-02-05T15:51:04.415Z"
   },
   {
    "duration": 267,
    "start_time": "2022-02-05T15:51:04.426Z"
   },
   {
    "duration": 21,
    "start_time": "2022-02-05T15:51:04.695Z"
   },
   {
    "duration": 261,
    "start_time": "2022-02-05T15:51:04.718Z"
   },
   {
    "duration": 464,
    "start_time": "2022-02-05T15:51:04.981Z"
   },
   {
    "duration": 345,
    "start_time": "2022-02-05T15:51:05.447Z"
   },
   {
    "duration": 307,
    "start_time": "2022-02-05T15:51:05.793Z"
   },
   {
    "duration": 293,
    "start_time": "2022-02-05T15:51:06.102Z"
   },
   {
    "duration": 302,
    "start_time": "2022-02-05T15:51:06.397Z"
   },
   {
    "duration": 12,
    "start_time": "2022-02-05T15:51:06.700Z"
   },
   {
    "duration": 14,
    "start_time": "2022-02-05T15:51:06.713Z"
   },
   {
    "duration": 13,
    "start_time": "2022-02-05T15:51:06.729Z"
   },
   {
    "duration": 35,
    "start_time": "2022-02-05T15:51:06.743Z"
   },
   {
    "duration": 12,
    "start_time": "2022-02-05T15:51:06.779Z"
   },
   {
    "duration": 11,
    "start_time": "2022-02-05T15:51:06.793Z"
   },
   {
    "duration": 10,
    "start_time": "2022-02-05T15:51:06.805Z"
   },
   {
    "duration": 533,
    "start_time": "2022-02-05T15:51:06.817Z"
   },
   {
    "duration": 366,
    "start_time": "2022-02-05T15:51:07.352Z"
   },
   {
    "duration": 368,
    "start_time": "2022-02-05T15:51:07.719Z"
   },
   {
    "duration": 12,
    "start_time": "2022-02-05T15:51:08.088Z"
   },
   {
    "duration": 23,
    "start_time": "2022-02-05T15:51:08.102Z"
   },
   {
    "duration": 632,
    "start_time": "2022-02-05T17:30:34.286Z"
   },
   {
    "duration": 295,
    "start_time": "2022-02-05T17:30:58.369Z"
   },
   {
    "duration": 242,
    "start_time": "2022-02-05T17:31:03.910Z"
   },
   {
    "duration": 1375,
    "start_time": "2022-02-05T17:31:11.379Z"
   },
   {
    "duration": 14,
    "start_time": "2022-02-05T17:31:12.757Z"
   },
   {
    "duration": 19,
    "start_time": "2022-02-05T17:31:12.774Z"
   },
   {
    "duration": 8,
    "start_time": "2022-02-05T17:31:12.796Z"
   },
   {
    "duration": 43,
    "start_time": "2022-02-05T17:31:12.806Z"
   },
   {
    "duration": 8,
    "start_time": "2022-02-05T17:31:12.851Z"
   },
   {
    "duration": 15,
    "start_time": "2022-02-05T17:31:12.861Z"
   },
   {
    "duration": 10,
    "start_time": "2022-02-05T17:31:12.880Z"
   },
   {
    "duration": 59,
    "start_time": "2022-02-05T17:31:12.894Z"
   },
   {
    "duration": 426,
    "start_time": "2022-02-05T17:31:12.956Z"
   },
   {
    "duration": 16,
    "start_time": "2022-02-05T17:31:13.384Z"
   },
   {
    "duration": 500,
    "start_time": "2022-02-05T17:31:13.403Z"
   },
   {
    "duration": 47,
    "start_time": "2022-02-05T17:31:13.906Z"
   },
   {
    "duration": 433,
    "start_time": "2022-02-05T17:31:13.957Z"
   },
   {
    "duration": 773,
    "start_time": "2022-02-05T17:31:14.393Z"
   },
   {
    "duration": 405,
    "start_time": "2022-02-05T17:31:15.169Z"
   },
   {
    "duration": 406,
    "start_time": "2022-02-05T17:31:15.576Z"
   },
   {
    "duration": 397,
    "start_time": "2022-02-05T17:31:15.985Z"
   },
   {
    "duration": 406,
    "start_time": "2022-02-05T17:31:16.384Z"
   },
   {
    "duration": 20,
    "start_time": "2022-02-05T17:31:16.793Z"
   },
   {
    "duration": 48,
    "start_time": "2022-02-05T17:31:16.815Z"
   },
   {
    "duration": 22,
    "start_time": "2022-02-05T17:31:16.865Z"
   },
   {
    "duration": 24,
    "start_time": "2022-02-05T17:31:16.891Z"
   },
   {
    "duration": 46,
    "start_time": "2022-02-05T17:31:16.918Z"
   },
   {
    "duration": 26,
    "start_time": "2022-02-05T17:31:16.966Z"
   },
   {
    "duration": 19,
    "start_time": "2022-02-05T17:31:16.994Z"
   },
   {
    "duration": 827,
    "start_time": "2022-02-05T17:31:17.015Z"
   },
   {
    "duration": 630,
    "start_time": "2022-02-05T17:31:17.848Z"
   },
   {
    "duration": 821,
    "start_time": "2022-02-05T17:31:18.480Z"
   },
   {
    "duration": 20,
    "start_time": "2022-02-05T17:31:19.303Z"
   },
   {
    "duration": 34,
    "start_time": "2022-02-05T17:31:19.326Z"
   },
   {
    "duration": 19,
    "start_time": "2022-02-05T17:32:11.970Z"
   },
   {
    "duration": 1442,
    "start_time": "2022-09-19T11:38:40.670Z"
   },
   {
    "duration": 229,
    "start_time": "2022-09-19T11:38:42.114Z"
   },
   {
    "duration": 16,
    "start_time": "2022-09-19T11:38:42.345Z"
   },
   {
    "duration": 19,
    "start_time": "2022-09-19T11:38:42.363Z"
   },
   {
    "duration": 15,
    "start_time": "2022-09-19T11:38:42.383Z"
   },
   {
    "duration": 23,
    "start_time": "2022-09-19T11:38:42.400Z"
   },
   {
    "duration": 22,
    "start_time": "2022-09-19T11:38:42.424Z"
   },
   {
    "duration": 31,
    "start_time": "2022-09-19T11:38:42.447Z"
   },
   {
    "duration": 11,
    "start_time": "2022-09-19T11:38:42.480Z"
   },
   {
    "duration": 37,
    "start_time": "2022-09-19T11:38:42.494Z"
   },
   {
    "duration": 314,
    "start_time": "2022-09-19T11:38:42.533Z"
   },
   {
    "duration": 13,
    "start_time": "2022-09-19T11:38:42.849Z"
   },
   {
    "duration": 262,
    "start_time": "2022-09-19T11:38:42.864Z"
   },
   {
    "duration": 26,
    "start_time": "2022-09-19T11:38:43.127Z"
   },
   {
    "duration": 236,
    "start_time": "2022-09-19T11:38:43.155Z"
   },
   {
    "duration": 315,
    "start_time": "2022-09-19T11:38:43.392Z"
   },
   {
    "duration": 158,
    "start_time": "2022-09-19T11:38:43.708Z"
   },
   {
    "duration": 165,
    "start_time": "2022-09-19T11:38:43.867Z"
   },
   {
    "duration": 152,
    "start_time": "2022-09-19T11:38:44.033Z"
   },
   {
    "duration": 220,
    "start_time": "2022-09-19T11:38:44.187Z"
   },
   {
    "duration": 15,
    "start_time": "2022-09-19T11:38:44.408Z"
   },
   {
    "duration": 16,
    "start_time": "2022-09-19T11:38:44.425Z"
   },
   {
    "duration": 16,
    "start_time": "2022-09-19T11:38:44.443Z"
   },
   {
    "duration": 43,
    "start_time": "2022-09-19T11:38:44.461Z"
   },
   {
    "duration": 15,
    "start_time": "2022-09-19T11:38:44.506Z"
   },
   {
    "duration": 15,
    "start_time": "2022-09-19T11:38:44.523Z"
   },
   {
    "duration": 20,
    "start_time": "2022-09-19T11:38:44.539Z"
   },
   {
    "duration": 256,
    "start_time": "2022-09-19T11:38:44.562Z"
   },
   {
    "duration": 248,
    "start_time": "2022-09-19T11:38:44.820Z"
   },
   {
    "duration": 243,
    "start_time": "2022-09-19T11:38:45.069Z"
   },
   {
    "duration": 14,
    "start_time": "2022-09-19T11:38:45.314Z"
   },
   {
    "duration": 19,
    "start_time": "2022-09-19T11:38:45.330Z"
   },
   {
    "duration": 3,
    "start_time": "2022-09-19T11:40:44.856Z"
   },
   {
    "duration": 70,
    "start_time": "2022-09-19T11:40:46.838Z"
   },
   {
    "duration": 66,
    "start_time": "2022-09-19T11:40:52.524Z"
   },
   {
    "duration": 14,
    "start_time": "2022-09-19T11:41:19.768Z"
   },
   {
    "duration": 14,
    "start_time": "2022-09-19T11:42:57.885Z"
   },
   {
    "duration": 5,
    "start_time": "2022-09-19T11:43:16.936Z"
   },
   {
    "duration": 8,
    "start_time": "2022-09-19T11:43:38.308Z"
   },
   {
    "duration": 5,
    "start_time": "2022-09-19T11:44:02.683Z"
   },
   {
    "duration": 9,
    "start_time": "2022-09-19T11:44:25.177Z"
   },
   {
    "duration": 7,
    "start_time": "2022-09-19T11:45:20.013Z"
   },
   {
    "duration": 18,
    "start_time": "2022-09-19T11:45:35.063Z"
   },
   {
    "duration": 203,
    "start_time": "2022-09-19T11:47:57.354Z"
   },
   {
    "duration": 211,
    "start_time": "2022-09-19T11:50:57.642Z"
   },
   {
    "duration": 14,
    "start_time": "2022-09-19T11:51:54.055Z"
   },
   {
    "duration": 240,
    "start_time": "2022-09-19T11:52:51.425Z"
   },
   {
    "duration": 26,
    "start_time": "2022-09-19T11:54:15.257Z"
   },
   {
    "duration": 223,
    "start_time": "2022-09-19T11:54:28.077Z"
   },
   {
    "duration": 217,
    "start_time": "2022-09-19T11:54:55.521Z"
   },
   {
    "duration": 321,
    "start_time": "2022-09-19T11:56:38.067Z"
   },
   {
    "duration": 231,
    "start_time": "2022-09-19T11:59:07.318Z"
   },
   {
    "duration": 153,
    "start_time": "2022-09-19T12:00:59.136Z"
   },
   {
    "duration": 140,
    "start_time": "2022-09-19T12:02:35.672Z"
   },
   {
    "duration": 148,
    "start_time": "2022-09-19T12:03:56.142Z"
   },
   {
    "duration": 14,
    "start_time": "2022-09-19T12:07:02.442Z"
   },
   {
    "duration": 17,
    "start_time": "2022-09-19T12:09:26.305Z"
   },
   {
    "duration": 16,
    "start_time": "2022-09-19T12:09:50.270Z"
   },
   {
    "duration": 18,
    "start_time": "2022-09-19T12:10:16.596Z"
   },
   {
    "duration": 15,
    "start_time": "2022-09-19T12:10:50.508Z"
   },
   {
    "duration": 15,
    "start_time": "2022-09-19T12:11:16.453Z"
   },
   {
    "duration": 15,
    "start_time": "2022-09-19T12:11:43.564Z"
   },
   {
    "duration": 240,
    "start_time": "2022-09-19T12:12:57.730Z"
   },
   {
    "duration": 265,
    "start_time": "2022-09-19T12:13:09.797Z"
   },
   {
    "duration": 240,
    "start_time": "2022-09-19T12:13:29.924Z"
   },
   {
    "duration": 238,
    "start_time": "2022-09-19T12:14:14.944Z"
   },
   {
    "duration": 228,
    "start_time": "2022-09-19T12:15:17.748Z"
   },
   {
    "duration": 15,
    "start_time": "2022-09-19T12:19:32.245Z"
   },
   {
    "duration": 14,
    "start_time": "2022-09-19T12:20:35.712Z"
   }
  ],
  "kernelspec": {
   "display_name": "Python 3 (ipykernel)",
   "language": "python",
   "name": "python3"
  },
  "language_info": {
   "codemirror_mode": {
    "name": "ipython",
    "version": 3
   },
   "file_extension": ".py",
   "mimetype": "text/x-python",
   "name": "python",
   "nbconvert_exporter": "python",
   "pygments_lexer": "ipython3",
   "version": "3.9.5"
  },
  "toc": {
   "base_numbering": 1,
   "nav_menu": {},
   "number_sections": false,
   "sideBar": true,
   "skip_h1_title": false,
   "title_cell": "Table of Contents",
   "title_sidebar": "Contents",
   "toc_cell": false,
   "toc_position": {},
   "toc_section_display": true,
   "toc_window_display": false
  }
 },
 "nbformat": 4,
 "nbformat_minor": 2
}
