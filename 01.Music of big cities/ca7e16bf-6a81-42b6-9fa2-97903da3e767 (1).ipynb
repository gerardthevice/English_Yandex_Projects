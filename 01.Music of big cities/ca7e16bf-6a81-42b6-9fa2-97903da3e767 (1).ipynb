{
 "cells": [
  {
   "cell_type": "markdown",
   "metadata": {
    "id": "E0vqbgi9ay0H"
   },
   "source": [
    "# Yandex Music"
   ]
  },
  {
   "cell_type": "markdown",
   "metadata": {
    "id": "VUC88oWjTJw2"
   },
   "source": [
    "The comparison of Moscow and St. Petersburg:\n",
    " * Moscow is a megapolis, subject to the tough rhythm of the working week;\n",
    " * St. Petersburg is a cultural capital, with its own tastes.\n",
    "\n",
    "Using Yandex.Music data, I will compare the behavior of users of the two capitals.\n",
    "\n",
    "**The purpose of the study**  is to test three hypotheses:\n",
    "1. User activity depends on the day of the week. Moreover, in Moscow and St. Petersburg, this manifests itself in different ways.\n",
    "2. On Monday morning some genres prevail in Moscow, and others in St. Petersburg. Similarly, on Friday evening different genres prevail  depending on the city. \n",
    "3. Moscow and St. Petersburg prefer different genres of music. In Moscow, pop music is more often listened to, in St. Petersburg - Russian rap.\n",
    "\n",
    "**Research progress**\n",
    "\n",
    "I got the data on user behavior from the yandex_music_project.csv file. Nothing is known about the quality of the data. Therefore, a review of the data will be needed before testing hypotheses.\n",
    "\n",
    "I will check the data for errors and evaluate their impact on the study. Then, at the preprocessing stage, I will correct the most critical data errors.\n",
    " \n",
    "Thus, the study will take place in three stages:\n",
    " 1. Data overview.\n",
    " 2. Data preprocessing.\n",
    " 3. Testing of hypotheses.\n",
    "\n"
   ]
  },
  {
   "cell_type": "markdown",
   "metadata": {
    "id": "Ml1hmfXC_Zcs"
   },
   "source": [
    "## Data overview\n",
    "\n",
    "Let's ckeck the data\n",
    "\n",
    "\n"
   ]
  },
  {
   "cell_type": "code",
   "execution_count": 1,
   "metadata": {
    "id": "AXN7PHPN_Zcs"
   },
   "outputs": [],
   "source": [
    "import pandas # importing pandas"
   ]
  },
  {
   "cell_type": "markdown",
   "metadata": {
    "id": "SG23P8tt_Zcs"
   },
   "source": [
    "Reading `yandex_music_project.csv` from `/datasets` and saving it as `df`:"
   ]
  },
  {
   "cell_type": "code",
   "execution_count": 2,
   "metadata": {
    "id": "fFVu7vqh_Zct"
   },
   "outputs": [
    {
     "data": {
      "text/html": [
       "<div>\n",
       "<style scoped>\n",
       "    .dataframe tbody tr th:only-of-type {\n",
       "        vertical-align: middle;\n",
       "    }\n",
       "\n",
       "    .dataframe tbody tr th {\n",
       "        vertical-align: top;\n",
       "    }\n",
       "\n",
       "    .dataframe thead th {\n",
       "        text-align: right;\n",
       "    }\n",
       "</style>\n",
       "<table border=\"1\" class=\"dataframe\">\n",
       "  <thead>\n",
       "    <tr style=\"text-align: right;\">\n",
       "      <th></th>\n",
       "      <th>userID</th>\n",
       "      <th>Track</th>\n",
       "      <th>artist</th>\n",
       "      <th>genre</th>\n",
       "      <th>City</th>\n",
       "      <th>time</th>\n",
       "      <th>Day</th>\n",
       "    </tr>\n",
       "  </thead>\n",
       "  <tbody>\n",
       "    <tr>\n",
       "      <th>0</th>\n",
       "      <td>FFB692EC</td>\n",
       "      <td>Kamigata To Boots</td>\n",
       "      <td>The Mass Missile</td>\n",
       "      <td>rock</td>\n",
       "      <td>Saint-Petersburg</td>\n",
       "      <td>20:28:33</td>\n",
       "      <td>Wednesday</td>\n",
       "    </tr>\n",
       "    <tr>\n",
       "      <th>1</th>\n",
       "      <td>55204538</td>\n",
       "      <td>Delayed Because of Accident</td>\n",
       "      <td>Andreas Rönnberg</td>\n",
       "      <td>rock</td>\n",
       "      <td>Moscow</td>\n",
       "      <td>14:07:09</td>\n",
       "      <td>Friday</td>\n",
       "    </tr>\n",
       "    <tr>\n",
       "      <th>2</th>\n",
       "      <td>20EC38</td>\n",
       "      <td>Funiculì funiculà</td>\n",
       "      <td>Mario Lanza</td>\n",
       "      <td>pop</td>\n",
       "      <td>Saint-Petersburg</td>\n",
       "      <td>20:58:07</td>\n",
       "      <td>Wednesday</td>\n",
       "    </tr>\n",
       "    <tr>\n",
       "      <th>3</th>\n",
       "      <td>A3DD03C9</td>\n",
       "      <td>Dragons in the Sunset</td>\n",
       "      <td>Fire + Ice</td>\n",
       "      <td>folk</td>\n",
       "      <td>Saint-Petersburg</td>\n",
       "      <td>08:37:09</td>\n",
       "      <td>Monday</td>\n",
       "    </tr>\n",
       "    <tr>\n",
       "      <th>4</th>\n",
       "      <td>E2DC1FAE</td>\n",
       "      <td>Soul People</td>\n",
       "      <td>Space Echo</td>\n",
       "      <td>dance</td>\n",
       "      <td>Moscow</td>\n",
       "      <td>08:34:34</td>\n",
       "      <td>Monday</td>\n",
       "    </tr>\n",
       "  </tbody>\n",
       "</table>\n",
       "</div>"
      ],
      "text/plain": [
       "     userID                        Track            artist  genre  \\\n",
       "0  FFB692EC            Kamigata To Boots  The Mass Missile   rock   \n",
       "1  55204538  Delayed Because of Accident  Andreas Rönnberg   rock   \n",
       "2    20EC38            Funiculì funiculà       Mario Lanza    pop   \n",
       "3  A3DD03C9        Dragons in the Sunset        Fire + Ice   folk   \n",
       "4  E2DC1FAE                  Soul People        Space Echo  dance   \n",
       "\n",
       "             City        time        Day  \n",
       "0  Saint-Petersburg  20:28:33  Wednesday  \n",
       "1            Moscow  14:07:09     Friday  \n",
       "2  Saint-Petersburg  20:58:07  Wednesday  \n",
       "3  Saint-Petersburg  08:37:09     Monday  \n",
       "4            Moscow  08:34:34     Monday  "
      ]
     },
     "execution_count": 2,
     "metadata": {},
     "output_type": "execute_result"
    }
   ],
   "source": [
    "df = pandas.read_csv('/datasets/yandex_music_project.csv')\n",
    "df.head()"
   ]
  },
  {
   "cell_type": "code",
   "execution_count": 3,
   "metadata": {
    "id": "oWTVX3gW_Zct"
   },
   "outputs": [
    {
     "data": {
      "text/html": [
       "<div>\n",
       "<style scoped>\n",
       "    .dataframe tbody tr th:only-of-type {\n",
       "        vertical-align: middle;\n",
       "    }\n",
       "\n",
       "    .dataframe tbody tr th {\n",
       "        vertical-align: top;\n",
       "    }\n",
       "\n",
       "    .dataframe thead th {\n",
       "        text-align: right;\n",
       "    }\n",
       "</style>\n",
       "<table border=\"1\" class=\"dataframe\">\n",
       "  <thead>\n",
       "    <tr style=\"text-align: right;\">\n",
       "      <th></th>\n",
       "      <th>userID</th>\n",
       "      <th>Track</th>\n",
       "      <th>artist</th>\n",
       "      <th>genre</th>\n",
       "      <th>City</th>\n",
       "      <th>time</th>\n",
       "      <th>Day</th>\n",
       "    </tr>\n",
       "  </thead>\n",
       "  <tbody>\n",
       "    <tr>\n",
       "      <th>0</th>\n",
       "      <td>FFB692EC</td>\n",
       "      <td>Kamigata To Boots</td>\n",
       "      <td>The Mass Missile</td>\n",
       "      <td>rock</td>\n",
       "      <td>Saint-Petersburg</td>\n",
       "      <td>20:28:33</td>\n",
       "      <td>Wednesday</td>\n",
       "    </tr>\n",
       "    <tr>\n",
       "      <th>1</th>\n",
       "      <td>55204538</td>\n",
       "      <td>Delayed Because of Accident</td>\n",
       "      <td>Andreas Rönnberg</td>\n",
       "      <td>rock</td>\n",
       "      <td>Moscow</td>\n",
       "      <td>14:07:09</td>\n",
       "      <td>Friday</td>\n",
       "    </tr>\n",
       "    <tr>\n",
       "      <th>2</th>\n",
       "      <td>20EC38</td>\n",
       "      <td>Funiculì funiculà</td>\n",
       "      <td>Mario Lanza</td>\n",
       "      <td>pop</td>\n",
       "      <td>Saint-Petersburg</td>\n",
       "      <td>20:58:07</td>\n",
       "      <td>Wednesday</td>\n",
       "    </tr>\n",
       "    <tr>\n",
       "      <th>3</th>\n",
       "      <td>A3DD03C9</td>\n",
       "      <td>Dragons in the Sunset</td>\n",
       "      <td>Fire + Ice</td>\n",
       "      <td>folk</td>\n",
       "      <td>Saint-Petersburg</td>\n",
       "      <td>08:37:09</td>\n",
       "      <td>Monday</td>\n",
       "    </tr>\n",
       "    <tr>\n",
       "      <th>4</th>\n",
       "      <td>E2DC1FAE</td>\n",
       "      <td>Soul People</td>\n",
       "      <td>Space Echo</td>\n",
       "      <td>dance</td>\n",
       "      <td>Moscow</td>\n",
       "      <td>08:34:34</td>\n",
       "      <td>Monday</td>\n",
       "    </tr>\n",
       "    <tr>\n",
       "      <th>5</th>\n",
       "      <td>842029A1</td>\n",
       "      <td>Преданная</td>\n",
       "      <td>IMPERVTOR</td>\n",
       "      <td>rusrap</td>\n",
       "      <td>Saint-Petersburg</td>\n",
       "      <td>13:09:41</td>\n",
       "      <td>Friday</td>\n",
       "    </tr>\n",
       "    <tr>\n",
       "      <th>6</th>\n",
       "      <td>4CB90AA5</td>\n",
       "      <td>True</td>\n",
       "      <td>Roman Messer</td>\n",
       "      <td>dance</td>\n",
       "      <td>Moscow</td>\n",
       "      <td>13:00:07</td>\n",
       "      <td>Wednesday</td>\n",
       "    </tr>\n",
       "    <tr>\n",
       "      <th>7</th>\n",
       "      <td>F03E1C1F</td>\n",
       "      <td>Feeling This Way</td>\n",
       "      <td>Polina Griffith</td>\n",
       "      <td>dance</td>\n",
       "      <td>Moscow</td>\n",
       "      <td>20:47:49</td>\n",
       "      <td>Wednesday</td>\n",
       "    </tr>\n",
       "    <tr>\n",
       "      <th>8</th>\n",
       "      <td>8FA1D3BE</td>\n",
       "      <td>И вновь продолжается бой</td>\n",
       "      <td>NaN</td>\n",
       "      <td>ruspop</td>\n",
       "      <td>Moscow</td>\n",
       "      <td>09:17:40</td>\n",
       "      <td>Friday</td>\n",
       "    </tr>\n",
       "    <tr>\n",
       "      <th>9</th>\n",
       "      <td>E772D5C0</td>\n",
       "      <td>Pessimist</td>\n",
       "      <td>NaN</td>\n",
       "      <td>dance</td>\n",
       "      <td>Saint-Petersburg</td>\n",
       "      <td>21:20:49</td>\n",
       "      <td>Wednesday</td>\n",
       "    </tr>\n",
       "  </tbody>\n",
       "</table>\n",
       "</div>"
      ],
      "text/plain": [
       "     userID                        Track            artist   genre  \\\n",
       "0  FFB692EC            Kamigata To Boots  The Mass Missile    rock   \n",
       "1  55204538  Delayed Because of Accident  Andreas Rönnberg    rock   \n",
       "2    20EC38            Funiculì funiculà       Mario Lanza     pop   \n",
       "3  A3DD03C9        Dragons in the Sunset        Fire + Ice    folk   \n",
       "4  E2DC1FAE                  Soul People        Space Echo   dance   \n",
       "5  842029A1                    Преданная         IMPERVTOR  rusrap   \n",
       "6  4CB90AA5                         True      Roman Messer   dance   \n",
       "7  F03E1C1F             Feeling This Way   Polina Griffith   dance   \n",
       "8  8FA1D3BE     И вновь продолжается бой               NaN  ruspop   \n",
       "9  E772D5C0                    Pessimist               NaN   dance   \n",
       "\n",
       "             City        time        Day  \n",
       "0  Saint-Petersburg  20:28:33  Wednesday  \n",
       "1            Moscow  14:07:09     Friday  \n",
       "2  Saint-Petersburg  20:58:07  Wednesday  \n",
       "3  Saint-Petersburg  08:37:09     Monday  \n",
       "4            Moscow  08:34:34     Monday  \n",
       "5  Saint-Petersburg  13:09:41     Friday  \n",
       "6            Moscow  13:00:07  Wednesday  \n",
       "7            Moscow  20:47:49  Wednesday  \n",
       "8            Moscow  09:17:40     Friday  \n",
       "9  Saint-Petersburg  21:20:49  Wednesday  "
      ]
     },
     "execution_count": 3,
     "metadata": {},
     "output_type": "execute_result"
    }
   ],
   "source": [
    "df.head(10) # let's take a look at the first 10 lines of df"
   ]
  },
  {
   "cell_type": "code",
   "execution_count": 4,
   "metadata": {
    "id": "DSf2kIb-_Zct"
   },
   "outputs": [
    {
     "name": "stdout",
     "output_type": "stream",
     "text": [
      "<class 'pandas.core.frame.DataFrame'>\n",
      "RangeIndex: 65079 entries, 0 to 65078\n",
      "Data columns (total 7 columns):\n",
      " #   Column    Non-Null Count  Dtype \n",
      "---  ------    --------------  ----- \n",
      " 0     userID  65079 non-null  object\n",
      " 1   Track     63848 non-null  object\n",
      " 2   artist    57876 non-null  object\n",
      " 3   genre     63881 non-null  object\n",
      " 4     City    65079 non-null  object\n",
      " 5   time      65079 non-null  object\n",
      " 6   Day       65079 non-null  object\n",
      "dtypes: object(7)\n",
      "memory usage: 3.5+ MB\n"
     ]
    }
   ],
   "source": [
    "df.info() # getting general infirmation about df"
   ]
  },
  {
   "cell_type": "markdown",
   "metadata": {
    "id": "TaQ2Iwbr_Zct"
   },
   "source": [
    "So, there are seven columns in the table. The data type in all columns is `object`.\n",
    "\n",
    "According to the data documentation:\n",
    "* `userID` — user ID;\n",
    "* `Track` — the name of the track;  \n",
    "* `artist` — artist's name;\n",
    "* `genre` — the name of the genre;\n",
    "* `City` — the user's city;\n",
    "* `time` — the start time of listening;\n",
    "* `Day` — the day of the week.\n",
    "\n",
    "Three style violations are visible in the column names:\n",
    "1. Lowercase letters are combined with uppercase.\n",
    "2. There are gaps in the names.\n",
    "3. UserID type names are not in the \"snake register\".\n",
    "\n",
    "\n",
    "\n",
    "The number of values in the columns varies. It means there are missing values in the data.\n"
   ]
  },
  {
   "cell_type": "markdown",
   "metadata": {
    "id": "MCB6-dXG_Zct"
   },
   "source": [
    "**Conclusions**\n",
    "\n",
    "In each row of the table there is data about the listened track. A part of the columns describes the composition itself: the name, the artist and the genre. The rest of the data tells the following about the user: what city they are from and when they listened to the music.\n",
    "\n",
    "Firstly, it can be assumed that there is enough data to test hypotheses. But there are gaps in the data, and  there are  style errors in the column names.\n",
    "\n",
    "To move on we need to fix the problems in the data.\n"
   ]
  },
  {
   "cell_type": "markdown",
   "metadata": {
    "id": "SjYF6Ub9_Zct"
   },
   "source": [
    "## Data preprocessing\n",
    "Correcting the style in the column headers, eliminating omissions, checking the data for duplicates."
   ]
  },
  {
   "cell_type": "markdown",
   "metadata": {
    "id": "dIaKXr29_Zct"
   },
   "source": [
    "### Header style\n"
   ]
  },
  {
   "cell_type": "code",
   "execution_count": 5,
   "metadata": {
    "id": "oKOTdF_Q_Zct"
   },
   "outputs": [
    {
     "data": {
      "text/plain": [
       "Index(['  userID', 'Track', 'artist', 'genre', '  City  ', 'time', 'Day'], dtype='object')"
      ]
     },
     "execution_count": 5,
     "metadata": {},
     "output_type": "execute_result"
    }
   ],
   "source": [
    "df.columns # all df columns"
   ]
  },
  {
   "cell_type": "markdown",
   "metadata": {
    "id": "zj5534cv_Zct"
   },
   "source": [
    "Changin the names of the columns:\n",
    "* `'  userID'` → `'user_id'`;\n",
    "* `'Track'` → `'track'`;\n",
    "* `'  City  '` → `'city'`;\n",
    "* `'Day'` → `'day'`."
   ]
  },
  {
   "cell_type": "code",
   "execution_count": 6,
   "metadata": {
    "id": "ISlFqs5y_Zct"
   },
   "outputs": [],
   "source": [
    "df = df.rename(columns={'  userID' : 'user_id', 'Track': 'track', '  City  ': 'city', 'Day' : 'day'}) # переименование столбцов"
   ]
  },
  {
   "cell_type": "code",
   "execution_count": 7,
   "metadata": {},
   "outputs": [],
   "source": [
    "df = df.rename(columns = {\n",
    "    '  userID':'user_id',\n",
    "    'Track':'track',\n",
    "    '  City  ':'city',\n",
    "    'Day':'day'})"
   ]
  },
  {
   "cell_type": "markdown",
   "metadata": {
    "id": "1dqbh00J_Zct"
   },
   "source": [
    "Checking the result. To do this I'll display the column names again:"
   ]
  },
  {
   "cell_type": "code",
   "execution_count": 8,
   "metadata": {
    "id": "d4NOAmTW_Zct"
   },
   "outputs": [
    {
     "data": {
      "text/plain": [
       "Index(['user_id', 'track', 'artist', 'genre', 'city', 'time', 'day'], dtype='object')"
      ]
     },
     "execution_count": 8,
     "metadata": {},
     "output_type": "execute_result"
    }
   ],
   "source": [
    "df.columns "
   ]
  },
  {
   "cell_type": "markdown",
   "metadata": {
    "id": "5ISfbcfY_Zct"
   },
   "source": [
    "### Missing values\n",
    "First, count how many missing values there are in the table. Two pandas methods are enough for this:"
   ]
  },
  {
   "cell_type": "code",
   "execution_count": 9,
   "metadata": {
    "id": "RskX29qr_Zct"
   },
   "outputs": [
    {
     "data": {
      "text/plain": [
       "user_id       0\n",
       "track      1231\n",
       "artist     7203\n",
       "genre      1198\n",
       "city          0\n",
       "time          0\n",
       "day           0\n",
       "dtype: int64"
      ]
     },
     "execution_count": 9,
     "metadata": {},
     "output_type": "execute_result"
    }
   ],
   "source": [
    "df.isnull().sum() # counting missing values"
   ]
  },
  {
   "cell_type": "markdown",
   "metadata": {
    "id": "qubhgnlO_Zct"
   },
   "source": [
    "Not all missing values affect the study. So in \"track\" and \"artist\", omissions are not important. It is enough to replace them with explicit designations.\n",
    "\n",
    "But omissions in \"genre\" can interfere with the comparison of musical tastes in Moscow and St. Petersburg. In this case, it would be correct to determine the reason for the omissions and restore the data. There is no such opportunity in the training project. So, l'll have to:\n",
    "* fill in these gaps with explicit designations,\n",
    "* assess how much they will alter the calculations. "
   ]
  },
  {
   "cell_type": "markdown",
   "metadata": {
    "id": "fSv2laPA_Zct"
   },
   "source": [
    "Replace the missing values in the 'track', 'artist', and 'genre' columns with the string 'unknown'. To do this, I'll create a 'columns_to_replace list', iterate its elements with a for loop and replace the missing values for each column:"
   ]
  },
  {
   "cell_type": "code",
   "execution_count": 10,
   "metadata": {
    "id": "KplB5qWs_Zct"
   },
   "outputs": [],
   "source": [
    "columns_to_replace = ['track', 'artist', 'genre']\n",
    "for column in columns_to_replace:\n",
    "     df[column] = df[column].fillna('unknown')\n",
    "\n",
    "     "
   ]
  },
  {
   "cell_type": "markdown",
   "metadata": {
    "id": "Ilsm-MZo_Zct"
   },
   "source": [
    "Let's make sure that there are no gaps left in the table. To do this, let's count the missing values again."
   ]
  },
  {
   "cell_type": "code",
   "execution_count": 11,
   "metadata": {
    "id": "Tq4nYRX4_Zct"
   },
   "outputs": [
    {
     "data": {
      "text/plain": [
       "user_id    0\n",
       "track      0\n",
       "artist     0\n",
       "genre      0\n",
       "city       0\n",
       "time       0\n",
       "day        0\n",
       "dtype: int64"
      ]
     },
     "execution_count": 11,
     "metadata": {},
     "output_type": "execute_result"
    }
   ],
   "source": [
    "df.isnull().sum() # counting gaps"
   ]
  },
  {
   "cell_type": "markdown",
   "metadata": {
    "id": "BWKRtBJ3_Zct"
   },
   "source": [
    "### Duplicates\n",
    "Counting  the obvious duplicates in the table with one command:"
   ]
  },
  {
   "cell_type": "code",
   "execution_count": 12,
   "metadata": {
    "id": "36eES_S0_Zct"
   },
   "outputs": [
    {
     "data": {
      "text/plain": [
       "3826"
      ]
     },
     "execution_count": 12,
     "metadata": {},
     "output_type": "execute_result"
    }
   ],
   "source": [
    "df.duplicated().sum() "
   ]
  },
  {
   "cell_type": "markdown",
   "metadata": {
    "id": "Ot25h6XR_Zct"
   },
   "source": [
    "Calling the special pandas method to remove obvious duplicates:"
   ]
  },
  {
   "cell_type": "code",
   "execution_count": 13,
   "metadata": {
    "id": "exFHq6tt_Zct"
   },
   "outputs": [],
   "source": [
    "df = df.drop_duplicates().reset_index(drop=True)"
   ]
  },
  {
   "cell_type": "code",
   "execution_count": 14,
   "metadata": {
    "id": "-8PuNWQ0_Zct"
   },
   "outputs": [
    {
     "data": {
      "text/plain": [
       "0"
      ]
     },
     "execution_count": 14,
     "metadata": {},
     "output_type": "execute_result"
    }
   ],
   "source": [
    "df.duplicated().sum() # checking the results"
   ]
  },
  {
   "cell_type": "code",
   "execution_count": 15,
   "metadata": {},
   "outputs": [
    {
     "name": "stdout",
     "output_type": "stream",
     "text": [
      "Missing values: 0\n"
     ]
    }
   ],
   "source": [
    "print(\"Missing values: {}\".format(df.duplicated().sum()))"
   ]
  },
  {
   "cell_type": "markdown",
   "metadata": {
    "id": "QlFBsxAr_Zct"
   },
   "source": [
    "Now we should get rid of obvious duplicates in the 'genre' column. For example, the name of the same genre may be written a little bit differently. Such errors will also affect the results of the study."
   ]
  },
  {
   "cell_type": "markdown",
   "metadata": {
    "id": "eSjWwsOh_Zct"
   },
   "source": [
    "Displaying a list of unique genre names sorted alphabetically. For this:\n",
    "* extract the necessary  dataframe column, \n",
    "* apply a sorting method, \n",
    "* call a method for the sorted column that will return unique values from the column."
   ]
  },
  {
   "cell_type": "code",
   "execution_count": 16,
   "metadata": {
    "id": "JIUcqzZN_Zct",
    "scrolled": true
   },
   "outputs": [
    {
     "data": {
      "text/plain": [
       "array(['acid', 'acoustic', 'action', 'adult', 'africa', 'afrikaans',\n",
       "       'alternative', 'alternativepunk', 'ambient', 'americana',\n",
       "       'animated', 'anime', 'arabesk', 'arabic', 'arena',\n",
       "       'argentinetango', 'art', 'audiobook', 'author', 'avantgarde',\n",
       "       'axé', 'baile', 'balkan', 'beats', 'bigroom', 'black', 'bluegrass',\n",
       "       'blues', 'bollywood', 'bossa', 'brazilian', 'breakbeat', 'breaks',\n",
       "       'broadway', 'cantautori', 'cantopop', 'canzone', 'caribbean',\n",
       "       'caucasian', 'celtic', 'chamber', 'chanson', 'children', 'chill',\n",
       "       'chinese', 'choral', 'christian', 'christmas', 'classical',\n",
       "       'classicmetal', 'club', 'colombian', 'comedy', 'conjazz',\n",
       "       'contemporary', 'country', 'cuban', 'dance', 'dancehall',\n",
       "       'dancepop', 'dark', 'death', 'deep', 'deutschrock', 'deutschspr',\n",
       "       'dirty', 'disco', 'dnb', 'documentary', 'downbeat', 'downtempo',\n",
       "       'drum', 'dub', 'dubstep', 'eastern', 'easy', 'electronic',\n",
       "       'electropop', 'emo', 'entehno', 'epicmetal', 'estrada', 'ethnic',\n",
       "       'eurofolk', 'european', 'experimental', 'extrememetal', 'fado',\n",
       "       'fairytail', 'film', 'fitness', 'flamenco', 'folk', 'folklore',\n",
       "       'folkmetal', 'folkrock', 'folktronica', 'forró', 'frankreich',\n",
       "       'französisch', 'french', 'funk', 'future', 'gangsta', 'garage',\n",
       "       'german', 'ghazal', 'gitarre', 'glitch', 'gospel', 'gothic',\n",
       "       'grime', 'grunge', 'gypsy', 'handsup', \"hard'n'heavy\", 'hardcore',\n",
       "       'hardstyle', 'hardtechno', 'hip', 'hip-hop', 'hiphop',\n",
       "       'historisch', 'holiday', 'hop', 'horror', 'house', 'hymn', 'idm',\n",
       "       'independent', 'indian', 'indie', 'indipop', 'industrial',\n",
       "       'inspirational', 'instrumental', 'international', 'irish', 'jam',\n",
       "       'japanese', 'jazz', 'jewish', 'jpop', 'jungle', 'k-pop',\n",
       "       'karadeniz', 'karaoke', 'kayokyoku', 'korean', 'laiko', 'latin',\n",
       "       'latino', 'leftfield', 'local', 'lounge', 'loungeelectronic',\n",
       "       'lovers', 'malaysian', 'mandopop', 'marschmusik', 'meditative',\n",
       "       'mediterranean', 'melodic', 'metal', 'metalcore', 'mexican',\n",
       "       'middle', 'minimal', 'miscellaneous', 'modern', 'mood', 'mpb',\n",
       "       'muslim', 'native', 'neoklassik', 'neue', 'new', 'newage',\n",
       "       'newwave', 'nu', 'nujazz', 'numetal', 'oceania', 'old', 'opera',\n",
       "       'orchestral', 'other', 'piano', 'podcasts', 'pop', 'popdance',\n",
       "       'popelectronic', 'popeurodance', 'poprussian', 'post',\n",
       "       'posthardcore', 'postrock', 'power', 'progmetal', 'progressive',\n",
       "       'psychedelic', 'punjabi', 'punk', 'quebecois', 'ragga', 'ram',\n",
       "       'rancheras', 'rap', 'rave', 'reggae', 'reggaeton', 'regional',\n",
       "       'relax', 'religious', 'retro', 'rhythm', 'rnb', 'rnr', 'rock',\n",
       "       'rockabilly', 'rockalternative', 'rockindie', 'rockother',\n",
       "       'romance', 'roots', 'ruspop', 'rusrap', 'rusrock', 'russian',\n",
       "       'salsa', 'samba', 'scenic', 'schlager', 'self', 'sertanejo',\n",
       "       'shanson', 'shoegazing', 'showtunes', 'singer', 'ska', 'skarock',\n",
       "       'slow', 'smooth', 'soft', 'soul', 'soulful', 'sound', 'soundtrack',\n",
       "       'southern', 'specialty', 'speech', 'spiritual', 'sport',\n",
       "       'stonerrock', 'surf', 'swing', 'synthpop', 'synthrock',\n",
       "       'sängerportrait', 'tango', 'tanzorchester', 'taraftar', 'tatar',\n",
       "       'tech', 'techno', 'teen', 'thrash', 'top', 'traditional',\n",
       "       'tradjazz', 'trance', 'tribal', 'trip', 'triphop', 'tropical',\n",
       "       'türk', 'türkçe', 'ukrrock', 'unknown', 'urban', 'uzbek',\n",
       "       'variété', 'vi', 'videogame', 'vocal', 'western', 'world',\n",
       "       'worldbeat', 'ïîï', 'электроника'], dtype=object)"
      ]
     },
     "execution_count": 16,
     "metadata": {},
     "output_type": "execute_result"
    }
   ],
   "source": [
    "\n",
    "df['genre'].sort_values(ascending = True).unique() # Просмотр уникальных названий жанров"
   ]
  },
  {
   "cell_type": "markdown",
   "metadata": {
    "id": "qej-Qmuo_Zct"
   },
   "source": [
    "Browsing the list and finding obvious duplicates of the hip hop name. These may be misspelled titles or alternative titles of the same genre (hip,hop,hip-hop).\n",
    "\n",
    "To clear the table of these duplicates, I\"ll write the replace_wrong_genres() function with two parameters: \n",
    "* `wrong_genres` — a list of duplicates,\n",
    "* `correct_genre` — a string with the correct value.\n",
    "\n",
    "The function will correct the genre column in the df table: replace each value from the wrong_genres list with the value from correct_genre"
   ]
  },
  {
   "cell_type": "code",
   "execution_count": 17,
   "metadata": {
    "id": "ErNDkmns_Zct"
   },
   "outputs": [],
   "source": [
    "def replace_wrong_genres(wrong_genres, correct_genre):\n",
    "    for wrong_genre in wrong_genres:\n",
    "        df['genre'] = df['genre'].replace(wrong_genres, correct_genre)\n",
    "\n",
    "        \n",
    "            \n",
    "            "
   ]
  },
  {
   "cell_type": "code",
   "execution_count": 18,
   "metadata": {
    "id": "YN5i2hpmSo09"
   },
   "outputs": [],
   "source": [
    "duplicates = ['hip', 'hop', 'hip-hop']\n",
    "genre = 'hiphop'\n",
    "replace_wrong_genres(duplicates, genre) "
   ]
  },
  {
   "cell_type": "code",
   "execution_count": 19,
   "metadata": {
    "id": "wvixALnFG15m",
    "scrolled": true
   },
   "outputs": [
    {
     "data": {
      "text/plain": [
       "array(['acid', 'acoustic', 'action', 'adult', 'africa', 'afrikaans',\n",
       "       'alternative', 'alternativepunk', 'ambient', 'americana',\n",
       "       'animated', 'anime', 'arabesk', 'arabic', 'arena',\n",
       "       'argentinetango', 'art', 'audiobook', 'author', 'avantgarde',\n",
       "       'axé', 'baile', 'balkan', 'beats', 'bigroom', 'black', 'bluegrass',\n",
       "       'blues', 'bollywood', 'bossa', 'brazilian', 'breakbeat', 'breaks',\n",
       "       'broadway', 'cantautori', 'cantopop', 'canzone', 'caribbean',\n",
       "       'caucasian', 'celtic', 'chamber', 'chanson', 'children', 'chill',\n",
       "       'chinese', 'choral', 'christian', 'christmas', 'classical',\n",
       "       'classicmetal', 'club', 'colombian', 'comedy', 'conjazz',\n",
       "       'contemporary', 'country', 'cuban', 'dance', 'dancehall',\n",
       "       'dancepop', 'dark', 'death', 'deep', 'deutschrock', 'deutschspr',\n",
       "       'dirty', 'disco', 'dnb', 'documentary', 'downbeat', 'downtempo',\n",
       "       'drum', 'dub', 'dubstep', 'eastern', 'easy', 'electronic',\n",
       "       'electropop', 'emo', 'entehno', 'epicmetal', 'estrada', 'ethnic',\n",
       "       'eurofolk', 'european', 'experimental', 'extrememetal', 'fado',\n",
       "       'fairytail', 'film', 'fitness', 'flamenco', 'folk', 'folklore',\n",
       "       'folkmetal', 'folkrock', 'folktronica', 'forró', 'frankreich',\n",
       "       'französisch', 'french', 'funk', 'future', 'gangsta', 'garage',\n",
       "       'german', 'ghazal', 'gitarre', 'glitch', 'gospel', 'gothic',\n",
       "       'grime', 'grunge', 'gypsy', 'handsup', \"hard'n'heavy\", 'hardcore',\n",
       "       'hardstyle', 'hardtechno', 'hiphop', 'historisch', 'holiday',\n",
       "       'horror', 'house', 'hymn', 'idm', 'independent', 'indian', 'indie',\n",
       "       'indipop', 'industrial', 'inspirational', 'instrumental',\n",
       "       'international', 'irish', 'jam', 'japanese', 'jazz', 'jewish',\n",
       "       'jpop', 'jungle', 'k-pop', 'karadeniz', 'karaoke', 'kayokyoku',\n",
       "       'korean', 'laiko', 'latin', 'latino', 'leftfield', 'local',\n",
       "       'lounge', 'loungeelectronic', 'lovers', 'malaysian', 'mandopop',\n",
       "       'marschmusik', 'meditative', 'mediterranean', 'melodic', 'metal',\n",
       "       'metalcore', 'mexican', 'middle', 'minimal', 'miscellaneous',\n",
       "       'modern', 'mood', 'mpb', 'muslim', 'native', 'neoklassik', 'neue',\n",
       "       'new', 'newage', 'newwave', 'nu', 'nujazz', 'numetal', 'oceania',\n",
       "       'old', 'opera', 'orchestral', 'other', 'piano', 'podcasts', 'pop',\n",
       "       'popdance', 'popelectronic', 'popeurodance', 'poprussian', 'post',\n",
       "       'posthardcore', 'postrock', 'power', 'progmetal', 'progressive',\n",
       "       'psychedelic', 'punjabi', 'punk', 'quebecois', 'ragga', 'ram',\n",
       "       'rancheras', 'rap', 'rave', 'reggae', 'reggaeton', 'regional',\n",
       "       'relax', 'religious', 'retro', 'rhythm', 'rnb', 'rnr', 'rock',\n",
       "       'rockabilly', 'rockalternative', 'rockindie', 'rockother',\n",
       "       'romance', 'roots', 'ruspop', 'rusrap', 'rusrock', 'russian',\n",
       "       'salsa', 'samba', 'scenic', 'schlager', 'self', 'sertanejo',\n",
       "       'shanson', 'shoegazing', 'showtunes', 'singer', 'ska', 'skarock',\n",
       "       'slow', 'smooth', 'soft', 'soul', 'soulful', 'sound', 'soundtrack',\n",
       "       'southern', 'specialty', 'speech', 'spiritual', 'sport',\n",
       "       'stonerrock', 'surf', 'swing', 'synthpop', 'synthrock',\n",
       "       'sängerportrait', 'tango', 'tanzorchester', 'taraftar', 'tatar',\n",
       "       'tech', 'techno', 'teen', 'thrash', 'top', 'traditional',\n",
       "       'tradjazz', 'trance', 'tribal', 'trip', 'triphop', 'tropical',\n",
       "       'türk', 'türkçe', 'ukrrock', 'unknown', 'urban', 'uzbek',\n",
       "       'variété', 'vi', 'videogame', 'vocal', 'western', 'world',\n",
       "       'worldbeat', 'ïîï', 'электроника'], dtype=object)"
      ]
     },
     "execution_count": 19,
     "metadata": {},
     "output_type": "execute_result"
    }
   ],
   "source": [
    "df['genre'].sort_values(ascending = True).unique() "
   ]
  },
  {
   "cell_type": "markdown",
   "metadata": {
    "id": "jz6a9-7HQUDd"
   },
   "source": [
    "**Conclusions**\n",
    "\n",
    "Preprocessing revealed three problems in the data:\n",
    "\n",
    "- header style violations,\n",
    "- missing values,\n",
    "- duplicates — explicit and implicit.\n",
    "\n",
    "I have corrected the headers to make it easier to work with the table. Without duplicates, the study will become more accurate.\n",
    "\n",
    "I have replaced the missing values with 'unknown'. It remains to be seen whether omissions in the 'genre' column will alter the study.\n",
    "\n",
    "Now we can proceed to hypothesis testing.\n"
   ]
  },
  {
   "cell_type": "markdown",
   "metadata": {
    "id": "WttZHXH0SqKk"
   },
   "source": [
    "## Testing of the hypothesis "
   ]
  },
  {
   "cell_type": "markdown",
   "metadata": {
    "id": "Im936VVi_Zcu"
   },
   "source": [
    "### Comparison of user behavior of the two capitals"
   ]
  },
  {
   "cell_type": "markdown",
   "metadata": {
    "id": "nwt_MuaL_Zcu"
   },
   "source": [
    "The first hypothesis states that the users listen to music differently in Moscow and St. Petersburg. We should check this assumption based on data on three days of the week — Monday, Wednesday and Friday. To do this:\n",
    "\n",
    "* Separate the users of Moscow and St. Petersburg\n",
    "* Compare how many tracks each user group listened to on Monday, Wednesday and Friday.\n"
   ]
  },
  {
   "cell_type": "markdown",
   "metadata": {
    "id": "8Dw_YMmT_Zcu"
   },
   "source": [
    "Then we should evaluate user activity in each city, group the data by city and count the listened tracks in each group.\n",
    "\n"
   ]
  },
  {
   "cell_type": "code",
   "execution_count": 20,
   "metadata": {
    "id": "0_Qs96oh_Zcu"
   },
   "outputs": [
    {
     "data": {
      "text/html": [
       "<div>\n",
       "<style scoped>\n",
       "    .dataframe tbody tr th:only-of-type {\n",
       "        vertical-align: middle;\n",
       "    }\n",
       "\n",
       "    .dataframe tbody tr th {\n",
       "        vertical-align: top;\n",
       "    }\n",
       "\n",
       "    .dataframe thead th {\n",
       "        text-align: right;\n",
       "    }\n",
       "</style>\n",
       "<table border=\"1\" class=\"dataframe\">\n",
       "  <thead>\n",
       "    <tr style=\"text-align: right;\">\n",
       "      <th></th>\n",
       "      <th>user_id</th>\n",
       "      <th>track</th>\n",
       "      <th>artist</th>\n",
       "      <th>genre</th>\n",
       "      <th>time</th>\n",
       "      <th>day</th>\n",
       "    </tr>\n",
       "    <tr>\n",
       "      <th>city</th>\n",
       "      <th></th>\n",
       "      <th></th>\n",
       "      <th></th>\n",
       "      <th></th>\n",
       "      <th></th>\n",
       "      <th></th>\n",
       "    </tr>\n",
       "  </thead>\n",
       "  <tbody>\n",
       "    <tr>\n",
       "      <th>Moscow</th>\n",
       "      <td>42741</td>\n",
       "      <td>42741</td>\n",
       "      <td>42741</td>\n",
       "      <td>42741</td>\n",
       "      <td>42741</td>\n",
       "      <td>42741</td>\n",
       "    </tr>\n",
       "    <tr>\n",
       "      <th>Saint-Petersburg</th>\n",
       "      <td>18512</td>\n",
       "      <td>18512</td>\n",
       "      <td>18512</td>\n",
       "      <td>18512</td>\n",
       "      <td>18512</td>\n",
       "      <td>18512</td>\n",
       "    </tr>\n",
       "  </tbody>\n",
       "</table>\n",
       "</div>"
      ],
      "text/plain": [
       "                  user_id  track  artist  genre   time    day\n",
       "city                                                         \n",
       "Moscow              42741  42741   42741  42741  42741  42741\n",
       "Saint-Petersburg    18512  18512   18512  18512  18512  18512"
      ]
     },
     "execution_count": 20,
     "metadata": {},
     "output_type": "execute_result"
    }
   ],
   "source": [
    "df.groupby('city').count() # counting values in each city"
   ]
  },
  {
   "cell_type": "code",
   "execution_count": 21,
   "metadata": {},
   "outputs": [
    {
     "data": {
      "text/plain": [
       "city\n",
       "Moscow              42741\n",
       "Saint-Petersburg    18512\n",
       "Name: user_id, dtype: int64"
      ]
     },
     "execution_count": 21,
     "metadata": {},
     "output_type": "execute_result"
    }
   ],
   "source": [
    "df.groupby('city')['user_id'].count()"
   ]
  },
  {
   "cell_type": "markdown",
   "metadata": {
    "id": "dzli3w8o_Zcu"
   },
   "source": [
    "There are more listenings in Moscow than in St. Petersburg. This does not mean that Moscow users listen to music more often. It's just that there are more users in Moscow.\n",
    "\n",
    "Now we should group the data by day of the week and count the listenings on Monday, Wednesday and Friday.\n",
    "\n"
   ]
  },
  {
   "cell_type": "code",
   "execution_count": 22,
   "metadata": {
    "id": "uZMKjiJz_Zcu"
   },
   "outputs": [
    {
     "data": {
      "text/html": [
       "<div>\n",
       "<style scoped>\n",
       "    .dataframe tbody tr th:only-of-type {\n",
       "        vertical-align: middle;\n",
       "    }\n",
       "\n",
       "    .dataframe tbody tr th {\n",
       "        vertical-align: top;\n",
       "    }\n",
       "\n",
       "    .dataframe thead th {\n",
       "        text-align: right;\n",
       "    }\n",
       "</style>\n",
       "<table border=\"1\" class=\"dataframe\">\n",
       "  <thead>\n",
       "    <tr style=\"text-align: right;\">\n",
       "      <th></th>\n",
       "      <th>user_id</th>\n",
       "      <th>track</th>\n",
       "      <th>artist</th>\n",
       "      <th>genre</th>\n",
       "      <th>city</th>\n",
       "      <th>time</th>\n",
       "    </tr>\n",
       "    <tr>\n",
       "      <th>day</th>\n",
       "      <th></th>\n",
       "      <th></th>\n",
       "      <th></th>\n",
       "      <th></th>\n",
       "      <th></th>\n",
       "      <th></th>\n",
       "    </tr>\n",
       "  </thead>\n",
       "  <tbody>\n",
       "    <tr>\n",
       "      <th>Friday</th>\n",
       "      <td>21840</td>\n",
       "      <td>21840</td>\n",
       "      <td>21840</td>\n",
       "      <td>21840</td>\n",
       "      <td>21840</td>\n",
       "      <td>21840</td>\n",
       "    </tr>\n",
       "    <tr>\n",
       "      <th>Monday</th>\n",
       "      <td>21354</td>\n",
       "      <td>21354</td>\n",
       "      <td>21354</td>\n",
       "      <td>21354</td>\n",
       "      <td>21354</td>\n",
       "      <td>21354</td>\n",
       "    </tr>\n",
       "    <tr>\n",
       "      <th>Wednesday</th>\n",
       "      <td>18059</td>\n",
       "      <td>18059</td>\n",
       "      <td>18059</td>\n",
       "      <td>18059</td>\n",
       "      <td>18059</td>\n",
       "      <td>18059</td>\n",
       "    </tr>\n",
       "  </tbody>\n",
       "</table>\n",
       "</div>"
      ],
      "text/plain": [
       "           user_id  track  artist  genre   city   time\n",
       "day                                                   \n",
       "Friday       21840  21840   21840  21840  21840  21840\n",
       "Monday       21354  21354   21354  21354  21354  21354\n",
       "Wednesday    18059  18059   18059  18059  18059  18059"
      ]
     },
     "execution_count": 22,
     "metadata": {},
     "output_type": "execute_result"
    }
   ],
   "source": [
    "df.groupby('day').count() # counting listens on each of three days"
   ]
  },
  {
   "cell_type": "markdown",
   "metadata": {
    "id": "cC2tNrlL_Zcu"
   },
   "source": [
    "On average, users from two the cities are less active on Wednesdays. But the picture may change if we consider each city separately."
   ]
  },
  {
   "cell_type": "markdown",
   "metadata": {
    "id": "POzs8bGa_Zcu"
   },
   "source": [
    "Creating a `number_tracks()`function that counts the listens for a given day and city. It will need two parameters:\n",
    "* day of the week,\n",
    "* name of the city.\n",
    "\n",
    "In the function I'll save a variable of the rows of the initial table that have the value:\n",
    "  * in the column  `day` is equal to the parameter  `day`,\n",
    "  * in the column  `city` is equal to the parameter  `city`.\n",
    "\n",
    "To do this, I'll apply sequential filtering with logical indexing.\n",
    "\n",
    "Then I'll count the values in the 'user_id' column of the resulting table. I'll save the result to a new variable and return this variable from the function."
   ]
  },
  {
   "cell_type": "code",
   "execution_count": 23,
   "metadata": {
    "id": "Nz3GdQB1_Zcu"
   },
   "outputs": [],
   "source": [
    "def number_tracks(day, city):\n",
    "    track_list = df[df['day'] == day]\n",
    "    track_list = track_list[track_list['city'] == city]\n",
    "    track_list_count  = track_list['user_id'].count()\n",
    "    return track_list_count\n",
    "\n"
   ]
  },
  {
   "cell_type": "markdown",
   "metadata": {
    "id": "ytf7xFrFJQ2r"
   },
   "source": [
    "Calling number_tracks() six times, changing the value of the parameters  so that I get the data for each city on each of the three days"
   ]
  },
  {
   "cell_type": "code",
   "execution_count": 24,
   "metadata": {
    "id": "rJcRATNQ_Zcu"
   },
   "outputs": [
    {
     "data": {
      "text/plain": [
       "15740"
      ]
     },
     "execution_count": 24,
     "metadata": {},
     "output_type": "execute_result"
    }
   ],
   "source": [
    "moscow_mon = number_tracks('Monday', 'Moscow') \n",
    "moscow_mon"
   ]
  },
  {
   "cell_type": "code",
   "execution_count": 25,
   "metadata": {
    "id": "hq_ncZ5T_Zcu"
   },
   "outputs": [
    {
     "data": {
      "text/plain": [
       "5614"
      ]
     },
     "execution_count": 25,
     "metadata": {},
     "output_type": "execute_result"
    }
   ],
   "source": [
    "peterburg_mon = number_tracks('Monday', 'Saint-Petersburg')\n",
    "peterburg_mon "
   ]
  },
  {
   "cell_type": "code",
   "execution_count": 26,
   "metadata": {
    "id": "_NTy2VPU_Zcu"
   },
   "outputs": [
    {
     "data": {
      "text/plain": [
       "11056"
      ]
     },
     "execution_count": 26,
     "metadata": {},
     "output_type": "execute_result"
    }
   ],
   "source": [
    "moscow_wed = number_tracks('Wednesday', 'Moscow')\n",
    "moscow_wed "
   ]
  },
  {
   "cell_type": "code",
   "execution_count": 27,
   "metadata": {
    "id": "j2y3TAwo_Zcu"
   },
   "outputs": [
    {
     "data": {
      "text/plain": [
       "7003"
      ]
     },
     "execution_count": 27,
     "metadata": {},
     "output_type": "execute_result"
    }
   ],
   "source": [
    "peterburg_wed = number_tracks('Wednesday', 'Saint-Petersburg')\n",
    "peterburg_wed "
   ]
  },
  {
   "cell_type": "code",
   "execution_count": 28,
   "metadata": {
    "id": "vYDw5u_K_Zcu"
   },
   "outputs": [
    {
     "data": {
      "text/plain": [
       "15945"
      ]
     },
     "execution_count": 28,
     "metadata": {},
     "output_type": "execute_result"
    }
   ],
   "source": [
    "moscow_fri = number_tracks('Friday', 'Moscow') \n",
    "moscow_fri "
   ]
  },
  {
   "cell_type": "code",
   "execution_count": 29,
   "metadata": {
    "id": "8_yzFtW3_Zcu"
   },
   "outputs": [
    {
     "data": {
      "text/plain": [
       "5895"
      ]
     },
     "execution_count": 29,
     "metadata": {},
     "output_type": "execute_result"
    }
   ],
   "source": [
    "peterburg_fri = number_tracks('Friday', 'Saint-Petersburg') \n",
    "peterburg_fri"
   ]
  },
  {
   "cell_type": "markdown",
   "metadata": {
    "id": "7QXffbO-_Zcu"
   },
   "source": [
    "Using pd.DataFrame constructor I'll create a table where\n",
    "* column names  — `['city', 'monday', 'wednesday', 'friday']`;\n",
    "* data is the results that I've received using  `number_tracks`."
   ]
  },
  {
   "cell_type": "code",
   "execution_count": 30,
   "metadata": {
    "id": "APAcLpOr_Zcu"
   },
   "outputs": [
    {
     "data": {
      "text/html": [
       "<div>\n",
       "<style scoped>\n",
       "    .dataframe tbody tr th:only-of-type {\n",
       "        vertical-align: middle;\n",
       "    }\n",
       "\n",
       "    .dataframe tbody tr th {\n",
       "        vertical-align: top;\n",
       "    }\n",
       "\n",
       "    .dataframe thead th {\n",
       "        text-align: right;\n",
       "    }\n",
       "</style>\n",
       "<table border=\"1\" class=\"dataframe\">\n",
       "  <thead>\n",
       "    <tr style=\"text-align: right;\">\n",
       "      <th></th>\n",
       "      <th>city</th>\n",
       "      <th>monday</th>\n",
       "      <th>wednesday</th>\n",
       "      <th>friday</th>\n",
       "    </tr>\n",
       "  </thead>\n",
       "  <tbody>\n",
       "    <tr>\n",
       "      <th>0</th>\n",
       "      <td>Moscow</td>\n",
       "      <td>15740</td>\n",
       "      <td>11056</td>\n",
       "      <td>15945</td>\n",
       "    </tr>\n",
       "    <tr>\n",
       "      <th>1</th>\n",
       "      <td>Petersburg</td>\n",
       "      <td>5614</td>\n",
       "      <td>7003</td>\n",
       "      <td>5895</td>\n",
       "    </tr>\n",
       "  </tbody>\n",
       "</table>\n",
       "</div>"
      ],
      "text/plain": [
       "         city  monday  wednesday  friday\n",
       "0      Moscow   15740      11056   15945\n",
       "1  Petersburg    5614       7003    5895"
      ]
     },
     "metadata": {},
     "output_type": "display_data"
    }
   ],
   "source": [
    "\n",
    "number_tracks = [\n",
    "    ['Moscow', 15740, 11056, 15945],\n",
    "    ['Petersburg', 5614, 7003, 5895]\n",
    "]\n",
    "column_names = ['city', 'monday', 'wednesday', 'friday']\n",
    "listen_week = pandas.DataFrame(data=number_tracks, columns=column_names)\n",
    "display(listen_week)\n",
    "\n"
   ]
  },
  {
   "cell_type": "markdown",
   "metadata": {
    "id": "-EgPIHYu_Zcu"
   },
   "source": [
    "**Conclusions**\n",
    "\n",
    "The data shows the difference in user behavior:\n",
    "\n",
    "- In Moscow, the peak of listens falls on Monday and Friday, and on Wednesday there is a noticeable decline.\n",
    "- In St. Petersburg, on the contrary, they listen to music more on Wednesdays. Activity on Monday and Friday is almost equally less than on Wednesday here.\n",
    "\n",
    "It means that the data is inclined to support the first hypothesis."
   ]
  },
  {
   "cell_type": "markdown",
   "metadata": {
    "id": "atZAxtq4_Zcu"
   },
   "source": [
    "### Music at the beginning and at the end of the week"
   ]
  },
  {
   "cell_type": "markdown",
   "metadata": {
    "id": "eXrQqXFH_Zcu"
   },
   "source": [
    "According to the second hypothesis, some genres prevail in Moscow on Monday morning, and others in St. Petersburg. Similarly different genres prevail  on Friday evenings depending on the city."
   ]
  },
  {
   "cell_type": "markdown",
   "metadata": {
    "id": "S8UcW6Hw_Zcu"
   },
   "source": [
    "I'll save the data in tables with two variables:\n",
    "* for Moscow  — `moscow_general`;\n",
    "* for St. Petersburg  — `spb_general`."
   ]
  },
  {
   "cell_type": "code",
   "execution_count": 31,
   "metadata": {
    "id": "qeaFfM_P_Zcu"
   },
   "outputs": [],
   "source": [
    "moscow_general = df[df['city'] == 'Moscow'] # the table moscow_general consits of those rows in dr where 'city' equals 'Moscow'\n"
   ]
  },
  {
   "cell_type": "code",
   "execution_count": 42,
   "metadata": {
    "id": "ORaVRKto_Zcu"
   },
   "outputs": [],
   "source": [
    "spb_general = df[df['city'] == 'Saint-Petersburg']  # the table spb_general consits of those rows in dr where 'city' equals 'Saint-Petersburg'\n"
   ]
  },
  {
   "cell_type": "markdown",
   "metadata": {
    "id": "MEJV-CX2_Zcu"
   },
   "source": [
    "I'll create `genre_weekday()` function with four parameters:\n",
    "* a table (dataframe) with the data,\n",
    "* the day of the week,\n",
    "* the initial timestamp in the format 'hh:mm', \n",
    "* the last timestamp in the format 'hh:mm'.\n",
    "\n",
    "The function should return information about the top 10 genres of those tracks that were listened to on the specified day in the interval between two timestamps."
   ]
  },
  {
   "cell_type": "code",
   "execution_count": 43,
   "metadata": {
    "id": "laJT9BYl_Zcu"
   },
   "outputs": [],
   "source": [
    "def genre_weekday(table, day, time1, time2):\n",
    "    genre_df = table[table['day'] == day]\n",
    "    genre_df = genre_df[genre_df['time'] > time1]\n",
    "    genre_df = genre_df[genre_df['time'] < time2]\n",
    "    genre_df_count = genre_df.groupby('genre')['day'].count()\n",
    "    genre_df_sorted = genre_df_count.sort_values(ascending = False)\n",
    "    return genre_df_sorted.head(10)\n"
   ]
  },
  {
   "cell_type": "markdown",
   "metadata": {
    "id": "la2s2_PF_Zcu"
   },
   "source": [
    "Comparing the results of `genre_weekday()` function for Moscow and St. Petersburg on Monday morning (from 7:00 to 11:00) and on Friday evening (from 17:00 to 23:00):"
   ]
  },
  {
   "cell_type": "code",
   "execution_count": 47,
   "metadata": {
    "id": "yz7itPUQ_Zcu"
   },
   "outputs": [
    {
     "data": {
      "text/plain": [
       "genre\n",
       "pop            781\n",
       "dance          549\n",
       "electronic     480\n",
       "rock           474\n",
       "hiphop         286\n",
       "ruspop         186\n",
       "world          181\n",
       "rusrap         175\n",
       "alternative    164\n",
       "unknown        161\n",
       "Name: day, dtype: int64"
      ]
     },
     "execution_count": 47,
     "metadata": {},
     "output_type": "execute_result"
    }
   ],
   "source": [
    "moscow_morning_mon = genre_weekday(moscow_general, 'Monday', '07:00', '11:00')\n",
    "moscow_morning_mon # calling the function\n"
   ]
  },
  {
   "cell_type": "code",
   "execution_count": 48,
   "metadata": {
    "id": "kwUcHPdy_Zcu"
   },
   "outputs": [
    {
     "data": {
      "text/plain": [
       "genre\n",
       "pop            218\n",
       "dance          182\n",
       "rock           162\n",
       "electronic     147\n",
       "hiphop          80\n",
       "ruspop          64\n",
       "alternative     58\n",
       "rusrap          55\n",
       "jazz            44\n",
       "classical       40\n",
       "Name: day, dtype: int64"
      ]
     },
     "execution_count": 48,
     "metadata": {},
     "output_type": "execute_result"
    }
   ],
   "source": [
    "spb_morning_mon = genre_weekday(spb_general, 'Monday', '07:00', '11:00')\n",
    "spb_morning_mon\n"
   ]
  },
  {
   "cell_type": "code",
   "execution_count": 49,
   "metadata": {
    "id": "EzXVRE1o_Zcu"
   },
   "outputs": [
    {
     "data": {
      "text/plain": [
       "genre\n",
       "pop            717\n",
       "dance          524\n",
       "rock           518\n",
       "electronic     485\n",
       "hiphop         238\n",
       "alternative    182\n",
       "classical      172\n",
       "world          172\n",
       "ruspop         149\n",
       "rusrap         133\n",
       "Name: day, dtype: int64"
      ]
     },
     "execution_count": 49,
     "metadata": {},
     "output_type": "execute_result"
    }
   ],
   "source": [
    "moscow_evening_fri = genre_weekday(moscow_general, 'Monday', '17:00', '23:00')\n",
    "moscow_evening_fri "
   ]
  },
  {
   "cell_type": "code",
   "execution_count": 50,
   "metadata": {
    "id": "JZaEKu5v_Zcu"
   },
   "outputs": [
    {
     "data": {
      "text/plain": [
       "genre\n",
       "pop            263\n",
       "rock           208\n",
       "electronic     192\n",
       "dance          191\n",
       "hiphop         104\n",
       "alternative     72\n",
       "classical       71\n",
       "jazz            57\n",
       "rusrap          54\n",
       "ruspop          53\n",
       "Name: day, dtype: int64"
      ]
     },
     "execution_count": 50,
     "metadata": {},
     "output_type": "execute_result"
    }
   ],
   "source": [
    "spb_evening_fri = genre_weekday(spb_general, 'Monday', '17:00', '23:00')\n",
    "spb_evening_fri "
   ]
  },
  {
   "cell_type": "markdown",
   "metadata": {
    "id": "wrCe4MNX_Zcu"
   },
   "source": [
    "**Conclusions**\n",
    "\n",
    "If we compare the top 10 genres on Monday morning, we can draw the following conclusions:\n",
    "\n",
    "1. In Moscow and St. Petersburg people listen to similar music. The only difference is that the “world” genre entered the Moscow rating, and jazz and classical music entered the St. Petersburg rating.\n",
    "\n",
    "2. In Moscow there were a lot of missing values so the value of 'unknown' took the tenth place among the most popular genres. This means that the missing values occupy a significant share in the data and compromises the reliability of the study.\n",
    "\n",
    "Friday night doesn't change that picture. Some genres rise a little higher, others go down, but overall the top 10 remains the same.\n",
    "\n",
    "Thus, the second hypothesis was only partially confirmed:\n",
    "* Users listen to similar music at the beginning and at the end of the week.\n",
    "* The difference between Moscow and St. Petersburg is not too pronounced. In Moscow people listen to Russian popular music more often, in St. Petersburg it is jazz.\n",
    "\n",
    "However, gaps in the data make this result doubtful. There are so many of them in Moscow that the top-10 rating could look different if not for the  data gaps in genres."
   ]
  },
  {
   "cell_type": "markdown",
   "metadata": {
    "id": "JolODAqr_Zcu"
   },
   "source": [
    "### Genre preferences in Moscow and St. Petersburg\n",
    "\n",
    "Hypothesis: St. Petersburg is the capital of rap, music of this genre is listened to there more often than in Moscow. And Moscow is a city of contrasts, where, nevertheless, pop music prevails."
   ]
  },
  {
   "cell_type": "markdown",
   "metadata": {
    "id": "DlegSvaT_Zcu"
   },
   "source": [
    "I'll group the  `moscow_general` table by genre and count the listenings of tracks of each genre using the `count()` method then sort the result in descending order and save it in the  `moscow_genres`."
   ]
  },
  {
   "cell_type": "code",
   "execution_count": 51,
   "metadata": {
    "id": "r19lIPke_Zcu"
   },
   "outputs": [],
   "source": [
    "moscow_genres = moscow_general.groupby('genre')['genre'].count().sort_values(ascending=False)\n",
    "\n",
    "\n"
   ]
  },
  {
   "cell_type": "code",
   "execution_count": 53,
   "metadata": {
    "id": "WhCSooF8_Zcv"
   },
   "outputs": [
    {
     "data": {
      "text/plain": [
       "genre\n",
       "pop            5892\n",
       "dance          4435\n",
       "rock           3965\n",
       "electronic     3786\n",
       "hiphop         2096\n",
       "classical      1616\n",
       "world          1432\n",
       "alternative    1379\n",
       "ruspop         1372\n",
       "rusrap         1161\n",
       "Name: genre, dtype: int64"
      ]
     },
     "execution_count": 53,
     "metadata": {},
     "output_type": "execute_result"
    }
   ],
   "source": [
    "moscow_genres.head(10) # checking first 10 rows of moscow_genres"
   ]
  },
  {
   "cell_type": "markdown",
   "metadata": {
    "id": "cnPG2vnN_Zcv"
   },
   "source": [
    "Теперь повторите то же и для Петербурга.\n",
    "\n",
    "Сгруппируйте таблицу `spb_general` по жанру. Посчитайте прослушивания треков каждого жанра. Результат отсортируйте в порядке убывания и сохраните в таблице `spb_genres`:\n"
   ]
  },
  {
   "cell_type": "code",
   "execution_count": 54,
   "metadata": {
    "id": "gluLIpE7_Zcv"
   },
   "outputs": [],
   "source": [
    "spb_genres = spb_general.groupby('genre')['genre'].count().sort_values(ascending=False)\n"
   ]
  },
  {
   "cell_type": "code",
   "execution_count": 56,
   "metadata": {
    "id": "uaGJHjVU_Zcv"
   },
   "outputs": [
    {
     "data": {
      "text/plain": [
       "genre\n",
       "pop            2431\n",
       "dance          1932\n",
       "rock           1879\n",
       "electronic     1736\n",
       "hiphop          960\n",
       "alternative     649\n",
       "classical       646\n",
       "rusrap          564\n",
       "ruspop          538\n",
       "world           515\n",
       "Name: genre, dtype: int64"
      ]
     },
     "execution_count": 56,
     "metadata": {},
     "output_type": "execute_result"
    }
   ],
   "source": [
    "spb_genres.head(10) "
   ]
  },
  {
   "cell_type": "markdown",
   "metadata": {
    "id": "RY51YJYu_Zcv"
   },
   "source": [
    "**Conclusions**"
   ]
  },
  {
   "cell_type": "markdown",
   "metadata": {
    "id": "nVhnJEm__Zcv"
   },
   "source": [
    "The hypothesis was partially confirmed:\n",
    "* Pop music is the most popular genre in Moscow as the hypothesis suggested. Moreover, in the top 10 genres there is a similar genre - Russian popular music.\n",
    "* Contrary to expectations, rap is equally popular in Moscow and St. Petersburg.\n"
   ]
  },
  {
   "cell_type": "markdown",
   "metadata": {
    "id": "ykKQ0N65_Zcv"
   },
   "source": [
    "## General conclusion"
   ]
  },
  {
   "cell_type": "markdown",
   "metadata": {
    "id": "tjUwbHb3_Zcv"
   },
   "source": [
    "I have tested three hypotheses and established the following:\n",
    "\n",
    "1. The day of the week has different effects on user activity in Moscow and St. Petersburg.\n",
    "\n",
    "The first hypothesis was fully confirmed.\n",
    "\n",
    "2. Musical preferences don't change much during the week whether it's Moscow or St. Petersburg. Small differences are noticeable at the beginning of the week, on Mondays:\n",
    "* in Moscow people listen to music of the genre “world”,\n",
    "* in St. Petersburg people prefer jazz and classical.\n",
    "\n",
    "Thus, the second hypothesis was only partially confirmed. This result could have been different unless for the gaps in the data.\n",
    "\n",
    "3. The tastes of users in Moscow and St. Petersburg have more in common than differences. Contrary to expectations, genre preferences in St. Petersburg resemble those in Moscow.\n",
    "\n",
    "The third hypothesis was not confirmed. Even if there are differences in preferences, they are invisible to the majority of users.\n",
    "\n"
   ]
  },
  {
   "cell_type": "code",
   "execution_count": null,
   "metadata": {},
   "outputs": [],
   "source": []
  },
  {
   "cell_type": "code",
   "execution_count": null,
   "metadata": {},
   "outputs": [],
   "source": []
  }
 ],
 "metadata": {
  "ExecuteTimeLog": [
   {
    "duration": 578,
    "start_time": "2021-11-24T19:29:46.170Z"
   },
   {
    "duration": 172,
    "start_time": "2021-11-24T19:32:57.640Z"
   },
   {
    "duration": 156,
    "start_time": "2021-11-24T19:33:58.040Z"
   },
   {
    "duration": 10,
    "start_time": "2021-11-24T19:35:35.362Z"
   },
   {
    "duration": 44,
    "start_time": "2021-11-24T19:36:09.866Z"
   },
   {
    "duration": 4,
    "start_time": "2021-11-24T19:49:36.860Z"
   },
   {
    "duration": 17,
    "start_time": "2021-11-24T19:52:30.634Z"
   },
   {
    "duration": 17,
    "start_time": "2021-11-24T19:52:44.296Z"
   },
   {
    "duration": 320,
    "start_time": "2021-11-24T19:53:00.178Z"
   },
   {
    "duration": 6,
    "start_time": "2021-11-24T19:54:16.734Z"
   },
   {
    "duration": 4,
    "start_time": "2021-11-24T19:54:58.974Z"
   },
   {
    "duration": 11,
    "start_time": "2021-11-24T19:55:14.852Z"
   },
   {
    "duration": 4,
    "start_time": "2021-11-24T19:55:18.621Z"
   },
   {
    "duration": 8,
    "start_time": "2021-11-24T19:56:35.742Z"
   },
   {
    "duration": 250,
    "start_time": "2021-11-24T19:57:07.829Z"
   },
   {
    "duration": 24,
    "start_time": "2021-11-24T19:57:20.025Z"
   },
   {
    "duration": 254,
    "start_time": "2021-11-24T20:09:18.445Z"
   },
   {
    "duration": 96,
    "start_time": "2021-11-24T20:10:21.417Z"
   },
   {
    "duration": 532,
    "start_time": "2021-11-24T20:11:33.541Z"
   },
   {
    "duration": 268,
    "start_time": "2021-11-24T20:18:12.917Z"
   },
   {
    "duration": 266,
    "start_time": "2021-11-24T20:20:52.823Z"
   },
   {
    "duration": 563,
    "start_time": "2021-11-24T20:23:48.461Z"
   },
   {
    "duration": 137,
    "start_time": "2021-11-24T20:23:49.026Z"
   },
   {
    "duration": 10,
    "start_time": "2021-11-24T20:23:49.165Z"
   },
   {
    "duration": 26,
    "start_time": "2021-11-24T20:23:49.177Z"
   },
   {
    "duration": 5,
    "start_time": "2021-11-24T20:23:49.205Z"
   },
   {
    "duration": 48,
    "start_time": "2021-11-24T20:23:49.212Z"
   },
   {
    "duration": 7,
    "start_time": "2021-11-24T20:23:49.261Z"
   },
   {
    "duration": 20,
    "start_time": "2021-11-24T20:23:49.270Z"
   },
   {
    "duration": 316,
    "start_time": "2021-11-24T20:23:49.292Z"
   },
   {
    "duration": 925,
    "start_time": "2021-11-24T20:23:48.685Z"
   },
   {
    "duration": 923,
    "start_time": "2021-11-24T20:23:48.688Z"
   },
   {
    "duration": 922,
    "start_time": "2021-11-24T20:23:48.690Z"
   },
   {
    "duration": 919,
    "start_time": "2021-11-24T20:23:48.693Z"
   },
   {
    "duration": 917,
    "start_time": "2021-11-24T20:23:48.696Z"
   },
   {
    "duration": 914,
    "start_time": "2021-11-24T20:23:48.700Z"
   },
   {
    "duration": 913,
    "start_time": "2021-11-24T20:23:48.702Z"
   },
   {
    "duration": 911,
    "start_time": "2021-11-24T20:23:48.705Z"
   },
   {
    "duration": 909,
    "start_time": "2021-11-24T20:23:48.708Z"
   },
   {
    "duration": 907,
    "start_time": "2021-11-24T20:23:48.710Z"
   },
   {
    "duration": 905,
    "start_time": "2021-11-24T20:23:48.713Z"
   },
   {
    "duration": 904,
    "start_time": "2021-11-24T20:23:48.715Z"
   },
   {
    "duration": 897,
    "start_time": "2021-11-24T20:23:48.723Z"
   },
   {
    "duration": 895,
    "start_time": "2021-11-24T20:23:48.726Z"
   },
   {
    "duration": 894,
    "start_time": "2021-11-24T20:23:48.728Z"
   },
   {
    "duration": 892,
    "start_time": "2021-11-24T20:23:48.731Z"
   },
   {
    "duration": 890,
    "start_time": "2021-11-24T20:23:48.734Z"
   },
   {
    "duration": 888,
    "start_time": "2021-11-24T20:23:48.737Z"
   },
   {
    "duration": 887,
    "start_time": "2021-11-24T20:23:48.739Z"
   },
   {
    "duration": 885,
    "start_time": "2021-11-24T20:23:48.742Z"
   },
   {
    "duration": 884,
    "start_time": "2021-11-24T20:23:48.744Z"
   },
   {
    "duration": 881,
    "start_time": "2021-11-24T20:23:48.747Z"
   },
   {
    "duration": 880,
    "start_time": "2021-11-24T20:23:48.749Z"
   },
   {
    "duration": 874,
    "start_time": "2021-11-24T20:23:48.756Z"
   },
   {
    "duration": 872,
    "start_time": "2021-11-24T20:23:48.759Z"
   },
   {
    "duration": 870,
    "start_time": "2021-11-24T20:23:48.762Z"
   },
   {
    "duration": 867,
    "start_time": "2021-11-24T20:23:48.765Z"
   },
   {
    "duration": 866,
    "start_time": "2021-11-24T20:23:48.767Z"
   },
   {
    "duration": 864,
    "start_time": "2021-11-24T20:23:48.770Z"
   },
   {
    "duration": 265,
    "start_time": "2021-11-24T20:24:05.569Z"
   },
   {
    "duration": 16,
    "start_time": "2021-11-24T20:25:16.603Z"
   },
   {
    "duration": 22,
    "start_time": "2021-11-24T20:26:06.524Z"
   },
   {
    "duration": 55,
    "start_time": "2021-11-24T20:56:05.480Z"
   },
   {
    "duration": 52,
    "start_time": "2021-11-24T20:56:16.184Z"
   },
   {
    "duration": 68,
    "start_time": "2021-11-24T20:58:45.403Z"
   },
   {
    "duration": 91,
    "start_time": "2021-11-24T20:58:55.767Z"
   },
   {
    "duration": 51,
    "start_time": "2021-11-24T20:59:05.685Z"
   },
   {
    "duration": 289,
    "start_time": "2021-11-24T21:05:19.302Z"
   },
   {
    "duration": 301,
    "start_time": "2021-11-24T21:05:32.277Z"
   },
   {
    "duration": 284,
    "start_time": "2021-11-24T21:05:58.411Z"
   },
   {
    "duration": 396,
    "start_time": "2021-11-24T21:09:12.465Z"
   },
   {
    "duration": 301,
    "start_time": "2021-11-24T21:09:35.789Z"
   },
   {
    "duration": 333,
    "start_time": "2021-11-24T21:13:26.685Z"
   },
   {
    "duration": 7721,
    "start_time": "2021-11-24T21:16:07.540Z"
   },
   {
    "duration": 6,
    "start_time": "2021-11-24T21:18:53.771Z"
   },
   {
    "duration": 633,
    "start_time": "2021-11-24T21:25:28.682Z"
   },
   {
    "duration": 39,
    "start_time": "2021-11-24T21:25:36.973Z"
   },
   {
    "duration": 93,
    "start_time": "2021-11-24T22:03:52.848Z"
   },
   {
    "duration": 86,
    "start_time": "2021-11-24T22:04:31.209Z"
   },
   {
    "duration": 96,
    "start_time": "2021-11-24T22:04:38.201Z"
   },
   {
    "duration": 3,
    "start_time": "2021-11-24T22:05:30.790Z"
   },
   {
    "duration": 580,
    "start_time": "2021-11-24T22:10:04.011Z"
   },
   {
    "duration": 6751,
    "start_time": "2021-11-24T22:10:51.276Z"
   },
   {
    "duration": 536,
    "start_time": "2021-11-24T22:17:45.920Z"
   },
   {
    "duration": 349,
    "start_time": "2021-11-24T22:19:27.244Z"
   },
   {
    "duration": 510,
    "start_time": "2021-11-24T22:19:36.235Z"
   },
   {
    "duration": 539,
    "start_time": "2021-11-24T22:23:40.817Z"
   },
   {
    "duration": 528,
    "start_time": "2021-11-24T22:30:21.529Z"
   },
   {
    "duration": 506,
    "start_time": "2021-11-24T22:39:03.419Z"
   },
   {
    "duration": 15,
    "start_time": "2021-11-24T22:42:34.959Z"
   },
   {
    "duration": 18,
    "start_time": "2021-11-24T22:46:28.038Z"
   },
   {
    "duration": 258,
    "start_time": "2021-11-24T22:47:28.754Z"
   },
   {
    "duration": 40,
    "start_time": "2021-11-24T22:48:13.601Z"
   },
   {
    "duration": 284,
    "start_time": "2021-11-24T22:48:33.797Z"
   },
   {
    "duration": 264,
    "start_time": "2021-11-24T22:48:40.086Z"
   },
   {
    "duration": 38,
    "start_time": "2021-11-24T22:49:33.411Z"
   },
   {
    "duration": 14,
    "start_time": "2021-11-24T22:50:20.394Z"
   },
   {
    "duration": 41,
    "start_time": "2021-11-24T22:50:27.073Z"
   },
   {
    "duration": 93,
    "start_time": "2021-11-25T10:10:33.706Z"
   },
   {
    "duration": 251,
    "start_time": "2021-11-25T10:10:45.750Z"
   },
   {
    "duration": 596,
    "start_time": "2021-11-25T10:11:04.809Z"
   },
   {
    "duration": 577,
    "start_time": "2021-11-25T10:11:45.878Z"
   },
   {
    "duration": 137,
    "start_time": "2021-11-25T10:11:46.457Z"
   },
   {
    "duration": 9,
    "start_time": "2021-11-25T10:11:46.596Z"
   },
   {
    "duration": 23,
    "start_time": "2021-11-25T10:11:46.607Z"
   },
   {
    "duration": 5,
    "start_time": "2021-11-25T10:11:46.632Z"
   },
   {
    "duration": 18,
    "start_time": "2021-11-25T10:11:46.638Z"
   },
   {
    "duration": 31,
    "start_time": "2021-11-25T10:11:46.658Z"
   },
   {
    "duration": 20,
    "start_time": "2021-11-25T10:11:46.692Z"
   },
   {
    "duration": 17,
    "start_time": "2021-11-25T10:11:46.714Z"
   },
   {
    "duration": 22,
    "start_time": "2021-11-25T10:11:46.732Z"
   },
   {
    "duration": 70,
    "start_time": "2021-11-25T10:11:46.755Z"
   },
   {
    "duration": 71,
    "start_time": "2021-11-25T10:11:46.827Z"
   },
   {
    "duration": 46,
    "start_time": "2021-11-25T10:11:46.899Z"
   },
   {
    "duration": 54,
    "start_time": "2021-11-25T10:11:46.947Z"
   },
   {
    "duration": 3,
    "start_time": "2021-11-25T10:11:47.003Z"
   },
   {
    "duration": 24,
    "start_time": "2021-11-25T10:11:47.007Z"
   },
   {
    "duration": 40,
    "start_time": "2021-11-25T10:11:47.033Z"
   },
   {
    "duration": 33,
    "start_time": "2021-11-25T10:11:47.074Z"
   },
   {
    "duration": 2,
    "start_time": "2021-11-25T10:11:47.108Z"
   },
   {
    "duration": 4,
    "start_time": "2021-11-25T10:11:47.112Z"
   },
   {
    "duration": 8,
    "start_time": "2021-11-25T10:11:47.118Z"
   },
   {
    "duration": 6,
    "start_time": "2021-11-25T10:11:47.127Z"
   },
   {
    "duration": 3,
    "start_time": "2021-11-25T10:11:47.136Z"
   },
   {
    "duration": 6,
    "start_time": "2021-11-25T10:11:47.141Z"
   },
   {
    "duration": 6,
    "start_time": "2021-11-25T10:11:47.148Z"
   },
   {
    "duration": 15,
    "start_time": "2021-11-25T10:11:47.155Z"
   },
   {
    "duration": 5,
    "start_time": "2021-11-25T10:11:47.171Z"
   },
   {
    "duration": 7,
    "start_time": "2021-11-25T10:11:47.177Z"
   },
   {
    "duration": 5,
    "start_time": "2021-11-25T10:11:47.187Z"
   },
   {
    "duration": 9,
    "start_time": "2021-11-25T10:11:47.194Z"
   },
   {
    "duration": 8,
    "start_time": "2021-11-25T10:11:47.204Z"
   },
   {
    "duration": 6,
    "start_time": "2021-11-25T10:11:47.213Z"
   },
   {
    "duration": 10,
    "start_time": "2021-11-25T10:11:47.221Z"
   },
   {
    "duration": 7,
    "start_time": "2021-11-25T10:11:47.233Z"
   },
   {
    "duration": 5,
    "start_time": "2021-11-25T10:11:47.242Z"
   },
   {
    "duration": 5,
    "start_time": "2021-11-25T10:11:47.248Z"
   },
   {
    "duration": 5,
    "start_time": "2021-11-25T10:11:47.255Z"
   },
   {
    "duration": 6,
    "start_time": "2021-11-25T10:11:47.261Z"
   },
   {
    "duration": 29,
    "start_time": "2021-11-25T10:15:09.279Z"
   },
   {
    "duration": 3,
    "start_time": "2021-11-25T10:31:52.866Z"
   },
   {
    "duration": 76,
    "start_time": "2021-11-25T10:35:40.797Z"
   },
   {
    "duration": 3,
    "start_time": "2021-11-25T10:35:48.877Z"
   },
   {
    "duration": 3330,
    "start_time": "2021-11-25T10:42:09.900Z"
   },
   {
    "duration": 4025,
    "start_time": "2021-11-25T10:43:02.651Z"
   },
   {
    "duration": 3280,
    "start_time": "2021-11-25T10:43:41.893Z"
   },
   {
    "duration": 553,
    "start_time": "2021-11-25T10:45:03.090Z"
   },
   {
    "duration": 131,
    "start_time": "2021-11-25T10:45:03.644Z"
   },
   {
    "duration": 11,
    "start_time": "2021-11-25T10:45:03.777Z"
   },
   {
    "duration": 22,
    "start_time": "2021-11-25T10:45:03.790Z"
   },
   {
    "duration": 8,
    "start_time": "2021-11-25T10:45:03.813Z"
   },
   {
    "duration": 27,
    "start_time": "2021-11-25T10:45:03.822Z"
   },
   {
    "duration": 8,
    "start_time": "2021-11-25T10:45:03.850Z"
   },
   {
    "duration": 32,
    "start_time": "2021-11-25T10:45:03.860Z"
   },
   {
    "duration": 20,
    "start_time": "2021-11-25T10:45:03.894Z"
   },
   {
    "duration": 19,
    "start_time": "2021-11-25T10:45:03.916Z"
   },
   {
    "duration": 61,
    "start_time": "2021-11-25T10:45:03.937Z"
   },
   {
    "duration": 55,
    "start_time": "2021-11-25T10:45:03.999Z"
   },
   {
    "duration": 57,
    "start_time": "2021-11-25T10:45:04.055Z"
   },
   {
    "duration": 36,
    "start_time": "2021-11-25T10:45:04.114Z"
   },
   {
    "duration": 21,
    "start_time": "2021-11-25T10:45:04.152Z"
   },
   {
    "duration": 32,
    "start_time": "2021-11-25T10:45:04.174Z"
   },
   {
    "duration": 60,
    "start_time": "2021-11-25T10:45:04.208Z"
   },
   {
    "duration": 30,
    "start_time": "2021-11-25T10:45:04.270Z"
   },
   {
    "duration": 25,
    "start_time": "2021-11-25T10:45:04.302Z"
   },
   {
    "duration": 2,
    "start_time": "2021-11-25T10:45:04.329Z"
   },
   {
    "duration": 546,
    "start_time": "2021-11-25T10:45:04.333Z"
   },
   {
    "duration": -34,
    "start_time": "2021-11-25T10:45:04.915Z"
   },
   {
    "duration": -40,
    "start_time": "2021-11-25T10:45:04.922Z"
   },
   {
    "duration": -42,
    "start_time": "2021-11-25T10:45:04.925Z"
   },
   {
    "duration": -44,
    "start_time": "2021-11-25T10:45:04.928Z"
   },
   {
    "duration": -45,
    "start_time": "2021-11-25T10:45:04.930Z"
   },
   {
    "duration": -47,
    "start_time": "2021-11-25T10:45:04.933Z"
   },
   {
    "duration": -48,
    "start_time": "2021-11-25T10:45:04.935Z"
   },
   {
    "duration": -51,
    "start_time": "2021-11-25T10:45:04.939Z"
   },
   {
    "duration": -55,
    "start_time": "2021-11-25T10:45:04.943Z"
   },
   {
    "duration": -56,
    "start_time": "2021-11-25T10:45:04.945Z"
   },
   {
    "duration": -57,
    "start_time": "2021-11-25T10:45:04.947Z"
   },
   {
    "duration": -59,
    "start_time": "2021-11-25T10:45:04.950Z"
   },
   {
    "duration": -60,
    "start_time": "2021-11-25T10:45:04.952Z"
   },
   {
    "duration": -62,
    "start_time": "2021-11-25T10:45:04.955Z"
   },
   {
    "duration": -65,
    "start_time": "2021-11-25T10:45:04.958Z"
   },
   {
    "duration": -67,
    "start_time": "2021-11-25T10:45:04.961Z"
   },
   {
    "duration": -67,
    "start_time": "2021-11-25T10:45:04.963Z"
   },
   {
    "duration": 468,
    "start_time": "2021-11-25T10:45:17.102Z"
   },
   {
    "duration": 570,
    "start_time": "2021-11-25T10:47:55.661Z"
   },
   {
    "duration": 3,
    "start_time": "2021-11-25T10:48:09.400Z"
   },
   {
    "duration": 17,
    "start_time": "2021-11-25T10:48:13.767Z"
   },
   {
    "duration": 14,
    "start_time": "2021-11-25T10:48:23.236Z"
   },
   {
    "duration": 577,
    "start_time": "2021-11-25T10:48:58.561Z"
   },
   {
    "duration": 134,
    "start_time": "2021-11-25T10:48:59.140Z"
   },
   {
    "duration": 8,
    "start_time": "2021-11-25T10:48:59.276Z"
   },
   {
    "duration": 24,
    "start_time": "2021-11-25T10:48:59.285Z"
   },
   {
    "duration": 3,
    "start_time": "2021-11-25T10:48:59.311Z"
   },
   {
    "duration": 18,
    "start_time": "2021-11-25T10:48:59.315Z"
   },
   {
    "duration": 4,
    "start_time": "2021-11-25T10:48:59.334Z"
   },
   {
    "duration": 20,
    "start_time": "2021-11-25T10:48:59.340Z"
   },
   {
    "duration": 36,
    "start_time": "2021-11-25T10:48:59.362Z"
   },
   {
    "duration": 19,
    "start_time": "2021-11-25T10:48:59.399Z"
   },
   {
    "duration": 53,
    "start_time": "2021-11-25T10:48:59.419Z"
   },
   {
    "duration": 76,
    "start_time": "2021-11-25T10:48:59.474Z"
   },
   {
    "duration": 89,
    "start_time": "2021-11-25T10:48:59.551Z"
   },
   {
    "duration": 39,
    "start_time": "2021-11-25T10:48:59.642Z"
   },
   {
    "duration": 2,
    "start_time": "2021-11-25T10:48:59.688Z"
   },
   {
    "duration": 15,
    "start_time": "2021-11-25T10:48:59.692Z"
   },
   {
    "duration": 36,
    "start_time": "2021-11-25T10:48:59.709Z"
   },
   {
    "duration": 43,
    "start_time": "2021-11-25T10:48:59.747Z"
   },
   {
    "duration": 27,
    "start_time": "2021-11-25T10:48:59.792Z"
   },
   {
    "duration": 2,
    "start_time": "2021-11-25T10:48:59.821Z"
   },
   {
    "duration": 16,
    "start_time": "2021-11-25T10:48:59.825Z"
   },
   {
    "duration": 1,
    "start_time": "2021-11-25T10:48:59.843Z"
   },
   {
    "duration": 3,
    "start_time": "2021-11-25T10:48:59.847Z"
   },
   {
    "duration": 7,
    "start_time": "2021-11-25T10:48:59.852Z"
   },
   {
    "duration": 5,
    "start_time": "2021-11-25T10:48:59.860Z"
   },
   {
    "duration": 22,
    "start_time": "2021-11-25T10:48:59.866Z"
   },
   {
    "duration": 4,
    "start_time": "2021-11-25T10:48:59.890Z"
   },
   {
    "duration": 5,
    "start_time": "2021-11-25T10:48:59.895Z"
   },
   {
    "duration": 7,
    "start_time": "2021-11-25T10:48:59.902Z"
   },
   {
    "duration": 4,
    "start_time": "2021-11-25T10:48:59.911Z"
   },
   {
    "duration": 7,
    "start_time": "2021-11-25T10:48:59.916Z"
   },
   {
    "duration": 4,
    "start_time": "2021-11-25T10:48:59.925Z"
   },
   {
    "duration": 6,
    "start_time": "2021-11-25T10:48:59.931Z"
   },
   {
    "duration": 6,
    "start_time": "2021-11-25T10:48:59.938Z"
   },
   {
    "duration": 5,
    "start_time": "2021-11-25T10:48:59.946Z"
   },
   {
    "duration": 4,
    "start_time": "2021-11-25T10:48:59.952Z"
   },
   {
    "duration": 4,
    "start_time": "2021-11-25T10:48:59.958Z"
   },
   {
    "duration": 4,
    "start_time": "2021-11-25T10:48:59.964Z"
   },
   {
    "duration": 14,
    "start_time": "2021-11-25T10:49:10.109Z"
   },
   {
    "duration": 30,
    "start_time": "2021-11-25T10:49:44.161Z"
   },
   {
    "duration": 15,
    "start_time": "2021-11-25T10:49:56.220Z"
   },
   {
    "duration": 13,
    "start_time": "2021-11-25T10:51:02.360Z"
   },
   {
    "duration": 13,
    "start_time": "2021-11-25T10:52:00.545Z"
   },
   {
    "duration": 13,
    "start_time": "2021-11-25T10:52:10.340Z"
   },
   {
    "duration": 13,
    "start_time": "2021-11-25T10:52:47.791Z"
   },
   {
    "duration": 15,
    "start_time": "2021-11-25T10:53:22.699Z"
   },
   {
    "duration": 9,
    "start_time": "2021-11-25T10:54:02.466Z"
   },
   {
    "duration": 15,
    "start_time": "2021-11-25T10:54:11.524Z"
   },
   {
    "duration": 278,
    "start_time": "2021-11-25T11:12:34.018Z"
   },
   {
    "duration": 224,
    "start_time": "2021-11-25T11:15:22.635Z"
   },
   {
    "duration": 215,
    "start_time": "2021-11-25T11:15:52.840Z"
   },
   {
    "duration": 229,
    "start_time": "2021-11-25T11:16:20.868Z"
   },
   {
    "duration": 235,
    "start_time": "2021-11-25T11:16:47.178Z"
   },
   {
    "duration": 582,
    "start_time": "2021-11-25T11:17:20.360Z"
   },
   {
    "duration": 133,
    "start_time": "2021-11-25T11:17:20.944Z"
   },
   {
    "duration": 9,
    "start_time": "2021-11-25T11:17:21.079Z"
   },
   {
    "duration": 43,
    "start_time": "2021-11-25T11:17:21.090Z"
   },
   {
    "duration": 26,
    "start_time": "2021-11-25T11:17:21.135Z"
   },
   {
    "duration": 38,
    "start_time": "2021-11-25T11:17:21.162Z"
   },
   {
    "duration": 23,
    "start_time": "2021-11-25T11:17:21.202Z"
   },
   {
    "duration": 26,
    "start_time": "2021-11-25T11:17:21.227Z"
   },
   {
    "duration": 38,
    "start_time": "2021-11-25T11:17:21.254Z"
   },
   {
    "duration": 28,
    "start_time": "2021-11-25T11:17:21.294Z"
   },
   {
    "duration": 78,
    "start_time": "2021-11-25T11:17:21.323Z"
   },
   {
    "duration": 57,
    "start_time": "2021-11-25T11:17:21.402Z"
   },
   {
    "duration": 57,
    "start_time": "2021-11-25T11:17:21.461Z"
   },
   {
    "duration": 38,
    "start_time": "2021-11-25T11:17:21.519Z"
   },
   {
    "duration": 6,
    "start_time": "2021-11-25T11:17:21.559Z"
   },
   {
    "duration": 31,
    "start_time": "2021-11-25T11:17:21.566Z"
   },
   {
    "duration": 37,
    "start_time": "2021-11-25T11:17:21.599Z"
   },
   {
    "duration": 29,
    "start_time": "2021-11-25T11:17:21.638Z"
   },
   {
    "duration": 48,
    "start_time": "2021-11-25T11:17:21.669Z"
   },
   {
    "duration": 3,
    "start_time": "2021-11-25T11:17:21.718Z"
   },
   {
    "duration": 18,
    "start_time": "2021-11-25T11:17:21.722Z"
   },
   {
    "duration": 14,
    "start_time": "2021-11-25T11:17:21.741Z"
   },
   {
    "duration": 40,
    "start_time": "2021-11-25T11:17:21.758Z"
   },
   {
    "duration": 11,
    "start_time": "2021-11-25T11:17:21.800Z"
   },
   {
    "duration": 14,
    "start_time": "2021-11-25T11:17:21.813Z"
   },
   {
    "duration": 12,
    "start_time": "2021-11-25T11:17:21.829Z"
   },
   {
    "duration": 274,
    "start_time": "2021-11-25T11:17:21.842Z"
   },
   {
    "duration": 30,
    "start_time": "2021-11-25T11:17:22.088Z"
   },
   {
    "duration": 23,
    "start_time": "2021-11-25T11:17:22.095Z"
   },
   {
    "duration": 19,
    "start_time": "2021-11-25T11:17:22.100Z"
   },
   {
    "duration": 13,
    "start_time": "2021-11-25T11:17:22.107Z"
   },
   {
    "duration": 9,
    "start_time": "2021-11-25T11:17:22.112Z"
   },
   {
    "duration": 4,
    "start_time": "2021-11-25T11:17:22.118Z"
   },
   {
    "duration": -4,
    "start_time": "2021-11-25T11:17:22.126Z"
   },
   {
    "duration": -19,
    "start_time": "2021-11-25T11:17:22.142Z"
   },
   {
    "duration": -47,
    "start_time": "2021-11-25T11:17:22.172Z"
   },
   {
    "duration": -52,
    "start_time": "2021-11-25T11:17:22.178Z"
   },
   {
    "duration": -58,
    "start_time": "2021-11-25T11:17:22.184Z"
   },
   {
    "duration": 248,
    "start_time": "2021-11-25T11:17:52.884Z"
   },
   {
    "duration": 222,
    "start_time": "2021-11-25T11:18:28.119Z"
   },
   {
    "duration": 249,
    "start_time": "2021-11-25T11:28:05.136Z"
   },
   {
    "duration": 224,
    "start_time": "2021-11-25T11:28:23.829Z"
   },
   {
    "duration": 270,
    "start_time": "2021-11-25T11:32:10.055Z"
   },
   {
    "duration": 239,
    "start_time": "2021-11-25T11:32:17.365Z"
   },
   {
    "duration": 243,
    "start_time": "2021-11-25T11:32:42.976Z"
   },
   {
    "duration": 225,
    "start_time": "2021-11-25T11:33:22.575Z"
   },
   {
    "duration": 220,
    "start_time": "2021-11-25T11:33:38.357Z"
   },
   {
    "duration": 257,
    "start_time": "2021-11-25T11:36:23.588Z"
   },
   {
    "duration": 227,
    "start_time": "2021-11-25T11:36:50.389Z"
   },
   {
    "duration": 221,
    "start_time": "2021-11-25T11:38:38.281Z"
   },
   {
    "duration": 78,
    "start_time": "2021-11-25T11:40:50.434Z"
   },
   {
    "duration": 225,
    "start_time": "2021-11-25T11:40:53.654Z"
   },
   {
    "duration": 244,
    "start_time": "2021-11-25T11:41:08.957Z"
   },
   {
    "duration": 222,
    "start_time": "2021-11-25T11:41:21.440Z"
   },
   {
    "duration": 229,
    "start_time": "2021-11-25T11:47:20.204Z"
   },
   {
    "duration": 232,
    "start_time": "2021-11-25T11:48:40.382Z"
   },
   {
    "duration": 256,
    "start_time": "2021-11-25T11:49:07.408Z"
   },
   {
    "duration": 8,
    "start_time": "2021-11-25T11:49:19.345Z"
   },
   {
    "duration": 446,
    "start_time": "2021-11-25T19:44:58.574Z"
   },
   {
    "duration": 786,
    "start_time": "2021-11-25T19:45:24.845Z"
   },
   {
    "duration": 201,
    "start_time": "2021-11-25T19:45:25.633Z"
   },
   {
    "duration": 24,
    "start_time": "2021-11-25T19:45:25.837Z"
   },
   {
    "duration": 35,
    "start_time": "2021-11-25T19:45:25.863Z"
   },
   {
    "duration": 6,
    "start_time": "2021-11-25T19:45:25.901Z"
   },
   {
    "duration": 58,
    "start_time": "2021-11-25T19:45:25.909Z"
   },
   {
    "duration": 11,
    "start_time": "2021-11-25T19:45:25.969Z"
   },
   {
    "duration": 43,
    "start_time": "2021-11-25T19:45:25.984Z"
   },
   {
    "duration": 30,
    "start_time": "2021-11-25T19:45:26.030Z"
   },
   {
    "duration": 31,
    "start_time": "2021-11-25T19:45:26.063Z"
   },
   {
    "duration": 115,
    "start_time": "2021-11-25T19:45:26.097Z"
   },
   {
    "duration": 106,
    "start_time": "2021-11-25T19:45:26.214Z"
   },
   {
    "duration": 87,
    "start_time": "2021-11-25T19:45:26.322Z"
   },
   {
    "duration": 61,
    "start_time": "2021-11-25T19:45:26.412Z"
   },
   {
    "duration": 4,
    "start_time": "2021-11-25T19:45:26.476Z"
   },
   {
    "duration": 25,
    "start_time": "2021-11-25T19:45:26.483Z"
   },
   {
    "duration": 81,
    "start_time": "2021-11-25T19:45:26.511Z"
   },
   {
    "duration": 45,
    "start_time": "2021-11-25T19:45:26.594Z"
   },
   {
    "duration": 58,
    "start_time": "2021-11-25T19:45:26.641Z"
   },
   {
    "duration": 5,
    "start_time": "2021-11-25T19:45:26.701Z"
   },
   {
    "duration": 24,
    "start_time": "2021-11-25T19:45:26.708Z"
   },
   {
    "duration": 40,
    "start_time": "2021-11-25T19:45:26.734Z"
   },
   {
    "duration": 19,
    "start_time": "2021-11-25T19:45:26.778Z"
   },
   {
    "duration": 18,
    "start_time": "2021-11-25T19:45:26.799Z"
   },
   {
    "duration": 58,
    "start_time": "2021-11-25T19:45:26.819Z"
   },
   {
    "duration": 22,
    "start_time": "2021-11-25T19:45:26.880Z"
   },
   {
    "duration": 13,
    "start_time": "2021-11-25T19:45:26.905Z"
   },
   {
    "duration": 48,
    "start_time": "2021-11-25T19:45:26.920Z"
   },
   {
    "duration": 3,
    "start_time": "2021-11-25T19:45:26.970Z"
   },
   {
    "duration": 8,
    "start_time": "2021-11-25T19:45:26.975Z"
   },
   {
    "duration": 5,
    "start_time": "2021-11-25T19:45:26.985Z"
   },
   {
    "duration": 10,
    "start_time": "2021-11-25T19:45:26.993Z"
   },
   {
    "duration": 7,
    "start_time": "2021-11-25T19:45:27.005Z"
   },
   {
    "duration": 7,
    "start_time": "2021-11-25T19:45:27.014Z"
   },
   {
    "duration": 38,
    "start_time": "2021-11-25T19:45:27.023Z"
   },
   {
    "duration": 8,
    "start_time": "2021-11-25T19:45:27.064Z"
   },
   {
    "duration": 12,
    "start_time": "2021-11-25T19:45:27.074Z"
   },
   {
    "duration": 10,
    "start_time": "2021-11-25T19:45:27.088Z"
   },
   {
    "duration": 18,
    "start_time": "2021-11-25T19:45:33.757Z"
   },
   {
    "duration": 12,
    "start_time": "2021-11-25T19:46:28.724Z"
   },
   {
    "duration": 6,
    "start_time": "2021-11-25T20:00:17.280Z"
   },
   {
    "duration": 6,
    "start_time": "2021-11-25T20:01:46.486Z"
   },
   {
    "duration": 6,
    "start_time": "2021-11-25T20:01:58.696Z"
   },
   {
    "duration": 129,
    "start_time": "2021-11-25T20:15:20.943Z"
   },
   {
    "duration": 6,
    "start_time": "2021-11-25T20:15:29.363Z"
   },
   {
    "duration": 829,
    "start_time": "2021-11-25T20:17:42.678Z"
   },
   {
    "duration": 1014,
    "start_time": "2021-11-25T20:20:48.510Z"
   },
   {
    "duration": 765,
    "start_time": "2021-11-25T20:21:50.592Z"
   },
   {
    "duration": 6,
    "start_time": "2021-11-25T20:23:49.226Z"
   },
   {
    "duration": 25,
    "start_time": "2021-11-25T20:23:52.484Z"
   },
   {
    "duration": 26,
    "start_time": "2021-11-25T20:24:30.977Z"
   },
   {
    "duration": 24,
    "start_time": "2021-11-25T20:24:35.680Z"
   },
   {
    "duration": 29,
    "start_time": "2021-11-25T20:24:56.985Z"
   },
   {
    "duration": 17,
    "start_time": "2021-11-25T20:25:59.814Z"
   },
   {
    "duration": 25,
    "start_time": "2021-11-25T20:27:40.935Z"
   },
   {
    "duration": 21,
    "start_time": "2021-11-25T20:28:23.523Z"
   },
   {
    "duration": 24,
    "start_time": "2021-11-25T20:29:14.301Z"
   },
   {
    "duration": 444,
    "start_time": "2021-11-25T20:36:22.060Z"
   },
   {
    "duration": 121,
    "start_time": "2021-11-25T20:37:00.083Z"
   },
   {
    "duration": 29,
    "start_time": "2021-11-25T20:37:13.414Z"
   },
   {
    "duration": 660,
    "start_time": "2021-11-25T20:39:37.797Z"
   },
   {
    "duration": 390,
    "start_time": "2021-11-25T20:40:01.762Z"
   },
   {
    "duration": 11,
    "start_time": "2021-11-25T20:41:29.707Z"
   },
   {
    "duration": 11,
    "start_time": "2021-11-25T20:41:34.972Z"
   },
   {
    "duration": 11,
    "start_time": "2021-11-25T20:41:50.530Z"
   },
   {
    "duration": 11,
    "start_time": "2021-11-25T20:43:04.560Z"
   },
   {
    "duration": 7,
    "start_time": "2021-11-25T20:43:31.201Z"
   },
   {
    "duration": 429,
    "start_time": "2021-11-25T20:51:17.814Z"
   },
   {
    "duration": 8,
    "start_time": "2021-11-25T20:51:42.115Z"
   },
   {
    "duration": 7,
    "start_time": "2021-11-25T20:53:24.995Z"
   },
   {
    "duration": 707,
    "start_time": "2021-11-26T07:30:12.535Z"
   },
   {
    "duration": 164,
    "start_time": "2021-11-26T07:30:13.245Z"
   },
   {
    "duration": 11,
    "start_time": "2021-11-26T07:30:13.411Z"
   },
   {
    "duration": 40,
    "start_time": "2021-11-26T07:30:13.424Z"
   },
   {
    "duration": 4,
    "start_time": "2021-11-26T07:30:13.466Z"
   },
   {
    "duration": 33,
    "start_time": "2021-11-26T07:30:13.472Z"
   },
   {
    "duration": 20,
    "start_time": "2021-11-26T07:30:13.507Z"
   },
   {
    "duration": 32,
    "start_time": "2021-11-26T07:30:13.529Z"
   },
   {
    "duration": 21,
    "start_time": "2021-11-26T07:30:13.564Z"
   },
   {
    "duration": 25,
    "start_time": "2021-11-26T07:30:13.588Z"
   },
   {
    "duration": 81,
    "start_time": "2021-11-26T07:30:13.615Z"
   },
   {
    "duration": 89,
    "start_time": "2021-11-26T07:30:13.697Z"
   },
   {
    "duration": 52,
    "start_time": "2021-11-26T07:30:13.788Z"
   },
   {
    "duration": 48,
    "start_time": "2021-11-26T07:30:13.842Z"
   },
   {
    "duration": 2,
    "start_time": "2021-11-26T07:30:13.892Z"
   },
   {
    "duration": 32,
    "start_time": "2021-11-26T07:30:13.896Z"
   },
   {
    "duration": 43,
    "start_time": "2021-11-26T07:30:13.929Z"
   },
   {
    "duration": 31,
    "start_time": "2021-11-26T07:30:13.974Z"
   },
   {
    "duration": 32,
    "start_time": "2021-11-26T07:30:14.006Z"
   },
   {
    "duration": 23,
    "start_time": "2021-11-26T07:30:14.040Z"
   },
   {
    "duration": 20,
    "start_time": "2021-11-26T07:30:14.066Z"
   },
   {
    "duration": 15,
    "start_time": "2021-11-26T07:30:14.088Z"
   },
   {
    "duration": 16,
    "start_time": "2021-11-26T07:30:14.105Z"
   },
   {
    "duration": 44,
    "start_time": "2021-11-26T07:30:14.122Z"
   },
   {
    "duration": 19,
    "start_time": "2021-11-26T07:30:14.168Z"
   },
   {
    "duration": 16,
    "start_time": "2021-11-26T07:30:14.189Z"
   },
   {
    "duration": 8,
    "start_time": "2021-11-26T07:30:14.210Z"
   },
   {
    "duration": 46,
    "start_time": "2021-11-26T07:30:14.220Z"
   },
   {
    "duration": 11,
    "start_time": "2021-11-26T07:30:14.268Z"
   },
   {
    "duration": 8,
    "start_time": "2021-11-26T07:30:14.281Z"
   },
   {
    "duration": 27,
    "start_time": "2021-11-26T07:30:14.290Z"
   },
   {
    "duration": 14,
    "start_time": "2021-11-26T07:30:14.319Z"
   },
   {
    "duration": 41,
    "start_time": "2021-11-26T07:30:14.335Z"
   },
   {
    "duration": 12,
    "start_time": "2021-11-26T07:30:14.378Z"
   },
   {
    "duration": 8,
    "start_time": "2021-11-26T07:30:14.392Z"
   },
   {
    "duration": 4,
    "start_time": "2021-11-26T07:30:14.402Z"
   },
   {
    "duration": 10,
    "start_time": "2021-11-26T07:30:14.408Z"
   },
   {
    "duration": 11,
    "start_time": "2021-11-26T07:30:14.419Z"
   },
   {
    "duration": 18,
    "start_time": "2021-11-26T07:30:50.680Z"
   },
   {
    "duration": 56,
    "start_time": "2021-11-26T07:31:20.065Z"
   },
   {
    "duration": 12,
    "start_time": "2021-11-26T07:32:31.990Z"
   },
   {
    "duration": 69,
    "start_time": "2022-04-27T12:16:52.446Z"
   },
   {
    "duration": 8,
    "start_time": "2022-04-27T12:17:06.407Z"
   },
   {
    "duration": 9,
    "start_time": "2022-04-27T12:17:16.588Z"
   },
   {
    "duration": 500,
    "start_time": "2022-04-27T12:17:30.999Z"
   },
   {
    "duration": 226,
    "start_time": "2022-04-27T12:17:31.502Z"
   },
   {
    "duration": 840,
    "start_time": "2022-04-27T12:17:31.730Z"
   },
   {
    "duration": 20,
    "start_time": "2022-04-27T12:17:32.574Z"
   },
   {
    "duration": 105,
    "start_time": "2022-04-27T12:17:32.597Z"
   },
   {
    "duration": 5,
    "start_time": "2022-04-27T12:17:32.705Z"
   },
   {
    "duration": 24,
    "start_time": "2022-04-27T12:17:32.712Z"
   },
   {
    "duration": 21,
    "start_time": "2022-04-27T12:17:32.738Z"
   },
   {
    "duration": 8,
    "start_time": "2022-04-27T12:17:32.762Z"
   },
   {
    "duration": 34,
    "start_time": "2022-04-27T12:17:32.773Z"
   },
   {
    "duration": 31,
    "start_time": "2022-04-27T12:17:32.811Z"
   },
   {
    "duration": 73,
    "start_time": "2022-04-27T12:17:32.845Z"
   },
   {
    "duration": 198,
    "start_time": "2022-04-27T12:17:32.920Z"
   },
   {
    "duration": 123,
    "start_time": "2022-04-27T12:17:33.121Z"
   },
   {
    "duration": 93,
    "start_time": "2022-04-27T12:17:33.246Z"
   },
   {
    "duration": 100,
    "start_time": "2022-04-27T12:17:33.341Z"
   },
   {
    "duration": 62,
    "start_time": "2022-04-27T12:17:33.443Z"
   },
   {
    "duration": 4,
    "start_time": "2022-04-27T12:17:33.507Z"
   },
   {
    "duration": 38,
    "start_time": "2022-04-27T12:17:33.513Z"
   },
   {
    "duration": 73,
    "start_time": "2022-04-27T12:17:33.553Z"
   },
   {
    "duration": 65,
    "start_time": "2022-04-27T12:17:33.628Z"
   },
   {
    "duration": 18,
    "start_time": "2022-04-27T12:17:33.695Z"
   },
   {
    "duration": 74,
    "start_time": "2022-04-27T12:17:33.715Z"
   },
   {
    "duration": 4,
    "start_time": "2022-04-27T12:17:33.791Z"
   },
   {
    "duration": 25,
    "start_time": "2022-04-27T12:17:33.797Z"
   },
   {
    "duration": 20,
    "start_time": "2022-04-27T12:17:33.824Z"
   },
   {
    "duration": 52,
    "start_time": "2022-04-27T12:17:33.846Z"
   },
   {
    "duration": 20,
    "start_time": "2022-04-27T12:17:33.903Z"
   },
   {
    "duration": 24,
    "start_time": "2022-04-27T12:17:33.925Z"
   },
   {
    "duration": 21,
    "start_time": "2022-04-27T12:17:33.982Z"
   },
   {
    "duration": 13,
    "start_time": "2022-04-27T12:17:34.005Z"
   },
   {
    "duration": 25,
    "start_time": "2022-04-27T12:17:34.020Z"
   },
   {
    "duration": 41,
    "start_time": "2022-04-27T12:17:34.048Z"
   },
   {
    "duration": 8,
    "start_time": "2022-04-27T12:17:34.091Z"
   },
   {
    "duration": 40,
    "start_time": "2022-04-27T12:17:34.102Z"
   },
   {
    "duration": 42,
    "start_time": "2022-04-27T12:17:34.144Z"
   },
   {
    "duration": 30,
    "start_time": "2022-04-27T12:17:34.189Z"
   },
   {
    "duration": 20,
    "start_time": "2022-04-27T12:17:34.222Z"
   },
   {
    "duration": 49,
    "start_time": "2022-04-27T12:17:34.244Z"
   },
   {
    "duration": 8,
    "start_time": "2022-04-27T12:17:34.296Z"
   },
   {
    "duration": 14,
    "start_time": "2022-04-27T12:17:34.306Z"
   },
   {
    "duration": 24,
    "start_time": "2022-04-27T12:17:34.322Z"
   },
   {
    "duration": 597,
    "start_time": "2022-04-27T12:17:48.738Z"
   },
   {
    "duration": 619,
    "start_time": "2022-04-27T12:32:47.217Z"
   },
   {
    "duration": 622,
    "start_time": "2022-04-27T12:34:20.613Z"
   },
   {
    "duration": 420,
    "start_time": "2022-09-06T11:31:08.397Z"
   },
   {
    "duration": 535,
    "start_time": "2022-09-06T11:31:50.126Z"
   },
   {
    "duration": 12,
    "start_time": "2022-09-06T11:32:40.628Z"
   },
   {
    "duration": 46,
    "start_time": "2022-09-06T11:33:21.767Z"
   },
   {
    "duration": 4,
    "start_time": "2022-09-06T11:40:27.433Z"
   },
   {
    "duration": 10,
    "start_time": "2022-09-06T11:41:27.979Z"
   },
   {
    "duration": 13,
    "start_time": "2022-09-06T11:41:28.349Z"
   },
   {
    "duration": 4,
    "start_time": "2022-09-06T11:42:07.096Z"
   },
   {
    "duration": 34,
    "start_time": "2022-09-06T11:43:02.775Z"
   },
   {
    "duration": 21,
    "start_time": "2022-09-06T11:44:39.800Z"
   },
   {
    "duration": 36,
    "start_time": "2022-09-06T11:45:05.604Z"
   },
   {
    "duration": 60,
    "start_time": "2022-09-06T11:46:18.331Z"
   },
   {
    "duration": 85,
    "start_time": "2022-09-06T11:46:52.789Z"
   },
   {
    "duration": 55,
    "start_time": "2022-09-06T11:47:15.141Z"
   },
   {
    "duration": 61,
    "start_time": "2022-09-06T11:47:38.540Z"
   },
   {
    "duration": 47,
    "start_time": "2022-09-06T11:48:50.248Z"
   },
   {
    "duration": 3,
    "start_time": "2022-09-06T11:50:41.200Z"
   },
   {
    "duration": 3,
    "start_time": "2022-09-06T11:50:52.054Z"
   },
   {
    "duration": 35,
    "start_time": "2022-09-06T11:51:10.024Z"
   },
   {
    "duration": 67,
    "start_time": "2022-09-06T11:51:24.292Z"
   },
   {
    "duration": 43,
    "start_time": "2022-09-06T11:54:21.093Z"
   },
   {
    "duration": 11,
    "start_time": "2022-09-06T11:54:27.359Z"
   },
   {
    "duration": 40,
    "start_time": "2022-09-06T11:54:40.433Z"
   },
   {
    "duration": 33,
    "start_time": "2022-09-06T11:55:38.580Z"
   },
   {
    "duration": 12,
    "start_time": "2022-09-06T13:18:43.252Z"
   },
   {
    "duration": 50,
    "start_time": "2022-09-07T10:15:21.334Z"
   },
   {
    "duration": 364,
    "start_time": "2022-09-07T10:15:33.338Z"
   },
   {
    "duration": 212,
    "start_time": "2022-09-07T10:15:33.704Z"
   },
   {
    "duration": 10,
    "start_time": "2022-09-07T10:15:33.917Z"
   },
   {
    "duration": 28,
    "start_time": "2022-09-07T10:15:33.928Z"
   },
   {
    "duration": 6,
    "start_time": "2022-09-07T10:15:33.957Z"
   },
   {
    "duration": 16,
    "start_time": "2022-09-07T10:15:33.965Z"
   },
   {
    "duration": 19,
    "start_time": "2022-09-07T10:15:33.983Z"
   },
   {
    "duration": 11,
    "start_time": "2022-09-07T10:15:34.004Z"
   },
   {
    "duration": 31,
    "start_time": "2022-09-07T10:15:34.016Z"
   },
   {
    "duration": 20,
    "start_time": "2022-09-07T10:15:34.049Z"
   },
   {
    "duration": 21,
    "start_time": "2022-09-07T10:15:34.071Z"
   },
   {
    "duration": 62,
    "start_time": "2022-09-07T10:15:34.094Z"
   },
   {
    "duration": 72,
    "start_time": "2022-09-07T10:15:34.157Z"
   },
   {
    "duration": 51,
    "start_time": "2022-09-07T10:15:34.230Z"
   },
   {
    "duration": 59,
    "start_time": "2022-09-07T10:15:34.282Z"
   },
   {
    "duration": 37,
    "start_time": "2022-09-07T10:15:34.342Z"
   },
   {
    "duration": 17,
    "start_time": "2022-09-07T10:15:34.381Z"
   },
   {
    "duration": 26,
    "start_time": "2022-09-07T10:15:34.400Z"
   },
   {
    "duration": 43,
    "start_time": "2022-09-07T10:15:34.428Z"
   },
   {
    "duration": 53,
    "start_time": "2022-09-07T10:15:34.473Z"
   },
   {
    "duration": 12,
    "start_time": "2022-09-07T10:15:34.528Z"
   },
   {
    "duration": 40,
    "start_time": "2022-09-07T10:15:34.541Z"
   },
   {
    "duration": 5,
    "start_time": "2022-09-07T10:15:34.582Z"
   },
   {
    "duration": 21,
    "start_time": "2022-09-07T10:15:34.598Z"
   },
   {
    "duration": 14,
    "start_time": "2022-09-07T10:15:34.620Z"
   },
   {
    "duration": 11,
    "start_time": "2022-09-07T10:15:34.636Z"
   },
   {
    "duration": 14,
    "start_time": "2022-09-07T10:15:34.648Z"
   },
   {
    "duration": 15,
    "start_time": "2022-09-07T10:15:34.665Z"
   },
   {
    "duration": 24,
    "start_time": "2022-09-07T10:15:34.682Z"
   },
   {
    "duration": 9,
    "start_time": "2022-09-07T10:15:34.707Z"
   },
   {
    "duration": 11,
    "start_time": "2022-09-07T10:15:34.717Z"
   },
   {
    "duration": 14,
    "start_time": "2022-09-07T10:15:34.729Z"
   },
   {
    "duration": 12,
    "start_time": "2022-09-07T10:15:34.744Z"
   },
   {
    "duration": 21,
    "start_time": "2022-09-07T10:15:34.758Z"
   },
   {
    "duration": 15,
    "start_time": "2022-09-07T10:15:34.780Z"
   },
   {
    "duration": 13,
    "start_time": "2022-09-07T10:15:34.797Z"
   },
   {
    "duration": 9,
    "start_time": "2022-09-07T10:15:34.811Z"
   },
   {
    "duration": 9,
    "start_time": "2022-09-07T10:15:34.822Z"
   },
   {
    "duration": 13,
    "start_time": "2022-09-07T10:15:34.832Z"
   },
   {
    "duration": 16,
    "start_time": "2022-09-07T10:15:34.847Z"
   },
   {
    "duration": 11,
    "start_time": "2022-09-07T10:15:34.865Z"
   },
   {
    "duration": 13,
    "start_time": "2022-09-07T10:18:38.701Z"
   },
   {
    "duration": 3,
    "start_time": "2022-09-07T10:30:35.355Z"
   },
   {
    "duration": 129,
    "start_time": "2022-09-07T10:31:23.032Z"
   },
   {
    "duration": 18,
    "start_time": "2022-09-07T10:33:37.001Z"
   },
   {
    "duration": 11,
    "start_time": "2022-09-07T10:33:52.149Z"
   },
   {
    "duration": 19,
    "start_time": "2022-09-07T10:34:08.544Z"
   },
   {
    "duration": 11,
    "start_time": "2022-09-07T10:34:09.136Z"
   },
   {
    "duration": 15,
    "start_time": "2022-09-07T10:34:18.728Z"
   },
   {
    "duration": 10,
    "start_time": "2022-09-07T10:34:29.384Z"
   },
   {
    "duration": 8,
    "start_time": "2022-09-07T10:41:51.494Z"
   },
   {
    "duration": 4,
    "start_time": "2022-09-07T10:42:04.092Z"
   },
   {
    "duration": 5,
    "start_time": "2022-09-07T10:42:42.990Z"
   },
   {
    "duration": 6,
    "start_time": "2022-09-07T10:43:25.252Z"
   },
   {
    "duration": 5,
    "start_time": "2022-09-07T10:43:26.021Z"
   },
   {
    "duration": 5,
    "start_time": "2022-09-07T10:43:31.274Z"
   }
  ],
  "colab": {
   "collapsed_sections": [
    "E0vqbgi9ay0H",
    "VUC88oWjTJw2"
   ],
   "name": "yandex_music_project_2021.2.ipynb",
   "provenance": []
  },
  "kernelspec": {
   "display_name": "Python 3 (ipykernel)",
   "language": "python",
   "name": "python3"
  },
  "language_info": {
   "codemirror_mode": {
    "name": "ipython",
    "version": 3
   },
   "file_extension": ".py",
   "mimetype": "text/x-python",
   "name": "python",
   "nbconvert_exporter": "python",
   "pygments_lexer": "ipython3",
   "version": "3.9.5"
  },
  "toc": {
   "base_numbering": 1,
   "nav_menu": {},
   "number_sections": true,
   "sideBar": true,
   "skip_h1_title": true,
   "title_cell": "Table of Contents",
   "title_sidebar": "Contents",
   "toc_cell": false,
   "toc_position": {},
   "toc_section_display": true,
   "toc_window_display": false
  }
 },
 "nbformat": 4,
 "nbformat_minor": 1
}
